{
  "nbformat": 4,
  "nbformat_minor": 0,
  "metadata": {
    "kernelspec": {
      "display_name": "Python 3",
      "language": "python",
      "name": "python3"
    },
    "language_info": {
      "codemirror_mode": {
        "name": "ipython",
        "version": 3
      },
      "file_extension": ".py",
      "mimetype": "text/x-python",
      "name": "python",
      "nbconvert_exporter": "python",
      "pygments_lexer": "ipython3",
      "version": "3.7.7"
    },
    "latex_envs": {
      "LaTeX_envs_menu_present": true,
      "autoclose": false,
      "autocomplete": true,
      "bibliofile": "biblio.bib",
      "cite_by": "apalike",
      "current_citInitial": 1,
      "eqLabelWithNumbers": true,
      "eqNumInitial": 1,
      "hotkeys": {
        "equation": "Ctrl-E",
        "itemize": "Ctrl-I"
      },
      "labels_anchors": false,
      "latex_user_defs": false,
      "report_style_numbering": false,
      "user_envs_cfg": false
    },
    "colab": {
      "provenance": []
    },
    "widgets": {
      "application/vnd.jupyter.widget-state+json": {
        "4b92af4d93354b63bf5db024f0dd37a7": {
          "model_module": "@jupyter-widgets/controls",
          "model_name": "HBoxModel",
          "model_module_version": "1.5.0",
          "state": {
            "_dom_classes": [],
            "_model_module": "@jupyter-widgets/controls",
            "_model_module_version": "1.5.0",
            "_model_name": "HBoxModel",
            "_view_count": null,
            "_view_module": "@jupyter-widgets/controls",
            "_view_module_version": "1.5.0",
            "_view_name": "HBoxView",
            "box_style": "",
            "children": [
              "IPY_MODEL_47a8d639db6e4d0a9a2bdeff476960f8",
              "IPY_MODEL_e7e848cc9c884f1b91de8ffa7aa96095",
              "IPY_MODEL_fb86f8b2affe485981417cdb895bfcca"
            ],
            "layout": "IPY_MODEL_841146b57bb64340a7b83f5bae19b444"
          }
        },
        "47a8d639db6e4d0a9a2bdeff476960f8": {
          "model_module": "@jupyter-widgets/controls",
          "model_name": "HTMLModel",
          "model_module_version": "1.5.0",
          "state": {
            "_dom_classes": [],
            "_model_module": "@jupyter-widgets/controls",
            "_model_module_version": "1.5.0",
            "_model_name": "HTMLModel",
            "_view_count": null,
            "_view_module": "@jupyter-widgets/controls",
            "_view_module_version": "1.5.0",
            "_view_name": "HTMLView",
            "description": "",
            "description_tooltip": null,
            "layout": "IPY_MODEL_9b8d3eb7ba6c420aa492df90dc163b81",
            "placeholder": "​",
            "style": "IPY_MODEL_832caeb258ad4bee97fbe34a5a465ad9",
            "value": "100%"
          }
        },
        "e7e848cc9c884f1b91de8ffa7aa96095": {
          "model_module": "@jupyter-widgets/controls",
          "model_name": "FloatProgressModel",
          "model_module_version": "1.5.0",
          "state": {
            "_dom_classes": [],
            "_model_module": "@jupyter-widgets/controls",
            "_model_module_version": "1.5.0",
            "_model_name": "FloatProgressModel",
            "_view_count": null,
            "_view_module": "@jupyter-widgets/controls",
            "_view_module_version": "1.5.0",
            "_view_name": "ProgressView",
            "bar_style": "success",
            "description": "",
            "description_tooltip": null,
            "layout": "IPY_MODEL_c8cc080cac9941c2ba93bb735ff8d4df",
            "max": 26421880,
            "min": 0,
            "orientation": "horizontal",
            "style": "IPY_MODEL_6e8d823f13a54e969e28a08b3fe285bd",
            "value": 26421880
          }
        },
        "fb86f8b2affe485981417cdb895bfcca": {
          "model_module": "@jupyter-widgets/controls",
          "model_name": "HTMLModel",
          "model_module_version": "1.5.0",
          "state": {
            "_dom_classes": [],
            "_model_module": "@jupyter-widgets/controls",
            "_model_module_version": "1.5.0",
            "_model_name": "HTMLModel",
            "_view_count": null,
            "_view_module": "@jupyter-widgets/controls",
            "_view_module_version": "1.5.0",
            "_view_name": "HTMLView",
            "description": "",
            "description_tooltip": null,
            "layout": "IPY_MODEL_769158f9e1ea4270a461931c113b4cd2",
            "placeholder": "​",
            "style": "IPY_MODEL_34648a0d067448f1bf3fb52212118ed2",
            "value": " 26421880/26421880 [00:01&lt;00:00, 25239154.10it/s]"
          }
        },
        "841146b57bb64340a7b83f5bae19b444": {
          "model_module": "@jupyter-widgets/base",
          "model_name": "LayoutModel",
          "model_module_version": "1.2.0",
          "state": {
            "_model_module": "@jupyter-widgets/base",
            "_model_module_version": "1.2.0",
            "_model_name": "LayoutModel",
            "_view_count": null,
            "_view_module": "@jupyter-widgets/base",
            "_view_module_version": "1.2.0",
            "_view_name": "LayoutView",
            "align_content": null,
            "align_items": null,
            "align_self": null,
            "border": null,
            "bottom": null,
            "display": null,
            "flex": null,
            "flex_flow": null,
            "grid_area": null,
            "grid_auto_columns": null,
            "grid_auto_flow": null,
            "grid_auto_rows": null,
            "grid_column": null,
            "grid_gap": null,
            "grid_row": null,
            "grid_template_areas": null,
            "grid_template_columns": null,
            "grid_template_rows": null,
            "height": null,
            "justify_content": null,
            "justify_items": null,
            "left": null,
            "margin": null,
            "max_height": null,
            "max_width": null,
            "min_height": null,
            "min_width": null,
            "object_fit": null,
            "object_position": null,
            "order": null,
            "overflow": null,
            "overflow_x": null,
            "overflow_y": null,
            "padding": null,
            "right": null,
            "top": null,
            "visibility": null,
            "width": null
          }
        },
        "9b8d3eb7ba6c420aa492df90dc163b81": {
          "model_module": "@jupyter-widgets/base",
          "model_name": "LayoutModel",
          "model_module_version": "1.2.0",
          "state": {
            "_model_module": "@jupyter-widgets/base",
            "_model_module_version": "1.2.0",
            "_model_name": "LayoutModel",
            "_view_count": null,
            "_view_module": "@jupyter-widgets/base",
            "_view_module_version": "1.2.0",
            "_view_name": "LayoutView",
            "align_content": null,
            "align_items": null,
            "align_self": null,
            "border": null,
            "bottom": null,
            "display": null,
            "flex": null,
            "flex_flow": null,
            "grid_area": null,
            "grid_auto_columns": null,
            "grid_auto_flow": null,
            "grid_auto_rows": null,
            "grid_column": null,
            "grid_gap": null,
            "grid_row": null,
            "grid_template_areas": null,
            "grid_template_columns": null,
            "grid_template_rows": null,
            "height": null,
            "justify_content": null,
            "justify_items": null,
            "left": null,
            "margin": null,
            "max_height": null,
            "max_width": null,
            "min_height": null,
            "min_width": null,
            "object_fit": null,
            "object_position": null,
            "order": null,
            "overflow": null,
            "overflow_x": null,
            "overflow_y": null,
            "padding": null,
            "right": null,
            "top": null,
            "visibility": null,
            "width": null
          }
        },
        "832caeb258ad4bee97fbe34a5a465ad9": {
          "model_module": "@jupyter-widgets/controls",
          "model_name": "DescriptionStyleModel",
          "model_module_version": "1.5.0",
          "state": {
            "_model_module": "@jupyter-widgets/controls",
            "_model_module_version": "1.5.0",
            "_model_name": "DescriptionStyleModel",
            "_view_count": null,
            "_view_module": "@jupyter-widgets/base",
            "_view_module_version": "1.2.0",
            "_view_name": "StyleView",
            "description_width": ""
          }
        },
        "c8cc080cac9941c2ba93bb735ff8d4df": {
          "model_module": "@jupyter-widgets/base",
          "model_name": "LayoutModel",
          "model_module_version": "1.2.0",
          "state": {
            "_model_module": "@jupyter-widgets/base",
            "_model_module_version": "1.2.0",
            "_model_name": "LayoutModel",
            "_view_count": null,
            "_view_module": "@jupyter-widgets/base",
            "_view_module_version": "1.2.0",
            "_view_name": "LayoutView",
            "align_content": null,
            "align_items": null,
            "align_self": null,
            "border": null,
            "bottom": null,
            "display": null,
            "flex": null,
            "flex_flow": null,
            "grid_area": null,
            "grid_auto_columns": null,
            "grid_auto_flow": null,
            "grid_auto_rows": null,
            "grid_column": null,
            "grid_gap": null,
            "grid_row": null,
            "grid_template_areas": null,
            "grid_template_columns": null,
            "grid_template_rows": null,
            "height": null,
            "justify_content": null,
            "justify_items": null,
            "left": null,
            "margin": null,
            "max_height": null,
            "max_width": null,
            "min_height": null,
            "min_width": null,
            "object_fit": null,
            "object_position": null,
            "order": null,
            "overflow": null,
            "overflow_x": null,
            "overflow_y": null,
            "padding": null,
            "right": null,
            "top": null,
            "visibility": null,
            "width": null
          }
        },
        "6e8d823f13a54e969e28a08b3fe285bd": {
          "model_module": "@jupyter-widgets/controls",
          "model_name": "ProgressStyleModel",
          "model_module_version": "1.5.0",
          "state": {
            "_model_module": "@jupyter-widgets/controls",
            "_model_module_version": "1.5.0",
            "_model_name": "ProgressStyleModel",
            "_view_count": null,
            "_view_module": "@jupyter-widgets/base",
            "_view_module_version": "1.2.0",
            "_view_name": "StyleView",
            "bar_color": null,
            "description_width": ""
          }
        },
        "769158f9e1ea4270a461931c113b4cd2": {
          "model_module": "@jupyter-widgets/base",
          "model_name": "LayoutModel",
          "model_module_version": "1.2.0",
          "state": {
            "_model_module": "@jupyter-widgets/base",
            "_model_module_version": "1.2.0",
            "_model_name": "LayoutModel",
            "_view_count": null,
            "_view_module": "@jupyter-widgets/base",
            "_view_module_version": "1.2.0",
            "_view_name": "LayoutView",
            "align_content": null,
            "align_items": null,
            "align_self": null,
            "border": null,
            "bottom": null,
            "display": null,
            "flex": null,
            "flex_flow": null,
            "grid_area": null,
            "grid_auto_columns": null,
            "grid_auto_flow": null,
            "grid_auto_rows": null,
            "grid_column": null,
            "grid_gap": null,
            "grid_row": null,
            "grid_template_areas": null,
            "grid_template_columns": null,
            "grid_template_rows": null,
            "height": null,
            "justify_content": null,
            "justify_items": null,
            "left": null,
            "margin": null,
            "max_height": null,
            "max_width": null,
            "min_height": null,
            "min_width": null,
            "object_fit": null,
            "object_position": null,
            "order": null,
            "overflow": null,
            "overflow_x": null,
            "overflow_y": null,
            "padding": null,
            "right": null,
            "top": null,
            "visibility": null,
            "width": null
          }
        },
        "34648a0d067448f1bf3fb52212118ed2": {
          "model_module": "@jupyter-widgets/controls",
          "model_name": "DescriptionStyleModel",
          "model_module_version": "1.5.0",
          "state": {
            "_model_module": "@jupyter-widgets/controls",
            "_model_module_version": "1.5.0",
            "_model_name": "DescriptionStyleModel",
            "_view_count": null,
            "_view_module": "@jupyter-widgets/base",
            "_view_module_version": "1.2.0",
            "_view_name": "StyleView",
            "description_width": ""
          }
        },
        "2b9e48e3fce24df896aae77ed3018ffb": {
          "model_module": "@jupyter-widgets/controls",
          "model_name": "HBoxModel",
          "model_module_version": "1.5.0",
          "state": {
            "_dom_classes": [],
            "_model_module": "@jupyter-widgets/controls",
            "_model_module_version": "1.5.0",
            "_model_name": "HBoxModel",
            "_view_count": null,
            "_view_module": "@jupyter-widgets/controls",
            "_view_module_version": "1.5.0",
            "_view_name": "HBoxView",
            "box_style": "",
            "children": [
              "IPY_MODEL_376995f1eee24259b1af9e955055ddff",
              "IPY_MODEL_990384b0be4d4217bac5b6d7c1efd865",
              "IPY_MODEL_cb274c8f154d42a9a41db9325f7b6f2e"
            ],
            "layout": "IPY_MODEL_22cfc0e9080d406c949b4b5d1659b14e"
          }
        },
        "376995f1eee24259b1af9e955055ddff": {
          "model_module": "@jupyter-widgets/controls",
          "model_name": "HTMLModel",
          "model_module_version": "1.5.0",
          "state": {
            "_dom_classes": [],
            "_model_module": "@jupyter-widgets/controls",
            "_model_module_version": "1.5.0",
            "_model_name": "HTMLModel",
            "_view_count": null,
            "_view_module": "@jupyter-widgets/controls",
            "_view_module_version": "1.5.0",
            "_view_name": "HTMLView",
            "description": "",
            "description_tooltip": null,
            "layout": "IPY_MODEL_c7505fe84fb54507b16adbdaffc32d0b",
            "placeholder": "​",
            "style": "IPY_MODEL_4459aa73d3e348ac936903ab3000e124",
            "value": "100%"
          }
        },
        "990384b0be4d4217bac5b6d7c1efd865": {
          "model_module": "@jupyter-widgets/controls",
          "model_name": "FloatProgressModel",
          "model_module_version": "1.5.0",
          "state": {
            "_dom_classes": [],
            "_model_module": "@jupyter-widgets/controls",
            "_model_module_version": "1.5.0",
            "_model_name": "FloatProgressModel",
            "_view_count": null,
            "_view_module": "@jupyter-widgets/controls",
            "_view_module_version": "1.5.0",
            "_view_name": "ProgressView",
            "bar_style": "success",
            "description": "",
            "description_tooltip": null,
            "layout": "IPY_MODEL_7c4409c6585b4f449296977dbf6e8c4f",
            "max": 29515,
            "min": 0,
            "orientation": "horizontal",
            "style": "IPY_MODEL_5ba5d377207a440893a1fa9f17160c4b",
            "value": 29515
          }
        },
        "cb274c8f154d42a9a41db9325f7b6f2e": {
          "model_module": "@jupyter-widgets/controls",
          "model_name": "HTMLModel",
          "model_module_version": "1.5.0",
          "state": {
            "_dom_classes": [],
            "_model_module": "@jupyter-widgets/controls",
            "_model_module_version": "1.5.0",
            "_model_name": "HTMLModel",
            "_view_count": null,
            "_view_module": "@jupyter-widgets/controls",
            "_view_module_version": "1.5.0",
            "_view_name": "HTMLView",
            "description": "",
            "description_tooltip": null,
            "layout": "IPY_MODEL_3583ac8efb494f6e90524c421d9db068",
            "placeholder": "​",
            "style": "IPY_MODEL_68197a9150ac444291f6135314bbec7e",
            "value": " 29515/29515 [00:00&lt;00:00, 264314.53it/s]"
          }
        },
        "22cfc0e9080d406c949b4b5d1659b14e": {
          "model_module": "@jupyter-widgets/base",
          "model_name": "LayoutModel",
          "model_module_version": "1.2.0",
          "state": {
            "_model_module": "@jupyter-widgets/base",
            "_model_module_version": "1.2.0",
            "_model_name": "LayoutModel",
            "_view_count": null,
            "_view_module": "@jupyter-widgets/base",
            "_view_module_version": "1.2.0",
            "_view_name": "LayoutView",
            "align_content": null,
            "align_items": null,
            "align_self": null,
            "border": null,
            "bottom": null,
            "display": null,
            "flex": null,
            "flex_flow": null,
            "grid_area": null,
            "grid_auto_columns": null,
            "grid_auto_flow": null,
            "grid_auto_rows": null,
            "grid_column": null,
            "grid_gap": null,
            "grid_row": null,
            "grid_template_areas": null,
            "grid_template_columns": null,
            "grid_template_rows": null,
            "height": null,
            "justify_content": null,
            "justify_items": null,
            "left": null,
            "margin": null,
            "max_height": null,
            "max_width": null,
            "min_height": null,
            "min_width": null,
            "object_fit": null,
            "object_position": null,
            "order": null,
            "overflow": null,
            "overflow_x": null,
            "overflow_y": null,
            "padding": null,
            "right": null,
            "top": null,
            "visibility": null,
            "width": null
          }
        },
        "c7505fe84fb54507b16adbdaffc32d0b": {
          "model_module": "@jupyter-widgets/base",
          "model_name": "LayoutModel",
          "model_module_version": "1.2.0",
          "state": {
            "_model_module": "@jupyter-widgets/base",
            "_model_module_version": "1.2.0",
            "_model_name": "LayoutModel",
            "_view_count": null,
            "_view_module": "@jupyter-widgets/base",
            "_view_module_version": "1.2.0",
            "_view_name": "LayoutView",
            "align_content": null,
            "align_items": null,
            "align_self": null,
            "border": null,
            "bottom": null,
            "display": null,
            "flex": null,
            "flex_flow": null,
            "grid_area": null,
            "grid_auto_columns": null,
            "grid_auto_flow": null,
            "grid_auto_rows": null,
            "grid_column": null,
            "grid_gap": null,
            "grid_row": null,
            "grid_template_areas": null,
            "grid_template_columns": null,
            "grid_template_rows": null,
            "height": null,
            "justify_content": null,
            "justify_items": null,
            "left": null,
            "margin": null,
            "max_height": null,
            "max_width": null,
            "min_height": null,
            "min_width": null,
            "object_fit": null,
            "object_position": null,
            "order": null,
            "overflow": null,
            "overflow_x": null,
            "overflow_y": null,
            "padding": null,
            "right": null,
            "top": null,
            "visibility": null,
            "width": null
          }
        },
        "4459aa73d3e348ac936903ab3000e124": {
          "model_module": "@jupyter-widgets/controls",
          "model_name": "DescriptionStyleModel",
          "model_module_version": "1.5.0",
          "state": {
            "_model_module": "@jupyter-widgets/controls",
            "_model_module_version": "1.5.0",
            "_model_name": "DescriptionStyleModel",
            "_view_count": null,
            "_view_module": "@jupyter-widgets/base",
            "_view_module_version": "1.2.0",
            "_view_name": "StyleView",
            "description_width": ""
          }
        },
        "7c4409c6585b4f449296977dbf6e8c4f": {
          "model_module": "@jupyter-widgets/base",
          "model_name": "LayoutModel",
          "model_module_version": "1.2.0",
          "state": {
            "_model_module": "@jupyter-widgets/base",
            "_model_module_version": "1.2.0",
            "_model_name": "LayoutModel",
            "_view_count": null,
            "_view_module": "@jupyter-widgets/base",
            "_view_module_version": "1.2.0",
            "_view_name": "LayoutView",
            "align_content": null,
            "align_items": null,
            "align_self": null,
            "border": null,
            "bottom": null,
            "display": null,
            "flex": null,
            "flex_flow": null,
            "grid_area": null,
            "grid_auto_columns": null,
            "grid_auto_flow": null,
            "grid_auto_rows": null,
            "grid_column": null,
            "grid_gap": null,
            "grid_row": null,
            "grid_template_areas": null,
            "grid_template_columns": null,
            "grid_template_rows": null,
            "height": null,
            "justify_content": null,
            "justify_items": null,
            "left": null,
            "margin": null,
            "max_height": null,
            "max_width": null,
            "min_height": null,
            "min_width": null,
            "object_fit": null,
            "object_position": null,
            "order": null,
            "overflow": null,
            "overflow_x": null,
            "overflow_y": null,
            "padding": null,
            "right": null,
            "top": null,
            "visibility": null,
            "width": null
          }
        },
        "5ba5d377207a440893a1fa9f17160c4b": {
          "model_module": "@jupyter-widgets/controls",
          "model_name": "ProgressStyleModel",
          "model_module_version": "1.5.0",
          "state": {
            "_model_module": "@jupyter-widgets/controls",
            "_model_module_version": "1.5.0",
            "_model_name": "ProgressStyleModel",
            "_view_count": null,
            "_view_module": "@jupyter-widgets/base",
            "_view_module_version": "1.2.0",
            "_view_name": "StyleView",
            "bar_color": null,
            "description_width": ""
          }
        },
        "3583ac8efb494f6e90524c421d9db068": {
          "model_module": "@jupyter-widgets/base",
          "model_name": "LayoutModel",
          "model_module_version": "1.2.0",
          "state": {
            "_model_module": "@jupyter-widgets/base",
            "_model_module_version": "1.2.0",
            "_model_name": "LayoutModel",
            "_view_count": null,
            "_view_module": "@jupyter-widgets/base",
            "_view_module_version": "1.2.0",
            "_view_name": "LayoutView",
            "align_content": null,
            "align_items": null,
            "align_self": null,
            "border": null,
            "bottom": null,
            "display": null,
            "flex": null,
            "flex_flow": null,
            "grid_area": null,
            "grid_auto_columns": null,
            "grid_auto_flow": null,
            "grid_auto_rows": null,
            "grid_column": null,
            "grid_gap": null,
            "grid_row": null,
            "grid_template_areas": null,
            "grid_template_columns": null,
            "grid_template_rows": null,
            "height": null,
            "justify_content": null,
            "justify_items": null,
            "left": null,
            "margin": null,
            "max_height": null,
            "max_width": null,
            "min_height": null,
            "min_width": null,
            "object_fit": null,
            "object_position": null,
            "order": null,
            "overflow": null,
            "overflow_x": null,
            "overflow_y": null,
            "padding": null,
            "right": null,
            "top": null,
            "visibility": null,
            "width": null
          }
        },
        "68197a9150ac444291f6135314bbec7e": {
          "model_module": "@jupyter-widgets/controls",
          "model_name": "DescriptionStyleModel",
          "model_module_version": "1.5.0",
          "state": {
            "_model_module": "@jupyter-widgets/controls",
            "_model_module_version": "1.5.0",
            "_model_name": "DescriptionStyleModel",
            "_view_count": null,
            "_view_module": "@jupyter-widgets/base",
            "_view_module_version": "1.2.0",
            "_view_name": "StyleView",
            "description_width": ""
          }
        },
        "958b9c3225784e73a7c4cd1358f81ebb": {
          "model_module": "@jupyter-widgets/controls",
          "model_name": "HBoxModel",
          "model_module_version": "1.5.0",
          "state": {
            "_dom_classes": [],
            "_model_module": "@jupyter-widgets/controls",
            "_model_module_version": "1.5.0",
            "_model_name": "HBoxModel",
            "_view_count": null,
            "_view_module": "@jupyter-widgets/controls",
            "_view_module_version": "1.5.0",
            "_view_name": "HBoxView",
            "box_style": "",
            "children": [
              "IPY_MODEL_b25725f13c5847788670ae6daa7c5ce3",
              "IPY_MODEL_42693b52888148babab9b4c66ad7c5b3",
              "IPY_MODEL_8769a6fe12ed44b6beb28813b5286838"
            ],
            "layout": "IPY_MODEL_98a4d590a8ff4cec86b8a94f0ff9212a"
          }
        },
        "b25725f13c5847788670ae6daa7c5ce3": {
          "model_module": "@jupyter-widgets/controls",
          "model_name": "HTMLModel",
          "model_module_version": "1.5.0",
          "state": {
            "_dom_classes": [],
            "_model_module": "@jupyter-widgets/controls",
            "_model_module_version": "1.5.0",
            "_model_name": "HTMLModel",
            "_view_count": null,
            "_view_module": "@jupyter-widgets/controls",
            "_view_module_version": "1.5.0",
            "_view_name": "HTMLView",
            "description": "",
            "description_tooltip": null,
            "layout": "IPY_MODEL_a7cad70747764020a3a94814f08f507d",
            "placeholder": "​",
            "style": "IPY_MODEL_21881b17551d43019badd05fb68cfc61",
            "value": "100%"
          }
        },
        "42693b52888148babab9b4c66ad7c5b3": {
          "model_module": "@jupyter-widgets/controls",
          "model_name": "FloatProgressModel",
          "model_module_version": "1.5.0",
          "state": {
            "_dom_classes": [],
            "_model_module": "@jupyter-widgets/controls",
            "_model_module_version": "1.5.0",
            "_model_name": "FloatProgressModel",
            "_view_count": null,
            "_view_module": "@jupyter-widgets/controls",
            "_view_module_version": "1.5.0",
            "_view_name": "ProgressView",
            "bar_style": "success",
            "description": "",
            "description_tooltip": null,
            "layout": "IPY_MODEL_8ed5dcd5657c47f185a952ab1e7fe1f4",
            "max": 4422102,
            "min": 0,
            "orientation": "horizontal",
            "style": "IPY_MODEL_243b1d63474d4c1c94140013ab29e24f",
            "value": 4422102
          }
        },
        "8769a6fe12ed44b6beb28813b5286838": {
          "model_module": "@jupyter-widgets/controls",
          "model_name": "HTMLModel",
          "model_module_version": "1.5.0",
          "state": {
            "_dom_classes": [],
            "_model_module": "@jupyter-widgets/controls",
            "_model_module_version": "1.5.0",
            "_model_name": "HTMLModel",
            "_view_count": null,
            "_view_module": "@jupyter-widgets/controls",
            "_view_module_version": "1.5.0",
            "_view_name": "HTMLView",
            "description": "",
            "description_tooltip": null,
            "layout": "IPY_MODEL_afc758ac591a4b4a8bc394e1e4b27756",
            "placeholder": "​",
            "style": "IPY_MODEL_ebc2185a7aae4cd7bf9cff722454bd9a",
            "value": " 4422102/4422102 [00:00&lt;00:00, 8561069.03it/s]"
          }
        },
        "98a4d590a8ff4cec86b8a94f0ff9212a": {
          "model_module": "@jupyter-widgets/base",
          "model_name": "LayoutModel",
          "model_module_version": "1.2.0",
          "state": {
            "_model_module": "@jupyter-widgets/base",
            "_model_module_version": "1.2.0",
            "_model_name": "LayoutModel",
            "_view_count": null,
            "_view_module": "@jupyter-widgets/base",
            "_view_module_version": "1.2.0",
            "_view_name": "LayoutView",
            "align_content": null,
            "align_items": null,
            "align_self": null,
            "border": null,
            "bottom": null,
            "display": null,
            "flex": null,
            "flex_flow": null,
            "grid_area": null,
            "grid_auto_columns": null,
            "grid_auto_flow": null,
            "grid_auto_rows": null,
            "grid_column": null,
            "grid_gap": null,
            "grid_row": null,
            "grid_template_areas": null,
            "grid_template_columns": null,
            "grid_template_rows": null,
            "height": null,
            "justify_content": null,
            "justify_items": null,
            "left": null,
            "margin": null,
            "max_height": null,
            "max_width": null,
            "min_height": null,
            "min_width": null,
            "object_fit": null,
            "object_position": null,
            "order": null,
            "overflow": null,
            "overflow_x": null,
            "overflow_y": null,
            "padding": null,
            "right": null,
            "top": null,
            "visibility": null,
            "width": null
          }
        },
        "a7cad70747764020a3a94814f08f507d": {
          "model_module": "@jupyter-widgets/base",
          "model_name": "LayoutModel",
          "model_module_version": "1.2.0",
          "state": {
            "_model_module": "@jupyter-widgets/base",
            "_model_module_version": "1.2.0",
            "_model_name": "LayoutModel",
            "_view_count": null,
            "_view_module": "@jupyter-widgets/base",
            "_view_module_version": "1.2.0",
            "_view_name": "LayoutView",
            "align_content": null,
            "align_items": null,
            "align_self": null,
            "border": null,
            "bottom": null,
            "display": null,
            "flex": null,
            "flex_flow": null,
            "grid_area": null,
            "grid_auto_columns": null,
            "grid_auto_flow": null,
            "grid_auto_rows": null,
            "grid_column": null,
            "grid_gap": null,
            "grid_row": null,
            "grid_template_areas": null,
            "grid_template_columns": null,
            "grid_template_rows": null,
            "height": null,
            "justify_content": null,
            "justify_items": null,
            "left": null,
            "margin": null,
            "max_height": null,
            "max_width": null,
            "min_height": null,
            "min_width": null,
            "object_fit": null,
            "object_position": null,
            "order": null,
            "overflow": null,
            "overflow_x": null,
            "overflow_y": null,
            "padding": null,
            "right": null,
            "top": null,
            "visibility": null,
            "width": null
          }
        },
        "21881b17551d43019badd05fb68cfc61": {
          "model_module": "@jupyter-widgets/controls",
          "model_name": "DescriptionStyleModel",
          "model_module_version": "1.5.0",
          "state": {
            "_model_module": "@jupyter-widgets/controls",
            "_model_module_version": "1.5.0",
            "_model_name": "DescriptionStyleModel",
            "_view_count": null,
            "_view_module": "@jupyter-widgets/base",
            "_view_module_version": "1.2.0",
            "_view_name": "StyleView",
            "description_width": ""
          }
        },
        "8ed5dcd5657c47f185a952ab1e7fe1f4": {
          "model_module": "@jupyter-widgets/base",
          "model_name": "LayoutModel",
          "model_module_version": "1.2.0",
          "state": {
            "_model_module": "@jupyter-widgets/base",
            "_model_module_version": "1.2.0",
            "_model_name": "LayoutModel",
            "_view_count": null,
            "_view_module": "@jupyter-widgets/base",
            "_view_module_version": "1.2.0",
            "_view_name": "LayoutView",
            "align_content": null,
            "align_items": null,
            "align_self": null,
            "border": null,
            "bottom": null,
            "display": null,
            "flex": null,
            "flex_flow": null,
            "grid_area": null,
            "grid_auto_columns": null,
            "grid_auto_flow": null,
            "grid_auto_rows": null,
            "grid_column": null,
            "grid_gap": null,
            "grid_row": null,
            "grid_template_areas": null,
            "grid_template_columns": null,
            "grid_template_rows": null,
            "height": null,
            "justify_content": null,
            "justify_items": null,
            "left": null,
            "margin": null,
            "max_height": null,
            "max_width": null,
            "min_height": null,
            "min_width": null,
            "object_fit": null,
            "object_position": null,
            "order": null,
            "overflow": null,
            "overflow_x": null,
            "overflow_y": null,
            "padding": null,
            "right": null,
            "top": null,
            "visibility": null,
            "width": null
          }
        },
        "243b1d63474d4c1c94140013ab29e24f": {
          "model_module": "@jupyter-widgets/controls",
          "model_name": "ProgressStyleModel",
          "model_module_version": "1.5.0",
          "state": {
            "_model_module": "@jupyter-widgets/controls",
            "_model_module_version": "1.5.0",
            "_model_name": "ProgressStyleModel",
            "_view_count": null,
            "_view_module": "@jupyter-widgets/base",
            "_view_module_version": "1.2.0",
            "_view_name": "StyleView",
            "bar_color": null,
            "description_width": ""
          }
        },
        "afc758ac591a4b4a8bc394e1e4b27756": {
          "model_module": "@jupyter-widgets/base",
          "model_name": "LayoutModel",
          "model_module_version": "1.2.0",
          "state": {
            "_model_module": "@jupyter-widgets/base",
            "_model_module_version": "1.2.0",
            "_model_name": "LayoutModel",
            "_view_count": null,
            "_view_module": "@jupyter-widgets/base",
            "_view_module_version": "1.2.0",
            "_view_name": "LayoutView",
            "align_content": null,
            "align_items": null,
            "align_self": null,
            "border": null,
            "bottom": null,
            "display": null,
            "flex": null,
            "flex_flow": null,
            "grid_area": null,
            "grid_auto_columns": null,
            "grid_auto_flow": null,
            "grid_auto_rows": null,
            "grid_column": null,
            "grid_gap": null,
            "grid_row": null,
            "grid_template_areas": null,
            "grid_template_columns": null,
            "grid_template_rows": null,
            "height": null,
            "justify_content": null,
            "justify_items": null,
            "left": null,
            "margin": null,
            "max_height": null,
            "max_width": null,
            "min_height": null,
            "min_width": null,
            "object_fit": null,
            "object_position": null,
            "order": null,
            "overflow": null,
            "overflow_x": null,
            "overflow_y": null,
            "padding": null,
            "right": null,
            "top": null,
            "visibility": null,
            "width": null
          }
        },
        "ebc2185a7aae4cd7bf9cff722454bd9a": {
          "model_module": "@jupyter-widgets/controls",
          "model_name": "DescriptionStyleModel",
          "model_module_version": "1.5.0",
          "state": {
            "_model_module": "@jupyter-widgets/controls",
            "_model_module_version": "1.5.0",
            "_model_name": "DescriptionStyleModel",
            "_view_count": null,
            "_view_module": "@jupyter-widgets/base",
            "_view_module_version": "1.2.0",
            "_view_name": "StyleView",
            "description_width": ""
          }
        },
        "78caa6dc21f24f59a121b8faf656692c": {
          "model_module": "@jupyter-widgets/controls",
          "model_name": "HBoxModel",
          "model_module_version": "1.5.0",
          "state": {
            "_dom_classes": [],
            "_model_module": "@jupyter-widgets/controls",
            "_model_module_version": "1.5.0",
            "_model_name": "HBoxModel",
            "_view_count": null,
            "_view_module": "@jupyter-widgets/controls",
            "_view_module_version": "1.5.0",
            "_view_name": "HBoxView",
            "box_style": "",
            "children": [
              "IPY_MODEL_facbd31a6660450d9b47ae61b1ab57a7",
              "IPY_MODEL_d3e33eb20f38433183fb2d2ee9063d5a",
              "IPY_MODEL_fc76f02b74b24c9094a60c301358ecf7"
            ],
            "layout": "IPY_MODEL_6f25967dd31a478ba2579ab307b53a51"
          }
        },
        "facbd31a6660450d9b47ae61b1ab57a7": {
          "model_module": "@jupyter-widgets/controls",
          "model_name": "HTMLModel",
          "model_module_version": "1.5.0",
          "state": {
            "_dom_classes": [],
            "_model_module": "@jupyter-widgets/controls",
            "_model_module_version": "1.5.0",
            "_model_name": "HTMLModel",
            "_view_count": null,
            "_view_module": "@jupyter-widgets/controls",
            "_view_module_version": "1.5.0",
            "_view_name": "HTMLView",
            "description": "",
            "description_tooltip": null,
            "layout": "IPY_MODEL_3e6da82a191441bd8889f7643b4dbaba",
            "placeholder": "​",
            "style": "IPY_MODEL_c140e62adce348579a6605052020fc15",
            "value": "100%"
          }
        },
        "d3e33eb20f38433183fb2d2ee9063d5a": {
          "model_module": "@jupyter-widgets/controls",
          "model_name": "FloatProgressModel",
          "model_module_version": "1.5.0",
          "state": {
            "_dom_classes": [],
            "_model_module": "@jupyter-widgets/controls",
            "_model_module_version": "1.5.0",
            "_model_name": "FloatProgressModel",
            "_view_count": null,
            "_view_module": "@jupyter-widgets/controls",
            "_view_module_version": "1.5.0",
            "_view_name": "ProgressView",
            "bar_style": "success",
            "description": "",
            "description_tooltip": null,
            "layout": "IPY_MODEL_0909dc8e93164849993678a9104fa5c2",
            "max": 5148,
            "min": 0,
            "orientation": "horizontal",
            "style": "IPY_MODEL_cb3de4f7ba0e4a2ca3f36ec12b274dec",
            "value": 5148
          }
        },
        "fc76f02b74b24c9094a60c301358ecf7": {
          "model_module": "@jupyter-widgets/controls",
          "model_name": "HTMLModel",
          "model_module_version": "1.5.0",
          "state": {
            "_dom_classes": [],
            "_model_module": "@jupyter-widgets/controls",
            "_model_module_version": "1.5.0",
            "_model_name": "HTMLModel",
            "_view_count": null,
            "_view_module": "@jupyter-widgets/controls",
            "_view_module_version": "1.5.0",
            "_view_name": "HTMLView",
            "description": "",
            "description_tooltip": null,
            "layout": "IPY_MODEL_df4cfb41cb7642fca9f88a53f9353431",
            "placeholder": "​",
            "style": "IPY_MODEL_f6d56a54d24549d592303c9a502e98e8",
            "value": " 5148/5148 [00:00&lt;00:00, 45776.61it/s]"
          }
        },
        "6f25967dd31a478ba2579ab307b53a51": {
          "model_module": "@jupyter-widgets/base",
          "model_name": "LayoutModel",
          "model_module_version": "1.2.0",
          "state": {
            "_model_module": "@jupyter-widgets/base",
            "_model_module_version": "1.2.0",
            "_model_name": "LayoutModel",
            "_view_count": null,
            "_view_module": "@jupyter-widgets/base",
            "_view_module_version": "1.2.0",
            "_view_name": "LayoutView",
            "align_content": null,
            "align_items": null,
            "align_self": null,
            "border": null,
            "bottom": null,
            "display": null,
            "flex": null,
            "flex_flow": null,
            "grid_area": null,
            "grid_auto_columns": null,
            "grid_auto_flow": null,
            "grid_auto_rows": null,
            "grid_column": null,
            "grid_gap": null,
            "grid_row": null,
            "grid_template_areas": null,
            "grid_template_columns": null,
            "grid_template_rows": null,
            "height": null,
            "justify_content": null,
            "justify_items": null,
            "left": null,
            "margin": null,
            "max_height": null,
            "max_width": null,
            "min_height": null,
            "min_width": null,
            "object_fit": null,
            "object_position": null,
            "order": null,
            "overflow": null,
            "overflow_x": null,
            "overflow_y": null,
            "padding": null,
            "right": null,
            "top": null,
            "visibility": null,
            "width": null
          }
        },
        "3e6da82a191441bd8889f7643b4dbaba": {
          "model_module": "@jupyter-widgets/base",
          "model_name": "LayoutModel",
          "model_module_version": "1.2.0",
          "state": {
            "_model_module": "@jupyter-widgets/base",
            "_model_module_version": "1.2.0",
            "_model_name": "LayoutModel",
            "_view_count": null,
            "_view_module": "@jupyter-widgets/base",
            "_view_module_version": "1.2.0",
            "_view_name": "LayoutView",
            "align_content": null,
            "align_items": null,
            "align_self": null,
            "border": null,
            "bottom": null,
            "display": null,
            "flex": null,
            "flex_flow": null,
            "grid_area": null,
            "grid_auto_columns": null,
            "grid_auto_flow": null,
            "grid_auto_rows": null,
            "grid_column": null,
            "grid_gap": null,
            "grid_row": null,
            "grid_template_areas": null,
            "grid_template_columns": null,
            "grid_template_rows": null,
            "height": null,
            "justify_content": null,
            "justify_items": null,
            "left": null,
            "margin": null,
            "max_height": null,
            "max_width": null,
            "min_height": null,
            "min_width": null,
            "object_fit": null,
            "object_position": null,
            "order": null,
            "overflow": null,
            "overflow_x": null,
            "overflow_y": null,
            "padding": null,
            "right": null,
            "top": null,
            "visibility": null,
            "width": null
          }
        },
        "c140e62adce348579a6605052020fc15": {
          "model_module": "@jupyter-widgets/controls",
          "model_name": "DescriptionStyleModel",
          "model_module_version": "1.5.0",
          "state": {
            "_model_module": "@jupyter-widgets/controls",
            "_model_module_version": "1.5.0",
            "_model_name": "DescriptionStyleModel",
            "_view_count": null,
            "_view_module": "@jupyter-widgets/base",
            "_view_module_version": "1.2.0",
            "_view_name": "StyleView",
            "description_width": ""
          }
        },
        "0909dc8e93164849993678a9104fa5c2": {
          "model_module": "@jupyter-widgets/base",
          "model_name": "LayoutModel",
          "model_module_version": "1.2.0",
          "state": {
            "_model_module": "@jupyter-widgets/base",
            "_model_module_version": "1.2.0",
            "_model_name": "LayoutModel",
            "_view_count": null,
            "_view_module": "@jupyter-widgets/base",
            "_view_module_version": "1.2.0",
            "_view_name": "LayoutView",
            "align_content": null,
            "align_items": null,
            "align_self": null,
            "border": null,
            "bottom": null,
            "display": null,
            "flex": null,
            "flex_flow": null,
            "grid_area": null,
            "grid_auto_columns": null,
            "grid_auto_flow": null,
            "grid_auto_rows": null,
            "grid_column": null,
            "grid_gap": null,
            "grid_row": null,
            "grid_template_areas": null,
            "grid_template_columns": null,
            "grid_template_rows": null,
            "height": null,
            "justify_content": null,
            "justify_items": null,
            "left": null,
            "margin": null,
            "max_height": null,
            "max_width": null,
            "min_height": null,
            "min_width": null,
            "object_fit": null,
            "object_position": null,
            "order": null,
            "overflow": null,
            "overflow_x": null,
            "overflow_y": null,
            "padding": null,
            "right": null,
            "top": null,
            "visibility": null,
            "width": null
          }
        },
        "cb3de4f7ba0e4a2ca3f36ec12b274dec": {
          "model_module": "@jupyter-widgets/controls",
          "model_name": "ProgressStyleModel",
          "model_module_version": "1.5.0",
          "state": {
            "_model_module": "@jupyter-widgets/controls",
            "_model_module_version": "1.5.0",
            "_model_name": "ProgressStyleModel",
            "_view_count": null,
            "_view_module": "@jupyter-widgets/base",
            "_view_module_version": "1.2.0",
            "_view_name": "StyleView",
            "bar_color": null,
            "description_width": ""
          }
        },
        "df4cfb41cb7642fca9f88a53f9353431": {
          "model_module": "@jupyter-widgets/base",
          "model_name": "LayoutModel",
          "model_module_version": "1.2.0",
          "state": {
            "_model_module": "@jupyter-widgets/base",
            "_model_module_version": "1.2.0",
            "_model_name": "LayoutModel",
            "_view_count": null,
            "_view_module": "@jupyter-widgets/base",
            "_view_module_version": "1.2.0",
            "_view_name": "LayoutView",
            "align_content": null,
            "align_items": null,
            "align_self": null,
            "border": null,
            "bottom": null,
            "display": null,
            "flex": null,
            "flex_flow": null,
            "grid_area": null,
            "grid_auto_columns": null,
            "grid_auto_flow": null,
            "grid_auto_rows": null,
            "grid_column": null,
            "grid_gap": null,
            "grid_row": null,
            "grid_template_areas": null,
            "grid_template_columns": null,
            "grid_template_rows": null,
            "height": null,
            "justify_content": null,
            "justify_items": null,
            "left": null,
            "margin": null,
            "max_height": null,
            "max_width": null,
            "min_height": null,
            "min_width": null,
            "object_fit": null,
            "object_position": null,
            "order": null,
            "overflow": null,
            "overflow_x": null,
            "overflow_y": null,
            "padding": null,
            "right": null,
            "top": null,
            "visibility": null,
            "width": null
          }
        },
        "f6d56a54d24549d592303c9a502e98e8": {
          "model_module": "@jupyter-widgets/controls",
          "model_name": "DescriptionStyleModel",
          "model_module_version": "1.5.0",
          "state": {
            "_model_module": "@jupyter-widgets/controls",
            "_model_module_version": "1.5.0",
            "_model_name": "DescriptionStyleModel",
            "_view_count": null,
            "_view_module": "@jupyter-widgets/base",
            "_view_module_version": "1.2.0",
            "_view_name": "StyleView",
            "description_width": ""
          }
        },
        "9a6ecf53fc394959be2d3465a5a63399": {
          "model_module": "@jupyter-widgets/controls",
          "model_name": "HBoxModel",
          "model_module_version": "1.5.0",
          "state": {
            "_dom_classes": [],
            "_model_module": "@jupyter-widgets/controls",
            "_model_module_version": "1.5.0",
            "_model_name": "HBoxModel",
            "_view_count": null,
            "_view_module": "@jupyter-widgets/controls",
            "_view_module_version": "1.5.0",
            "_view_name": "HBoxView",
            "box_style": "",
            "children": [
              "IPY_MODEL_c76f17d220094c93871b3974e6e4e7f9",
              "IPY_MODEL_cfa8507e7a424a448a313ddf05c712d4",
              "IPY_MODEL_7d7c198bcc414355b1a84f3542118908"
            ],
            "layout": "IPY_MODEL_b05d51b7102a44c6adaf67f67f9de2bc"
          }
        },
        "c76f17d220094c93871b3974e6e4e7f9": {
          "model_module": "@jupyter-widgets/controls",
          "model_name": "HTMLModel",
          "model_module_version": "1.5.0",
          "state": {
            "_dom_classes": [],
            "_model_module": "@jupyter-widgets/controls",
            "_model_module_version": "1.5.0",
            "_model_name": "HTMLModel",
            "_view_count": null,
            "_view_module": "@jupyter-widgets/controls",
            "_view_module_version": "1.5.0",
            "_view_name": "HTMLView",
            "description": "",
            "description_tooltip": null,
            "layout": "IPY_MODEL_69e692f6829b4c03bd8ad7be9d69b765",
            "placeholder": "​",
            "style": "IPY_MODEL_44434ad6dab741ee9a5616196240e4f1",
            "value": "100%"
          }
        },
        "cfa8507e7a424a448a313ddf05c712d4": {
          "model_module": "@jupyter-widgets/controls",
          "model_name": "FloatProgressModel",
          "model_module_version": "1.5.0",
          "state": {
            "_dom_classes": [],
            "_model_module": "@jupyter-widgets/controls",
            "_model_module_version": "1.5.0",
            "_model_name": "FloatProgressModel",
            "_view_count": null,
            "_view_module": "@jupyter-widgets/controls",
            "_view_module_version": "1.5.0",
            "_view_name": "ProgressView",
            "bar_style": "success",
            "description": "",
            "description_tooltip": null,
            "layout": "IPY_MODEL_c34ffbcb9c09404b858c226ce651b50a",
            "max": 9912422,
            "min": 0,
            "orientation": "horizontal",
            "style": "IPY_MODEL_1d1d6cd4a52644a4abbe5cb29d684640",
            "value": 9912422
          }
        },
        "7d7c198bcc414355b1a84f3542118908": {
          "model_module": "@jupyter-widgets/controls",
          "model_name": "HTMLModel",
          "model_module_version": "1.5.0",
          "state": {
            "_dom_classes": [],
            "_model_module": "@jupyter-widgets/controls",
            "_model_module_version": "1.5.0",
            "_model_name": "HTMLModel",
            "_view_count": null,
            "_view_module": "@jupyter-widgets/controls",
            "_view_module_version": "1.5.0",
            "_view_name": "HTMLView",
            "description": "",
            "description_tooltip": null,
            "layout": "IPY_MODEL_feb144fdd3094035b7dd25c585454a67",
            "placeholder": "​",
            "style": "IPY_MODEL_abf0f07438404e7e971cd8c5a9393b0a",
            "value": " 9912422/9912422 [00:00&lt;00:00, 17357719.65it/s]"
          }
        },
        "b05d51b7102a44c6adaf67f67f9de2bc": {
          "model_module": "@jupyter-widgets/base",
          "model_name": "LayoutModel",
          "model_module_version": "1.2.0",
          "state": {
            "_model_module": "@jupyter-widgets/base",
            "_model_module_version": "1.2.0",
            "_model_name": "LayoutModel",
            "_view_count": null,
            "_view_module": "@jupyter-widgets/base",
            "_view_module_version": "1.2.0",
            "_view_name": "LayoutView",
            "align_content": null,
            "align_items": null,
            "align_self": null,
            "border": null,
            "bottom": null,
            "display": null,
            "flex": null,
            "flex_flow": null,
            "grid_area": null,
            "grid_auto_columns": null,
            "grid_auto_flow": null,
            "grid_auto_rows": null,
            "grid_column": null,
            "grid_gap": null,
            "grid_row": null,
            "grid_template_areas": null,
            "grid_template_columns": null,
            "grid_template_rows": null,
            "height": null,
            "justify_content": null,
            "justify_items": null,
            "left": null,
            "margin": null,
            "max_height": null,
            "max_width": null,
            "min_height": null,
            "min_width": null,
            "object_fit": null,
            "object_position": null,
            "order": null,
            "overflow": null,
            "overflow_x": null,
            "overflow_y": null,
            "padding": null,
            "right": null,
            "top": null,
            "visibility": null,
            "width": null
          }
        },
        "69e692f6829b4c03bd8ad7be9d69b765": {
          "model_module": "@jupyter-widgets/base",
          "model_name": "LayoutModel",
          "model_module_version": "1.2.0",
          "state": {
            "_model_module": "@jupyter-widgets/base",
            "_model_module_version": "1.2.0",
            "_model_name": "LayoutModel",
            "_view_count": null,
            "_view_module": "@jupyter-widgets/base",
            "_view_module_version": "1.2.0",
            "_view_name": "LayoutView",
            "align_content": null,
            "align_items": null,
            "align_self": null,
            "border": null,
            "bottom": null,
            "display": null,
            "flex": null,
            "flex_flow": null,
            "grid_area": null,
            "grid_auto_columns": null,
            "grid_auto_flow": null,
            "grid_auto_rows": null,
            "grid_column": null,
            "grid_gap": null,
            "grid_row": null,
            "grid_template_areas": null,
            "grid_template_columns": null,
            "grid_template_rows": null,
            "height": null,
            "justify_content": null,
            "justify_items": null,
            "left": null,
            "margin": null,
            "max_height": null,
            "max_width": null,
            "min_height": null,
            "min_width": null,
            "object_fit": null,
            "object_position": null,
            "order": null,
            "overflow": null,
            "overflow_x": null,
            "overflow_y": null,
            "padding": null,
            "right": null,
            "top": null,
            "visibility": null,
            "width": null
          }
        },
        "44434ad6dab741ee9a5616196240e4f1": {
          "model_module": "@jupyter-widgets/controls",
          "model_name": "DescriptionStyleModel",
          "model_module_version": "1.5.0",
          "state": {
            "_model_module": "@jupyter-widgets/controls",
            "_model_module_version": "1.5.0",
            "_model_name": "DescriptionStyleModel",
            "_view_count": null,
            "_view_module": "@jupyter-widgets/base",
            "_view_module_version": "1.2.0",
            "_view_name": "StyleView",
            "description_width": ""
          }
        },
        "c34ffbcb9c09404b858c226ce651b50a": {
          "model_module": "@jupyter-widgets/base",
          "model_name": "LayoutModel",
          "model_module_version": "1.2.0",
          "state": {
            "_model_module": "@jupyter-widgets/base",
            "_model_module_version": "1.2.0",
            "_model_name": "LayoutModel",
            "_view_count": null,
            "_view_module": "@jupyter-widgets/base",
            "_view_module_version": "1.2.0",
            "_view_name": "LayoutView",
            "align_content": null,
            "align_items": null,
            "align_self": null,
            "border": null,
            "bottom": null,
            "display": null,
            "flex": null,
            "flex_flow": null,
            "grid_area": null,
            "grid_auto_columns": null,
            "grid_auto_flow": null,
            "grid_auto_rows": null,
            "grid_column": null,
            "grid_gap": null,
            "grid_row": null,
            "grid_template_areas": null,
            "grid_template_columns": null,
            "grid_template_rows": null,
            "height": null,
            "justify_content": null,
            "justify_items": null,
            "left": null,
            "margin": null,
            "max_height": null,
            "max_width": null,
            "min_height": null,
            "min_width": null,
            "object_fit": null,
            "object_position": null,
            "order": null,
            "overflow": null,
            "overflow_x": null,
            "overflow_y": null,
            "padding": null,
            "right": null,
            "top": null,
            "visibility": null,
            "width": null
          }
        },
        "1d1d6cd4a52644a4abbe5cb29d684640": {
          "model_module": "@jupyter-widgets/controls",
          "model_name": "ProgressStyleModel",
          "model_module_version": "1.5.0",
          "state": {
            "_model_module": "@jupyter-widgets/controls",
            "_model_module_version": "1.5.0",
            "_model_name": "ProgressStyleModel",
            "_view_count": null,
            "_view_module": "@jupyter-widgets/base",
            "_view_module_version": "1.2.0",
            "_view_name": "StyleView",
            "bar_color": null,
            "description_width": ""
          }
        },
        "feb144fdd3094035b7dd25c585454a67": {
          "model_module": "@jupyter-widgets/base",
          "model_name": "LayoutModel",
          "model_module_version": "1.2.0",
          "state": {
            "_model_module": "@jupyter-widgets/base",
            "_model_module_version": "1.2.0",
            "_model_name": "LayoutModel",
            "_view_count": null,
            "_view_module": "@jupyter-widgets/base",
            "_view_module_version": "1.2.0",
            "_view_name": "LayoutView",
            "align_content": null,
            "align_items": null,
            "align_self": null,
            "border": null,
            "bottom": null,
            "display": null,
            "flex": null,
            "flex_flow": null,
            "grid_area": null,
            "grid_auto_columns": null,
            "grid_auto_flow": null,
            "grid_auto_rows": null,
            "grid_column": null,
            "grid_gap": null,
            "grid_row": null,
            "grid_template_areas": null,
            "grid_template_columns": null,
            "grid_template_rows": null,
            "height": null,
            "justify_content": null,
            "justify_items": null,
            "left": null,
            "margin": null,
            "max_height": null,
            "max_width": null,
            "min_height": null,
            "min_width": null,
            "object_fit": null,
            "object_position": null,
            "order": null,
            "overflow": null,
            "overflow_x": null,
            "overflow_y": null,
            "padding": null,
            "right": null,
            "top": null,
            "visibility": null,
            "width": null
          }
        },
        "abf0f07438404e7e971cd8c5a9393b0a": {
          "model_module": "@jupyter-widgets/controls",
          "model_name": "DescriptionStyleModel",
          "model_module_version": "1.5.0",
          "state": {
            "_model_module": "@jupyter-widgets/controls",
            "_model_module_version": "1.5.0",
            "_model_name": "DescriptionStyleModel",
            "_view_count": null,
            "_view_module": "@jupyter-widgets/base",
            "_view_module_version": "1.2.0",
            "_view_name": "StyleView",
            "description_width": ""
          }
        },
        "f9ac8d946bbc407981fda4795b1124be": {
          "model_module": "@jupyter-widgets/controls",
          "model_name": "HBoxModel",
          "model_module_version": "1.5.0",
          "state": {
            "_dom_classes": [],
            "_model_module": "@jupyter-widgets/controls",
            "_model_module_version": "1.5.0",
            "_model_name": "HBoxModel",
            "_view_count": null,
            "_view_module": "@jupyter-widgets/controls",
            "_view_module_version": "1.5.0",
            "_view_name": "HBoxView",
            "box_style": "",
            "children": [
              "IPY_MODEL_d3fb08a1cea74d83a6593874d4f87de0",
              "IPY_MODEL_e98597c88882442d91b1353a6ee86b26",
              "IPY_MODEL_a2aa8437da2a4846a1df05d5facbe78f"
            ],
            "layout": "IPY_MODEL_ce3a0a0435d942e9863cc5494b11af03"
          }
        },
        "d3fb08a1cea74d83a6593874d4f87de0": {
          "model_module": "@jupyter-widgets/controls",
          "model_name": "HTMLModel",
          "model_module_version": "1.5.0",
          "state": {
            "_dom_classes": [],
            "_model_module": "@jupyter-widgets/controls",
            "_model_module_version": "1.5.0",
            "_model_name": "HTMLModel",
            "_view_count": null,
            "_view_module": "@jupyter-widgets/controls",
            "_view_module_version": "1.5.0",
            "_view_name": "HTMLView",
            "description": "",
            "description_tooltip": null,
            "layout": "IPY_MODEL_abaaf496ef494fb78f4d2792ef34f9e9",
            "placeholder": "​",
            "style": "IPY_MODEL_c9565f269e544199bdf079b63a2a686d",
            "value": "100%"
          }
        },
        "e98597c88882442d91b1353a6ee86b26": {
          "model_module": "@jupyter-widgets/controls",
          "model_name": "FloatProgressModel",
          "model_module_version": "1.5.0",
          "state": {
            "_dom_classes": [],
            "_model_module": "@jupyter-widgets/controls",
            "_model_module_version": "1.5.0",
            "_model_name": "FloatProgressModel",
            "_view_count": null,
            "_view_module": "@jupyter-widgets/controls",
            "_view_module_version": "1.5.0",
            "_view_name": "ProgressView",
            "bar_style": "success",
            "description": "",
            "description_tooltip": null,
            "layout": "IPY_MODEL_25028b69b6484051b96e2cda4777c40b",
            "max": 28881,
            "min": 0,
            "orientation": "horizontal",
            "style": "IPY_MODEL_92e21498ffd84338b1a3bc25196553f8",
            "value": 28881
          }
        },
        "a2aa8437da2a4846a1df05d5facbe78f": {
          "model_module": "@jupyter-widgets/controls",
          "model_name": "HTMLModel",
          "model_module_version": "1.5.0",
          "state": {
            "_dom_classes": [],
            "_model_module": "@jupyter-widgets/controls",
            "_model_module_version": "1.5.0",
            "_model_name": "HTMLModel",
            "_view_count": null,
            "_view_module": "@jupyter-widgets/controls",
            "_view_module_version": "1.5.0",
            "_view_name": "HTMLView",
            "description": "",
            "description_tooltip": null,
            "layout": "IPY_MODEL_5dc3ea5c0a4c4dd7874a1e093f1d59d9",
            "placeholder": "​",
            "style": "IPY_MODEL_e9a28911eccf4b54ab10eb1b41bd24ef",
            "value": " 28881/28881 [00:00&lt;00:00, 1065313.16it/s]"
          }
        },
        "ce3a0a0435d942e9863cc5494b11af03": {
          "model_module": "@jupyter-widgets/base",
          "model_name": "LayoutModel",
          "model_module_version": "1.2.0",
          "state": {
            "_model_module": "@jupyter-widgets/base",
            "_model_module_version": "1.2.0",
            "_model_name": "LayoutModel",
            "_view_count": null,
            "_view_module": "@jupyter-widgets/base",
            "_view_module_version": "1.2.0",
            "_view_name": "LayoutView",
            "align_content": null,
            "align_items": null,
            "align_self": null,
            "border": null,
            "bottom": null,
            "display": null,
            "flex": null,
            "flex_flow": null,
            "grid_area": null,
            "grid_auto_columns": null,
            "grid_auto_flow": null,
            "grid_auto_rows": null,
            "grid_column": null,
            "grid_gap": null,
            "grid_row": null,
            "grid_template_areas": null,
            "grid_template_columns": null,
            "grid_template_rows": null,
            "height": null,
            "justify_content": null,
            "justify_items": null,
            "left": null,
            "margin": null,
            "max_height": null,
            "max_width": null,
            "min_height": null,
            "min_width": null,
            "object_fit": null,
            "object_position": null,
            "order": null,
            "overflow": null,
            "overflow_x": null,
            "overflow_y": null,
            "padding": null,
            "right": null,
            "top": null,
            "visibility": null,
            "width": null
          }
        },
        "abaaf496ef494fb78f4d2792ef34f9e9": {
          "model_module": "@jupyter-widgets/base",
          "model_name": "LayoutModel",
          "model_module_version": "1.2.0",
          "state": {
            "_model_module": "@jupyter-widgets/base",
            "_model_module_version": "1.2.0",
            "_model_name": "LayoutModel",
            "_view_count": null,
            "_view_module": "@jupyter-widgets/base",
            "_view_module_version": "1.2.0",
            "_view_name": "LayoutView",
            "align_content": null,
            "align_items": null,
            "align_self": null,
            "border": null,
            "bottom": null,
            "display": null,
            "flex": null,
            "flex_flow": null,
            "grid_area": null,
            "grid_auto_columns": null,
            "grid_auto_flow": null,
            "grid_auto_rows": null,
            "grid_column": null,
            "grid_gap": null,
            "grid_row": null,
            "grid_template_areas": null,
            "grid_template_columns": null,
            "grid_template_rows": null,
            "height": null,
            "justify_content": null,
            "justify_items": null,
            "left": null,
            "margin": null,
            "max_height": null,
            "max_width": null,
            "min_height": null,
            "min_width": null,
            "object_fit": null,
            "object_position": null,
            "order": null,
            "overflow": null,
            "overflow_x": null,
            "overflow_y": null,
            "padding": null,
            "right": null,
            "top": null,
            "visibility": null,
            "width": null
          }
        },
        "c9565f269e544199bdf079b63a2a686d": {
          "model_module": "@jupyter-widgets/controls",
          "model_name": "DescriptionStyleModel",
          "model_module_version": "1.5.0",
          "state": {
            "_model_module": "@jupyter-widgets/controls",
            "_model_module_version": "1.5.0",
            "_model_name": "DescriptionStyleModel",
            "_view_count": null,
            "_view_module": "@jupyter-widgets/base",
            "_view_module_version": "1.2.0",
            "_view_name": "StyleView",
            "description_width": ""
          }
        },
        "25028b69b6484051b96e2cda4777c40b": {
          "model_module": "@jupyter-widgets/base",
          "model_name": "LayoutModel",
          "model_module_version": "1.2.0",
          "state": {
            "_model_module": "@jupyter-widgets/base",
            "_model_module_version": "1.2.0",
            "_model_name": "LayoutModel",
            "_view_count": null,
            "_view_module": "@jupyter-widgets/base",
            "_view_module_version": "1.2.0",
            "_view_name": "LayoutView",
            "align_content": null,
            "align_items": null,
            "align_self": null,
            "border": null,
            "bottom": null,
            "display": null,
            "flex": null,
            "flex_flow": null,
            "grid_area": null,
            "grid_auto_columns": null,
            "grid_auto_flow": null,
            "grid_auto_rows": null,
            "grid_column": null,
            "grid_gap": null,
            "grid_row": null,
            "grid_template_areas": null,
            "grid_template_columns": null,
            "grid_template_rows": null,
            "height": null,
            "justify_content": null,
            "justify_items": null,
            "left": null,
            "margin": null,
            "max_height": null,
            "max_width": null,
            "min_height": null,
            "min_width": null,
            "object_fit": null,
            "object_position": null,
            "order": null,
            "overflow": null,
            "overflow_x": null,
            "overflow_y": null,
            "padding": null,
            "right": null,
            "top": null,
            "visibility": null,
            "width": null
          }
        },
        "92e21498ffd84338b1a3bc25196553f8": {
          "model_module": "@jupyter-widgets/controls",
          "model_name": "ProgressStyleModel",
          "model_module_version": "1.5.0",
          "state": {
            "_model_module": "@jupyter-widgets/controls",
            "_model_module_version": "1.5.0",
            "_model_name": "ProgressStyleModel",
            "_view_count": null,
            "_view_module": "@jupyter-widgets/base",
            "_view_module_version": "1.2.0",
            "_view_name": "StyleView",
            "bar_color": null,
            "description_width": ""
          }
        },
        "5dc3ea5c0a4c4dd7874a1e093f1d59d9": {
          "model_module": "@jupyter-widgets/base",
          "model_name": "LayoutModel",
          "model_module_version": "1.2.0",
          "state": {
            "_model_module": "@jupyter-widgets/base",
            "_model_module_version": "1.2.0",
            "_model_name": "LayoutModel",
            "_view_count": null,
            "_view_module": "@jupyter-widgets/base",
            "_view_module_version": "1.2.0",
            "_view_name": "LayoutView",
            "align_content": null,
            "align_items": null,
            "align_self": null,
            "border": null,
            "bottom": null,
            "display": null,
            "flex": null,
            "flex_flow": null,
            "grid_area": null,
            "grid_auto_columns": null,
            "grid_auto_flow": null,
            "grid_auto_rows": null,
            "grid_column": null,
            "grid_gap": null,
            "grid_row": null,
            "grid_template_areas": null,
            "grid_template_columns": null,
            "grid_template_rows": null,
            "height": null,
            "justify_content": null,
            "justify_items": null,
            "left": null,
            "margin": null,
            "max_height": null,
            "max_width": null,
            "min_height": null,
            "min_width": null,
            "object_fit": null,
            "object_position": null,
            "order": null,
            "overflow": null,
            "overflow_x": null,
            "overflow_y": null,
            "padding": null,
            "right": null,
            "top": null,
            "visibility": null,
            "width": null
          }
        },
        "e9a28911eccf4b54ab10eb1b41bd24ef": {
          "model_module": "@jupyter-widgets/controls",
          "model_name": "DescriptionStyleModel",
          "model_module_version": "1.5.0",
          "state": {
            "_model_module": "@jupyter-widgets/controls",
            "_model_module_version": "1.5.0",
            "_model_name": "DescriptionStyleModel",
            "_view_count": null,
            "_view_module": "@jupyter-widgets/base",
            "_view_module_version": "1.2.0",
            "_view_name": "StyleView",
            "description_width": ""
          }
        },
        "7871905e63d2431ab801dd8f2427e6ae": {
          "model_module": "@jupyter-widgets/controls",
          "model_name": "HBoxModel",
          "model_module_version": "1.5.0",
          "state": {
            "_dom_classes": [],
            "_model_module": "@jupyter-widgets/controls",
            "_model_module_version": "1.5.0",
            "_model_name": "HBoxModel",
            "_view_count": null,
            "_view_module": "@jupyter-widgets/controls",
            "_view_module_version": "1.5.0",
            "_view_name": "HBoxView",
            "box_style": "",
            "children": [
              "IPY_MODEL_646c1366011543e091fdaf7388c50f06",
              "IPY_MODEL_66ce8ac0ef8440dca62fdc39c2586fae",
              "IPY_MODEL_759cba23a3c949bb8c0b4650442500f1"
            ],
            "layout": "IPY_MODEL_5de4588655be4d588f5fbf92b2b92e01"
          }
        },
        "646c1366011543e091fdaf7388c50f06": {
          "model_module": "@jupyter-widgets/controls",
          "model_name": "HTMLModel",
          "model_module_version": "1.5.0",
          "state": {
            "_dom_classes": [],
            "_model_module": "@jupyter-widgets/controls",
            "_model_module_version": "1.5.0",
            "_model_name": "HTMLModel",
            "_view_count": null,
            "_view_module": "@jupyter-widgets/controls",
            "_view_module_version": "1.5.0",
            "_view_name": "HTMLView",
            "description": "",
            "description_tooltip": null,
            "layout": "IPY_MODEL_6254534d5f7a4a29b1eb149fcfb9c1c8",
            "placeholder": "​",
            "style": "IPY_MODEL_6eb0daf7147545918d8b014442f27338",
            "value": "100%"
          }
        },
        "66ce8ac0ef8440dca62fdc39c2586fae": {
          "model_module": "@jupyter-widgets/controls",
          "model_name": "FloatProgressModel",
          "model_module_version": "1.5.0",
          "state": {
            "_dom_classes": [],
            "_model_module": "@jupyter-widgets/controls",
            "_model_module_version": "1.5.0",
            "_model_name": "FloatProgressModel",
            "_view_count": null,
            "_view_module": "@jupyter-widgets/controls",
            "_view_module_version": "1.5.0",
            "_view_name": "ProgressView",
            "bar_style": "success",
            "description": "",
            "description_tooltip": null,
            "layout": "IPY_MODEL_0203e9626c3a41ed81dddaeb91fa5810",
            "max": 1648877,
            "min": 0,
            "orientation": "horizontal",
            "style": "IPY_MODEL_21b5d714c59147818a146b08efc4d01f",
            "value": 1648877
          }
        },
        "759cba23a3c949bb8c0b4650442500f1": {
          "model_module": "@jupyter-widgets/controls",
          "model_name": "HTMLModel",
          "model_module_version": "1.5.0",
          "state": {
            "_dom_classes": [],
            "_model_module": "@jupyter-widgets/controls",
            "_model_module_version": "1.5.0",
            "_model_name": "HTMLModel",
            "_view_count": null,
            "_view_module": "@jupyter-widgets/controls",
            "_view_module_version": "1.5.0",
            "_view_name": "HTMLView",
            "description": "",
            "description_tooltip": null,
            "layout": "IPY_MODEL_9f730bc427ea4a92ab5ecaaf0d2716f4",
            "placeholder": "​",
            "style": "IPY_MODEL_270dc36588784bd3a0593d58d86452e0",
            "value": " 1648877/1648877 [00:00&lt;00:00, 16672753.26it/s]"
          }
        },
        "5de4588655be4d588f5fbf92b2b92e01": {
          "model_module": "@jupyter-widgets/base",
          "model_name": "LayoutModel",
          "model_module_version": "1.2.0",
          "state": {
            "_model_module": "@jupyter-widgets/base",
            "_model_module_version": "1.2.0",
            "_model_name": "LayoutModel",
            "_view_count": null,
            "_view_module": "@jupyter-widgets/base",
            "_view_module_version": "1.2.0",
            "_view_name": "LayoutView",
            "align_content": null,
            "align_items": null,
            "align_self": null,
            "border": null,
            "bottom": null,
            "display": null,
            "flex": null,
            "flex_flow": null,
            "grid_area": null,
            "grid_auto_columns": null,
            "grid_auto_flow": null,
            "grid_auto_rows": null,
            "grid_column": null,
            "grid_gap": null,
            "grid_row": null,
            "grid_template_areas": null,
            "grid_template_columns": null,
            "grid_template_rows": null,
            "height": null,
            "justify_content": null,
            "justify_items": null,
            "left": null,
            "margin": null,
            "max_height": null,
            "max_width": null,
            "min_height": null,
            "min_width": null,
            "object_fit": null,
            "object_position": null,
            "order": null,
            "overflow": null,
            "overflow_x": null,
            "overflow_y": null,
            "padding": null,
            "right": null,
            "top": null,
            "visibility": null,
            "width": null
          }
        },
        "6254534d5f7a4a29b1eb149fcfb9c1c8": {
          "model_module": "@jupyter-widgets/base",
          "model_name": "LayoutModel",
          "model_module_version": "1.2.0",
          "state": {
            "_model_module": "@jupyter-widgets/base",
            "_model_module_version": "1.2.0",
            "_model_name": "LayoutModel",
            "_view_count": null,
            "_view_module": "@jupyter-widgets/base",
            "_view_module_version": "1.2.0",
            "_view_name": "LayoutView",
            "align_content": null,
            "align_items": null,
            "align_self": null,
            "border": null,
            "bottom": null,
            "display": null,
            "flex": null,
            "flex_flow": null,
            "grid_area": null,
            "grid_auto_columns": null,
            "grid_auto_flow": null,
            "grid_auto_rows": null,
            "grid_column": null,
            "grid_gap": null,
            "grid_row": null,
            "grid_template_areas": null,
            "grid_template_columns": null,
            "grid_template_rows": null,
            "height": null,
            "justify_content": null,
            "justify_items": null,
            "left": null,
            "margin": null,
            "max_height": null,
            "max_width": null,
            "min_height": null,
            "min_width": null,
            "object_fit": null,
            "object_position": null,
            "order": null,
            "overflow": null,
            "overflow_x": null,
            "overflow_y": null,
            "padding": null,
            "right": null,
            "top": null,
            "visibility": null,
            "width": null
          }
        },
        "6eb0daf7147545918d8b014442f27338": {
          "model_module": "@jupyter-widgets/controls",
          "model_name": "DescriptionStyleModel",
          "model_module_version": "1.5.0",
          "state": {
            "_model_module": "@jupyter-widgets/controls",
            "_model_module_version": "1.5.0",
            "_model_name": "DescriptionStyleModel",
            "_view_count": null,
            "_view_module": "@jupyter-widgets/base",
            "_view_module_version": "1.2.0",
            "_view_name": "StyleView",
            "description_width": ""
          }
        },
        "0203e9626c3a41ed81dddaeb91fa5810": {
          "model_module": "@jupyter-widgets/base",
          "model_name": "LayoutModel",
          "model_module_version": "1.2.0",
          "state": {
            "_model_module": "@jupyter-widgets/base",
            "_model_module_version": "1.2.0",
            "_model_name": "LayoutModel",
            "_view_count": null,
            "_view_module": "@jupyter-widgets/base",
            "_view_module_version": "1.2.0",
            "_view_name": "LayoutView",
            "align_content": null,
            "align_items": null,
            "align_self": null,
            "border": null,
            "bottom": null,
            "display": null,
            "flex": null,
            "flex_flow": null,
            "grid_area": null,
            "grid_auto_columns": null,
            "grid_auto_flow": null,
            "grid_auto_rows": null,
            "grid_column": null,
            "grid_gap": null,
            "grid_row": null,
            "grid_template_areas": null,
            "grid_template_columns": null,
            "grid_template_rows": null,
            "height": null,
            "justify_content": null,
            "justify_items": null,
            "left": null,
            "margin": null,
            "max_height": null,
            "max_width": null,
            "min_height": null,
            "min_width": null,
            "object_fit": null,
            "object_position": null,
            "order": null,
            "overflow": null,
            "overflow_x": null,
            "overflow_y": null,
            "padding": null,
            "right": null,
            "top": null,
            "visibility": null,
            "width": null
          }
        },
        "21b5d714c59147818a146b08efc4d01f": {
          "model_module": "@jupyter-widgets/controls",
          "model_name": "ProgressStyleModel",
          "model_module_version": "1.5.0",
          "state": {
            "_model_module": "@jupyter-widgets/controls",
            "_model_module_version": "1.5.0",
            "_model_name": "ProgressStyleModel",
            "_view_count": null,
            "_view_module": "@jupyter-widgets/base",
            "_view_module_version": "1.2.0",
            "_view_name": "StyleView",
            "bar_color": null,
            "description_width": ""
          }
        },
        "9f730bc427ea4a92ab5ecaaf0d2716f4": {
          "model_module": "@jupyter-widgets/base",
          "model_name": "LayoutModel",
          "model_module_version": "1.2.0",
          "state": {
            "_model_module": "@jupyter-widgets/base",
            "_model_module_version": "1.2.0",
            "_model_name": "LayoutModel",
            "_view_count": null,
            "_view_module": "@jupyter-widgets/base",
            "_view_module_version": "1.2.0",
            "_view_name": "LayoutView",
            "align_content": null,
            "align_items": null,
            "align_self": null,
            "border": null,
            "bottom": null,
            "display": null,
            "flex": null,
            "flex_flow": null,
            "grid_area": null,
            "grid_auto_columns": null,
            "grid_auto_flow": null,
            "grid_auto_rows": null,
            "grid_column": null,
            "grid_gap": null,
            "grid_row": null,
            "grid_template_areas": null,
            "grid_template_columns": null,
            "grid_template_rows": null,
            "height": null,
            "justify_content": null,
            "justify_items": null,
            "left": null,
            "margin": null,
            "max_height": null,
            "max_width": null,
            "min_height": null,
            "min_width": null,
            "object_fit": null,
            "object_position": null,
            "order": null,
            "overflow": null,
            "overflow_x": null,
            "overflow_y": null,
            "padding": null,
            "right": null,
            "top": null,
            "visibility": null,
            "width": null
          }
        },
        "270dc36588784bd3a0593d58d86452e0": {
          "model_module": "@jupyter-widgets/controls",
          "model_name": "DescriptionStyleModel",
          "model_module_version": "1.5.0",
          "state": {
            "_model_module": "@jupyter-widgets/controls",
            "_model_module_version": "1.5.0",
            "_model_name": "DescriptionStyleModel",
            "_view_count": null,
            "_view_module": "@jupyter-widgets/base",
            "_view_module_version": "1.2.0",
            "_view_name": "StyleView",
            "description_width": ""
          }
        },
        "7d8f472490404cdc8e5c7c94ac133723": {
          "model_module": "@jupyter-widgets/controls",
          "model_name": "HBoxModel",
          "model_module_version": "1.5.0",
          "state": {
            "_dom_classes": [],
            "_model_module": "@jupyter-widgets/controls",
            "_model_module_version": "1.5.0",
            "_model_name": "HBoxModel",
            "_view_count": null,
            "_view_module": "@jupyter-widgets/controls",
            "_view_module_version": "1.5.0",
            "_view_name": "HBoxView",
            "box_style": "",
            "children": [
              "IPY_MODEL_5ae5a2b1044d4b0fa3a90ac490cd53a4",
              "IPY_MODEL_c7ddc8c419734f2389a2c7bcea9cc6af",
              "IPY_MODEL_ed6a494c4f634d19bff29cdcf4e08bc4"
            ],
            "layout": "IPY_MODEL_c44df355986b497b866cb70bad277a29"
          }
        },
        "5ae5a2b1044d4b0fa3a90ac490cd53a4": {
          "model_module": "@jupyter-widgets/controls",
          "model_name": "HTMLModel",
          "model_module_version": "1.5.0",
          "state": {
            "_dom_classes": [],
            "_model_module": "@jupyter-widgets/controls",
            "_model_module_version": "1.5.0",
            "_model_name": "HTMLModel",
            "_view_count": null,
            "_view_module": "@jupyter-widgets/controls",
            "_view_module_version": "1.5.0",
            "_view_name": "HTMLView",
            "description": "",
            "description_tooltip": null,
            "layout": "IPY_MODEL_caa95402c9ec4632aaf417970eb947f0",
            "placeholder": "​",
            "style": "IPY_MODEL_c896036c6cfd48da9e2a879724a61e43",
            "value": "100%"
          }
        },
        "c7ddc8c419734f2389a2c7bcea9cc6af": {
          "model_module": "@jupyter-widgets/controls",
          "model_name": "FloatProgressModel",
          "model_module_version": "1.5.0",
          "state": {
            "_dom_classes": [],
            "_model_module": "@jupyter-widgets/controls",
            "_model_module_version": "1.5.0",
            "_model_name": "FloatProgressModel",
            "_view_count": null,
            "_view_module": "@jupyter-widgets/controls",
            "_view_module_version": "1.5.0",
            "_view_name": "ProgressView",
            "bar_style": "success",
            "description": "",
            "description_tooltip": null,
            "layout": "IPY_MODEL_67d5d8e351fb4302b05e3e9ae5e4239a",
            "max": 4542,
            "min": 0,
            "orientation": "horizontal",
            "style": "IPY_MODEL_7db05d83041c4703bc14193183e5aea2",
            "value": 4542
          }
        },
        "ed6a494c4f634d19bff29cdcf4e08bc4": {
          "model_module": "@jupyter-widgets/controls",
          "model_name": "HTMLModel",
          "model_module_version": "1.5.0",
          "state": {
            "_dom_classes": [],
            "_model_module": "@jupyter-widgets/controls",
            "_model_module_version": "1.5.0",
            "_model_name": "HTMLModel",
            "_view_count": null,
            "_view_module": "@jupyter-widgets/controls",
            "_view_module_version": "1.5.0",
            "_view_name": "HTMLView",
            "description": "",
            "description_tooltip": null,
            "layout": "IPY_MODEL_1cb969786d694ea4ab6159295bfd5de5",
            "placeholder": "​",
            "style": "IPY_MODEL_800dcb562b5d425ead43b7f315da606f",
            "value": " 4542/4542 [00:00&lt;00:00, 65351.65it/s]"
          }
        },
        "c44df355986b497b866cb70bad277a29": {
          "model_module": "@jupyter-widgets/base",
          "model_name": "LayoutModel",
          "model_module_version": "1.2.0",
          "state": {
            "_model_module": "@jupyter-widgets/base",
            "_model_module_version": "1.2.0",
            "_model_name": "LayoutModel",
            "_view_count": null,
            "_view_module": "@jupyter-widgets/base",
            "_view_module_version": "1.2.0",
            "_view_name": "LayoutView",
            "align_content": null,
            "align_items": null,
            "align_self": null,
            "border": null,
            "bottom": null,
            "display": null,
            "flex": null,
            "flex_flow": null,
            "grid_area": null,
            "grid_auto_columns": null,
            "grid_auto_flow": null,
            "grid_auto_rows": null,
            "grid_column": null,
            "grid_gap": null,
            "grid_row": null,
            "grid_template_areas": null,
            "grid_template_columns": null,
            "grid_template_rows": null,
            "height": null,
            "justify_content": null,
            "justify_items": null,
            "left": null,
            "margin": null,
            "max_height": null,
            "max_width": null,
            "min_height": null,
            "min_width": null,
            "object_fit": null,
            "object_position": null,
            "order": null,
            "overflow": null,
            "overflow_x": null,
            "overflow_y": null,
            "padding": null,
            "right": null,
            "top": null,
            "visibility": null,
            "width": null
          }
        },
        "caa95402c9ec4632aaf417970eb947f0": {
          "model_module": "@jupyter-widgets/base",
          "model_name": "LayoutModel",
          "model_module_version": "1.2.0",
          "state": {
            "_model_module": "@jupyter-widgets/base",
            "_model_module_version": "1.2.0",
            "_model_name": "LayoutModel",
            "_view_count": null,
            "_view_module": "@jupyter-widgets/base",
            "_view_module_version": "1.2.0",
            "_view_name": "LayoutView",
            "align_content": null,
            "align_items": null,
            "align_self": null,
            "border": null,
            "bottom": null,
            "display": null,
            "flex": null,
            "flex_flow": null,
            "grid_area": null,
            "grid_auto_columns": null,
            "grid_auto_flow": null,
            "grid_auto_rows": null,
            "grid_column": null,
            "grid_gap": null,
            "grid_row": null,
            "grid_template_areas": null,
            "grid_template_columns": null,
            "grid_template_rows": null,
            "height": null,
            "justify_content": null,
            "justify_items": null,
            "left": null,
            "margin": null,
            "max_height": null,
            "max_width": null,
            "min_height": null,
            "min_width": null,
            "object_fit": null,
            "object_position": null,
            "order": null,
            "overflow": null,
            "overflow_x": null,
            "overflow_y": null,
            "padding": null,
            "right": null,
            "top": null,
            "visibility": null,
            "width": null
          }
        },
        "c896036c6cfd48da9e2a879724a61e43": {
          "model_module": "@jupyter-widgets/controls",
          "model_name": "DescriptionStyleModel",
          "model_module_version": "1.5.0",
          "state": {
            "_model_module": "@jupyter-widgets/controls",
            "_model_module_version": "1.5.0",
            "_model_name": "DescriptionStyleModel",
            "_view_count": null,
            "_view_module": "@jupyter-widgets/base",
            "_view_module_version": "1.2.0",
            "_view_name": "StyleView",
            "description_width": ""
          }
        },
        "67d5d8e351fb4302b05e3e9ae5e4239a": {
          "model_module": "@jupyter-widgets/base",
          "model_name": "LayoutModel",
          "model_module_version": "1.2.0",
          "state": {
            "_model_module": "@jupyter-widgets/base",
            "_model_module_version": "1.2.0",
            "_model_name": "LayoutModel",
            "_view_count": null,
            "_view_module": "@jupyter-widgets/base",
            "_view_module_version": "1.2.0",
            "_view_name": "LayoutView",
            "align_content": null,
            "align_items": null,
            "align_self": null,
            "border": null,
            "bottom": null,
            "display": null,
            "flex": null,
            "flex_flow": null,
            "grid_area": null,
            "grid_auto_columns": null,
            "grid_auto_flow": null,
            "grid_auto_rows": null,
            "grid_column": null,
            "grid_gap": null,
            "grid_row": null,
            "grid_template_areas": null,
            "grid_template_columns": null,
            "grid_template_rows": null,
            "height": null,
            "justify_content": null,
            "justify_items": null,
            "left": null,
            "margin": null,
            "max_height": null,
            "max_width": null,
            "min_height": null,
            "min_width": null,
            "object_fit": null,
            "object_position": null,
            "order": null,
            "overflow": null,
            "overflow_x": null,
            "overflow_y": null,
            "padding": null,
            "right": null,
            "top": null,
            "visibility": null,
            "width": null
          }
        },
        "7db05d83041c4703bc14193183e5aea2": {
          "model_module": "@jupyter-widgets/controls",
          "model_name": "ProgressStyleModel",
          "model_module_version": "1.5.0",
          "state": {
            "_model_module": "@jupyter-widgets/controls",
            "_model_module_version": "1.5.0",
            "_model_name": "ProgressStyleModel",
            "_view_count": null,
            "_view_module": "@jupyter-widgets/base",
            "_view_module_version": "1.2.0",
            "_view_name": "StyleView",
            "bar_color": null,
            "description_width": ""
          }
        },
        "1cb969786d694ea4ab6159295bfd5de5": {
          "model_module": "@jupyter-widgets/base",
          "model_name": "LayoutModel",
          "model_module_version": "1.2.0",
          "state": {
            "_model_module": "@jupyter-widgets/base",
            "_model_module_version": "1.2.0",
            "_model_name": "LayoutModel",
            "_view_count": null,
            "_view_module": "@jupyter-widgets/base",
            "_view_module_version": "1.2.0",
            "_view_name": "LayoutView",
            "align_content": null,
            "align_items": null,
            "align_self": null,
            "border": null,
            "bottom": null,
            "display": null,
            "flex": null,
            "flex_flow": null,
            "grid_area": null,
            "grid_auto_columns": null,
            "grid_auto_flow": null,
            "grid_auto_rows": null,
            "grid_column": null,
            "grid_gap": null,
            "grid_row": null,
            "grid_template_areas": null,
            "grid_template_columns": null,
            "grid_template_rows": null,
            "height": null,
            "justify_content": null,
            "justify_items": null,
            "left": null,
            "margin": null,
            "max_height": null,
            "max_width": null,
            "min_height": null,
            "min_width": null,
            "object_fit": null,
            "object_position": null,
            "order": null,
            "overflow": null,
            "overflow_x": null,
            "overflow_y": null,
            "padding": null,
            "right": null,
            "top": null,
            "visibility": null,
            "width": null
          }
        },
        "800dcb562b5d425ead43b7f315da606f": {
          "model_module": "@jupyter-widgets/controls",
          "model_name": "DescriptionStyleModel",
          "model_module_version": "1.5.0",
          "state": {
            "_model_module": "@jupyter-widgets/controls",
            "_model_module_version": "1.5.0",
            "_model_name": "DescriptionStyleModel",
            "_view_count": null,
            "_view_module": "@jupyter-widgets/base",
            "_view_module_version": "1.2.0",
            "_view_name": "StyleView",
            "description_width": ""
          }
        }
      }
    }
  },
  "cells": [
    {
      "cell_type": "markdown",
      "metadata": {
        "id": "YXzeB4F_TvY2"
      },
      "source": [
        "# High level deep learning\n",
        "\n",
        "## Introduction\n",
        "\n",
        "In the past lab we have used the low-level API of PyTorch to implement an MLP. We trained the model to fit a synthetic data set and we experimented with different batch sizes and learning rates.\n",
        "\n",
        "In this lab we will use one of PyTorch high-level APIs: `torch.nn`. This time we will experiment on more complex and natural datasets: MNIST or Fashion-MNIST.\n",
        "\n",
        "\n",
        "## Objectives\n",
        "- Learn to use the PyTorch `nn` API\n",
        "- Build, train and use a simple MLP\n",
        "- Analyse the some of the predictions and mistakes of the model\n",
        "\n",
        "## Getting started\n",
        "\n",
        "We will first import all necessary modules:"
      ]
    },
    {
      "cell_type": "code",
      "metadata": {
        "id": "WM7kdLjWTvY_"
      },
      "source": [
        "import torch\n",
        "import torchvision\n",
        "import torchvision.transforms as transforms\n",
        "import torch.nn as nn\n",
        "import torch.nn.functional as F\n",
        "\n",
        "import numpy as np\n",
        "import matplotlib.pyplot as plt\n",
        "import matplotlib.animation as animation\n",
        "from IPython.display import HTML"
      ],
      "execution_count": null,
      "outputs": []
    },
    {
      "cell_type": "markdown",
      "metadata": {
        "id": "oXsKqrbB8Jww"
      },
      "source": [
        "# PyTorch data handling\n",
        "\n",
        "There are two main data-handling objects in PyTorch.\n",
        "- `torch.utils.data.Dataset`: is an ordered collection of data samples and their labels (if available). PyTorch provides several implementations of these objects for commonly used datasets [here](https://pytorch.org/vision/stable/datasets.html). These usually download the data and have code to access each sample preprocessed with a `torch.transforms` if provided by the user.\n",
        "- `torch.utils.data.DataLoader`: this class will wrap a `Dataset` with an iterator and serve it sequentially, in mini-batches if requested. When preparing the mini-batches the `DataLoader` must collate several examples into a single tensor. This is done by the `collate_fn` argument that can be passed to the `DataLoader` constructor. In most cases the default implementation of this function is sufficient.  \n",
        "\n",
        "Here is an example of using these classes to obtain the publicly available FashionMNIST and iterating over it."
      ]
    },
    {
      "cell_type": "code",
      "metadata": {
        "id": "zlNvg4N08L5i",
        "colab": {
          "base_uri": "https://localhost:8080/",
          "height": 423,
          "referenced_widgets": [
            "4b92af4d93354b63bf5db024f0dd37a7",
            "47a8d639db6e4d0a9a2bdeff476960f8",
            "e7e848cc9c884f1b91de8ffa7aa96095",
            "fb86f8b2affe485981417cdb895bfcca",
            "841146b57bb64340a7b83f5bae19b444",
            "9b8d3eb7ba6c420aa492df90dc163b81",
            "832caeb258ad4bee97fbe34a5a465ad9",
            "c8cc080cac9941c2ba93bb735ff8d4df",
            "6e8d823f13a54e969e28a08b3fe285bd",
            "769158f9e1ea4270a461931c113b4cd2",
            "34648a0d067448f1bf3fb52212118ed2",
            "2b9e48e3fce24df896aae77ed3018ffb",
            "376995f1eee24259b1af9e955055ddff",
            "990384b0be4d4217bac5b6d7c1efd865",
            "cb274c8f154d42a9a41db9325f7b6f2e",
            "22cfc0e9080d406c949b4b5d1659b14e",
            "c7505fe84fb54507b16adbdaffc32d0b",
            "4459aa73d3e348ac936903ab3000e124",
            "7c4409c6585b4f449296977dbf6e8c4f",
            "5ba5d377207a440893a1fa9f17160c4b",
            "3583ac8efb494f6e90524c421d9db068",
            "68197a9150ac444291f6135314bbec7e",
            "958b9c3225784e73a7c4cd1358f81ebb",
            "b25725f13c5847788670ae6daa7c5ce3",
            "42693b52888148babab9b4c66ad7c5b3",
            "8769a6fe12ed44b6beb28813b5286838",
            "98a4d590a8ff4cec86b8a94f0ff9212a",
            "a7cad70747764020a3a94814f08f507d",
            "21881b17551d43019badd05fb68cfc61",
            "8ed5dcd5657c47f185a952ab1e7fe1f4",
            "243b1d63474d4c1c94140013ab29e24f",
            "afc758ac591a4b4a8bc394e1e4b27756",
            "ebc2185a7aae4cd7bf9cff722454bd9a",
            "78caa6dc21f24f59a121b8faf656692c",
            "facbd31a6660450d9b47ae61b1ab57a7",
            "d3e33eb20f38433183fb2d2ee9063d5a",
            "fc76f02b74b24c9094a60c301358ecf7",
            "6f25967dd31a478ba2579ab307b53a51",
            "3e6da82a191441bd8889f7643b4dbaba",
            "c140e62adce348579a6605052020fc15",
            "0909dc8e93164849993678a9104fa5c2",
            "cb3de4f7ba0e4a2ca3f36ec12b274dec",
            "df4cfb41cb7642fca9f88a53f9353431",
            "f6d56a54d24549d592303c9a502e98e8"
          ]
        },
        "outputId": "68792bd7-f5e2-416c-c2b8-3f8c714eda30"
      },
      "source": [
        "training_data = torchvision.datasets.FashionMNIST(\n",
        "    root=\"data/fashionmnist\",\n",
        "    train=True,\n",
        "    download=True,\n",
        "    transform=transforms.ToTensor()\n",
        ")\n",
        "\n",
        "train_dataloader = torch.utils.data.DataLoader(training_data, batch_size=64, shuffle=True)\n",
        "\n",
        "for epoch in range(2):\n",
        "    for data, labels in train_dataloader:\n",
        "        #print(data.shape)\n",
        "        # Here we could do a gradient descent step on our model parameters\n",
        "        pass"
      ],
      "execution_count": null,
      "outputs": [
        {
          "output_type": "stream",
          "name": "stdout",
          "text": [
            "Downloading http://fashion-mnist.s3-website.eu-central-1.amazonaws.com/train-images-idx3-ubyte.gz\n",
            "Downloading http://fashion-mnist.s3-website.eu-central-1.amazonaws.com/train-images-idx3-ubyte.gz to data/fashionmnist/FashionMNIST/raw/train-images-idx3-ubyte.gz\n"
          ]
        },
        {
          "output_type": "display_data",
          "data": {
            "text/plain": [
              "  0%|          | 0/26421880 [00:00<?, ?it/s]"
            ],
            "application/vnd.jupyter.widget-view+json": {
              "version_major": 2,
              "version_minor": 0,
              "model_id": "4b92af4d93354b63bf5db024f0dd37a7"
            }
          },
          "metadata": {}
        },
        {
          "output_type": "stream",
          "name": "stdout",
          "text": [
            "Extracting data/fashionmnist/FashionMNIST/raw/train-images-idx3-ubyte.gz to data/fashionmnist/FashionMNIST/raw\n",
            "\n",
            "Downloading http://fashion-mnist.s3-website.eu-central-1.amazonaws.com/train-labels-idx1-ubyte.gz\n",
            "Downloading http://fashion-mnist.s3-website.eu-central-1.amazonaws.com/train-labels-idx1-ubyte.gz to data/fashionmnist/FashionMNIST/raw/train-labels-idx1-ubyte.gz\n"
          ]
        },
        {
          "output_type": "display_data",
          "data": {
            "text/plain": [
              "  0%|          | 0/29515 [00:00<?, ?it/s]"
            ],
            "application/vnd.jupyter.widget-view+json": {
              "version_major": 2,
              "version_minor": 0,
              "model_id": "2b9e48e3fce24df896aae77ed3018ffb"
            }
          },
          "metadata": {}
        },
        {
          "output_type": "stream",
          "name": "stdout",
          "text": [
            "Extracting data/fashionmnist/FashionMNIST/raw/train-labels-idx1-ubyte.gz to data/fashionmnist/FashionMNIST/raw\n",
            "\n",
            "Downloading http://fashion-mnist.s3-website.eu-central-1.amazonaws.com/t10k-images-idx3-ubyte.gz\n",
            "Downloading http://fashion-mnist.s3-website.eu-central-1.amazonaws.com/t10k-images-idx3-ubyte.gz to data/fashionmnist/FashionMNIST/raw/t10k-images-idx3-ubyte.gz\n"
          ]
        },
        {
          "output_type": "display_data",
          "data": {
            "text/plain": [
              "  0%|          | 0/4422102 [00:00<?, ?it/s]"
            ],
            "application/vnd.jupyter.widget-view+json": {
              "version_major": 2,
              "version_minor": 0,
              "model_id": "958b9c3225784e73a7c4cd1358f81ebb"
            }
          },
          "metadata": {}
        },
        {
          "output_type": "stream",
          "name": "stdout",
          "text": [
            "Extracting data/fashionmnist/FashionMNIST/raw/t10k-images-idx3-ubyte.gz to data/fashionmnist/FashionMNIST/raw\n",
            "\n",
            "Downloading http://fashion-mnist.s3-website.eu-central-1.amazonaws.com/t10k-labels-idx1-ubyte.gz\n",
            "Downloading http://fashion-mnist.s3-website.eu-central-1.amazonaws.com/t10k-labels-idx1-ubyte.gz to data/fashionmnist/FashionMNIST/raw/t10k-labels-idx1-ubyte.gz\n"
          ]
        },
        {
          "output_type": "display_data",
          "data": {
            "text/plain": [
              "  0%|          | 0/5148 [00:00<?, ?it/s]"
            ],
            "application/vnd.jupyter.widget-view+json": {
              "version_major": 2,
              "version_minor": 0,
              "model_id": "78caa6dc21f24f59a121b8faf656692c"
            }
          },
          "metadata": {}
        },
        {
          "output_type": "stream",
          "name": "stdout",
          "text": [
            "Extracting data/fashionmnist/FashionMNIST/raw/t10k-labels-idx1-ubyte.gz to data/fashionmnist/FashionMNIST/raw\n",
            "\n"
          ]
        }
      ]
    },
    {
      "cell_type": "markdown",
      "metadata": {
        "id": "bvLiqO5YTvZB"
      },
      "source": [
        "## MNIST data\n",
        "\n",
        "The MNIST database of handwritten digits scanned into gray-scale images. The digits have been size-normalized and centered in a fixed-size image.\n",
        "\n",
        "We can easily download the data and load it as PyTorch tensors using [`torchvision.datasets.MNIST`](https://pytorch.org/vision/stable/datasets.html#mnist)\n",
        "\n",
        "The output of torchvision datasets are PILImage images of range $[0, 1]$. We transform them to PyTorch tensors and normalize them to have zero mean and a range of $[-1, 1]$ by creating a transform object and pass it to the dataset constructor:\n",
        "\n",
        "```\n",
        "transform = transforms.Compose(\n",
        "    [transforms.ToTensor(),\n",
        "     transforms.Normalize((0.5, 0.5, 0.5), (0.5, 0.5, 0.5))])\n",
        "```\n",
        "\n",
        "\n",
        "## Exercise 1\n",
        "Download and load the train and test splits of the MNIST dataset into variables `train_set` and `test_set`."
      ]
    },
    {
      "cell_type": "code",
      "metadata": {
        "id": "L5eYtiM3TvZC",
        "colab": {
          "base_uri": "https://localhost:8080/",
          "height": 423,
          "referenced_widgets": [
            "9a6ecf53fc394959be2d3465a5a63399",
            "c76f17d220094c93871b3974e6e4e7f9",
            "cfa8507e7a424a448a313ddf05c712d4",
            "7d7c198bcc414355b1a84f3542118908",
            "b05d51b7102a44c6adaf67f67f9de2bc",
            "69e692f6829b4c03bd8ad7be9d69b765",
            "44434ad6dab741ee9a5616196240e4f1",
            "c34ffbcb9c09404b858c226ce651b50a",
            "1d1d6cd4a52644a4abbe5cb29d684640",
            "feb144fdd3094035b7dd25c585454a67",
            "abf0f07438404e7e971cd8c5a9393b0a",
            "f9ac8d946bbc407981fda4795b1124be",
            "d3fb08a1cea74d83a6593874d4f87de0",
            "e98597c88882442d91b1353a6ee86b26",
            "a2aa8437da2a4846a1df05d5facbe78f",
            "ce3a0a0435d942e9863cc5494b11af03",
            "abaaf496ef494fb78f4d2792ef34f9e9",
            "c9565f269e544199bdf079b63a2a686d",
            "25028b69b6484051b96e2cda4777c40b",
            "92e21498ffd84338b1a3bc25196553f8",
            "5dc3ea5c0a4c4dd7874a1e093f1d59d9",
            "e9a28911eccf4b54ab10eb1b41bd24ef",
            "7871905e63d2431ab801dd8f2427e6ae",
            "646c1366011543e091fdaf7388c50f06",
            "66ce8ac0ef8440dca62fdc39c2586fae",
            "759cba23a3c949bb8c0b4650442500f1",
            "5de4588655be4d588f5fbf92b2b92e01",
            "6254534d5f7a4a29b1eb149fcfb9c1c8",
            "6eb0daf7147545918d8b014442f27338",
            "0203e9626c3a41ed81dddaeb91fa5810",
            "21b5d714c59147818a146b08efc4d01f",
            "9f730bc427ea4a92ab5ecaaf0d2716f4",
            "270dc36588784bd3a0593d58d86452e0",
            "7d8f472490404cdc8e5c7c94ac133723",
            "5ae5a2b1044d4b0fa3a90ac490cd53a4",
            "c7ddc8c419734f2389a2c7bcea9cc6af",
            "ed6a494c4f634d19bff29cdcf4e08bc4",
            "c44df355986b497b866cb70bad277a29",
            "caa95402c9ec4632aaf417970eb947f0",
            "c896036c6cfd48da9e2a879724a61e43",
            "67d5d8e351fb4302b05e3e9ae5e4239a",
            "7db05d83041c4703bc14193183e5aea2",
            "1cb969786d694ea4ab6159295bfd5de5",
            "800dcb562b5d425ead43b7f315da606f"
          ]
        },
        "outputId": "3631bbb6-6754-4e2e-f656-a4aa62893a62"
      },
      "source": [
        "### BEGIN SOLUTION\n",
        "training_data = torchvision.datasets.MNIST(\n",
        "    root=\"data/mnist\",\n",
        "    train=True,\n",
        "    download=True,\n",
        "    transform=transforms.ToTensor()\n",
        ")\n",
        "\n",
        "train_dataloader = torch.utils.data.DataLoader(training_data, batch_size=64, shuffle=True)\n",
        "\n",
        "test_data = torchvision.datasets.MNIST(\n",
        "    root=\"data/mnist\",\n",
        "    train=True,\n",
        "    download=True,\n",
        "    transform=transforms.ToTensor()\n",
        ")\n",
        "\n",
        "test_dataloader = torch.utils.data.DataLoader(test_data, batch_size=64, shuffle=True)\n",
        "\n",
        "\n",
        "### END SOLUTION"
      ],
      "execution_count": null,
      "outputs": [
        {
          "output_type": "stream",
          "name": "stdout",
          "text": [
            "Downloading http://yann.lecun.com/exdb/mnist/train-images-idx3-ubyte.gz\n",
            "Downloading http://yann.lecun.com/exdb/mnist/train-images-idx3-ubyte.gz to data/mnist/MNIST/raw/train-images-idx3-ubyte.gz\n"
          ]
        },
        {
          "output_type": "display_data",
          "data": {
            "text/plain": [
              "  0%|          | 0/9912422 [00:00<?, ?it/s]"
            ],
            "application/vnd.jupyter.widget-view+json": {
              "version_major": 2,
              "version_minor": 0,
              "model_id": "9a6ecf53fc394959be2d3465a5a63399"
            }
          },
          "metadata": {}
        },
        {
          "output_type": "stream",
          "name": "stdout",
          "text": [
            "Extracting data/mnist/MNIST/raw/train-images-idx3-ubyte.gz to data/mnist/MNIST/raw\n",
            "\n",
            "Downloading http://yann.lecun.com/exdb/mnist/train-labels-idx1-ubyte.gz\n",
            "Downloading http://yann.lecun.com/exdb/mnist/train-labels-idx1-ubyte.gz to data/mnist/MNIST/raw/train-labels-idx1-ubyte.gz\n"
          ]
        },
        {
          "output_type": "display_data",
          "data": {
            "text/plain": [
              "  0%|          | 0/28881 [00:00<?, ?it/s]"
            ],
            "application/vnd.jupyter.widget-view+json": {
              "version_major": 2,
              "version_minor": 0,
              "model_id": "f9ac8d946bbc407981fda4795b1124be"
            }
          },
          "metadata": {}
        },
        {
          "output_type": "stream",
          "name": "stdout",
          "text": [
            "Extracting data/mnist/MNIST/raw/train-labels-idx1-ubyte.gz to data/mnist/MNIST/raw\n",
            "\n",
            "Downloading http://yann.lecun.com/exdb/mnist/t10k-images-idx3-ubyte.gz\n",
            "Downloading http://yann.lecun.com/exdb/mnist/t10k-images-idx3-ubyte.gz to data/mnist/MNIST/raw/t10k-images-idx3-ubyte.gz\n"
          ]
        },
        {
          "output_type": "display_data",
          "data": {
            "text/plain": [
              "  0%|          | 0/1648877 [00:00<?, ?it/s]"
            ],
            "application/vnd.jupyter.widget-view+json": {
              "version_major": 2,
              "version_minor": 0,
              "model_id": "7871905e63d2431ab801dd8f2427e6ae"
            }
          },
          "metadata": {}
        },
        {
          "output_type": "stream",
          "name": "stdout",
          "text": [
            "Extracting data/mnist/MNIST/raw/t10k-images-idx3-ubyte.gz to data/mnist/MNIST/raw\n",
            "\n",
            "Downloading http://yann.lecun.com/exdb/mnist/t10k-labels-idx1-ubyte.gz\n",
            "Downloading http://yann.lecun.com/exdb/mnist/t10k-labels-idx1-ubyte.gz to data/mnist/MNIST/raw/t10k-labels-idx1-ubyte.gz\n"
          ]
        },
        {
          "output_type": "display_data",
          "data": {
            "text/plain": [
              "  0%|          | 0/4542 [00:00<?, ?it/s]"
            ],
            "application/vnd.jupyter.widget-view+json": {
              "version_major": 2,
              "version_minor": 0,
              "model_id": "7d8f472490404cdc8e5c7c94ac133723"
            }
          },
          "metadata": {}
        },
        {
          "output_type": "stream",
          "name": "stdout",
          "text": [
            "Extracting data/mnist/MNIST/raw/t10k-labels-idx1-ubyte.gz to data/mnist/MNIST/raw\n",
            "\n"
          ]
        }
      ]
    },
    {
      "cell_type": "markdown",
      "metadata": {
        "id": "Ad8zHXqATvZC"
      },
      "source": [
        "Next we are going to explore and visualize the data.\n",
        "\n",
        "## Exercise 2\n",
        "Print how many examples there are in total and the size of the images. \n",
        "\n",
        "Plot the first example and set the title to its label.\n",
        "\n",
        "You can access examples in a dataset by indexing it with an integer: ```first_example = my_dataset[0]```\n",
        "\n",
        "You may use `plt.imshow` to show the examples, use a grayscale colormap when doing so."
      ]
    },
    {
      "cell_type": "code",
      "metadata": {
        "id": "76yVfZs5TvZJ",
        "colab": {
          "base_uri": "https://localhost:8080/",
          "height": 282
        },
        "outputId": "0b848871-9e04-449a-eec2-2d0edede0926"
      },
      "source": [
        "### BEGIN SOLUTION\n",
        "for data, labels in train_dataloader:\n",
        "    print(labels[0])\n",
        "    plt.imshow(data[0].squeeze(), cmap ='gray_r')\n",
        "    break\n",
        "    # Here we could do a gradient descent step on our model parameters\n",
        "    pass\n",
        "### END SOLUTION"
      ],
      "execution_count": null,
      "outputs": [
        {
          "output_type": "stream",
          "name": "stdout",
          "text": [
            "tensor(9)\n"
          ]
        },
        {
          "output_type": "display_data",
          "data": {
            "text/plain": [
              "<Figure size 432x288 with 1 Axes>"
            ],
            "image/png": "[encoded data removed]"
          },
          "metadata": {
            "needs_background": "light"
          }
        }
      ]
    },
    {
      "cell_type": "markdown",
      "metadata": {
        "id": "mgyT7-MwTvZS"
      },
      "source": [
        "We can perform multiple plots using [`Figure.add_subplot`](https://matplotlib.org/stable/api/figure_api.html?highlight=fig%20add_subplot#matplotlib.figure.Figure.add_subplot) like in the following snippet:\n",
        "```\n",
        "fig = plt.figure(figsize=(10, 10))\n",
        "for i, image in enumerate(images):\n",
        "    ax = fig.add_subplot(n_rows, n_cols, i+1)\n",
        "\n",
        "    # some code to normalize each image\n",
        "\n",
        "    ax.imshow(...\n",
        "```\n",
        "\n",
        "This function returns an `Axis` object. We may then call the methods `Axis.imshow()`, `Axis.set_xticks()` and `Axis.set_xlabel`.\n",
        "\n",
        "After all the plotting we may call `plt.tight_layout()` to adjust the layout of the plots.\n",
        "\n",
        "Finally may use Python's function [`enumerate`](https://docs.python.org/3.6/library/functions.html#enumerate) to keep track of the index of axis object we are operating on."
      ]
    },
    {
      "cell_type": "markdown",
      "metadata": {
        "id": "fhH4ExHnTvZT"
      },
      "source": [
        "## Exercise 3\n",
        "Using `matplotlib` plot a set of 25 images (in a 5x5 grid) and set as their x-label the label assigned to each."
      ]
    },
    {
      "cell_type": "code",
      "metadata": {
        "id": "wkSh-RwPTvZT",
        "colab": {
          "base_uri": "https://localhost:8080/",
          "height": 729
        },
        "outputId": "651f1d95-183c-4d8d-c42a-74a160c9dd45"
      },
      "source": [
        "### BEGIN SOLUTION\n",
        "fig = plt.figure(figsize=(10,10))\n",
        "\n",
        "for data, labels in train_dataloader:\n",
        "    \n",
        "\n",
        "    #print(labels[0])\n",
        "    for i, image in enumerate(data):\n",
        "        if i==25:\n",
        "            break\n",
        "        ax = fig.add_subplot(5,5,i+1)\n",
        "        ax.imshow(image.squeeze(), cmap = 'gray_r')\n",
        "        #ax.set_xticks()\n",
        "        ax.set_xlabel(labels[i].item())\n",
        "        \n",
        "    break\n",
        "plt.tight_layout()"
      ],
      "execution_count": null,
      "outputs": [
        {
          "output_type": "display_data",
          "data": {
            "text/plain": [
              "<Figure size 720x720 with 25 Axes>"
            ],
            "image/png": "[encoded data removed]"
          },
          "metadata": {
            "needs_background": "light"
          }
        }
      ]
    },
    {
      "cell_type": "markdown",
      "metadata": {
        "id": "RHSl3LMITvZU"
      },
      "source": [
        "## PyTorch model\n",
        "\n",
        "PyTorch uses an object oriented approach to defining models. We must inherit from [`nn.Module`](https://pytorch.org/docs/stable/generated/torch.nn.Module.html?highlight=module#torch.nn.Module) and override the constructor and the `forward` method. For instance te recreate the model we used in our previous lab we will do the following:\n",
        "\n",
        "```\n",
        "class MyMLP(nn.Module):\n",
        "    def __init__(self):\n",
        "        super().__init__()\n",
        "        self.fc1 = nn.Linear(2, 2)\n",
        "        self.fc2 = nn.Linear(2, 1)\n",
        "\n",
        "    def forward(self, x):\n",
        "        x = torch.flatten(x, 1) # flatten all dimensions except batch\n",
        "        x = torch.sigmoid(self.fc1(x))\n",
        "        x = self.fc2(x)\n",
        "        return x\n",
        "```\n",
        "\n",
        "**Remark**: Note that we have not applied the `torch.sigmoid` activation function on the last layer. Many criterion functions (loss functions) used in PyTorch operate on what we call the *logits*. Logits are the pre-activations of the last layer. In other words, in PyTorch we often don't have an output activation function inside the model and rather let the criterion apply it internally when computing the error.\n",
        "\n",
        "In our current problem, we must classify each image as one out of 10 different classes. Therefore for the output we will need 10 units. When interpreting as probabilities we will want them to sum to 1, as a probability distribution (multinomial). For this we we will have to apply the output activation function `torch.softmax`. Similarly to the sigmoid it restrains the output of each unit between 0 and 1 using exponentials, but it divides each by their sum (thus ensuring their sum to 1).\n",
        "\n",
        "$$\n",
        "\\sigma(\\mathbf{z})_j = \\frac{e^{\\mathbf{z}_j}}{\\sum_k e^{\\mathbf{z}_k}}\n",
        "$$\n",
        "\n",
        "\n",
        "## Exercise 4\n",
        "Build a 2-layer MLP with 100 hidden units to classify each image of MNIST by the digit written."
      ]
    },
    {
      "cell_type": "code",
      "metadata": {
        "id": "7K-AAGv9TvZV"
      },
      "source": [
        "class MyMLP(nn.Module):\n",
        "    def __init__(self):\n",
        "        super().__init__()\n",
        "        self.fc1 = nn.Linear(28*28,100)\n",
        "        self.fc2 = nn.Linear(100,10)\n",
        "\n",
        "    \n",
        "    def forward(self, x):\n",
        "        x = torch.flatten(x,1)\n",
        "        x = torch.sigmoid(self.fc1(x))\n",
        "        x = self.fc2(x)\n",
        "        #print(x[0])\n",
        "        #x = torch.softmax(x, dim =-1)\n",
        "        #print(x[0])\n",
        "        return x\n",
        "\n"
      ],
      "execution_count": null,
      "outputs": []
    },
    {
      "cell_type": "markdown",
      "metadata": {
        "id": "gUKlwFNuTvZV"
      },
      "source": [
        "Once we instantiate our model we may print it using `print`.\n",
        "\n",
        "## Exercise 5\n",
        "Instantiate and print the model."
      ]
    },
    {
      "cell_type": "code",
      "metadata": {
        "id": "_ZIYbr_nTvZV",
        "colab": {
          "base_uri": "https://localhost:8080/"
        },
        "outputId": "d3a1fc81-a3cc-43a3-ca53-793c98c30fa2"
      },
      "source": [
        "### BEGIN SOLUTION\n",
        "print(torch.seed())\n",
        "\n",
        "mymlp = MyMLP()\n",
        "print(mymlp)\n",
        "### END SOLUTION"
      ],
      "execution_count": null,
      "outputs": [
        {
          "output_type": "stream",
          "name": "stdout",
          "text": [
            "14398392488612029891\n",
            "MyMLP(\n",
            "  (fc1): Linear(in_features=784, out_features=100, bias=True)\n",
            "  (fc2): Linear(in_features=100, out_features=10, bias=True)\n",
            ")\n"
          ]
        }
      ]
    },
    {
      "cell_type": "markdown",
      "metadata": {
        "id": "gKCSRzyKTvZW"
      },
      "source": [
        "## PyTorch training\n",
        "\n",
        "In order to train the model in PyTorch we will need the following ingredients:\n",
        " - a **data loader** which will iterate the dataset and construct mini-batches, \n",
        " - a **loss criterion** to measure the error,\n",
        " - an **optimizer** to train the model parameters\n",
        "\n",
        "A default data loader is found in [`torch.utils.data.DataLoader`](https://pytorch.org/docs/stable/data.html#torch.utils.data.DataLoader). Criterions are found in `torch.nn` and optimizers in `torch.optim`.\n",
        "\n",
        "We will use a [`torch.nn.CrossEntropyLoss`](https://pytorch.org/docs/stable/generated/torch.nn.CrossEntropyLoss.html) criterion that allows computing the classification error of a multi-class task. When looking at the docs we note that it operates on the logits (pre-activations) and the targets must be integers indicating the class index (this is how the targets are already encoded in the data sets and loaders, no further processing needed).\n",
        "\n",
        "As optimizer we will use [`torch.optim.SGD`](https://pytorch.org/docs/stable/generated/torch.optim.SGD.html#torch.optim.SGD) with `lr=0.001` and `momentum=0.9`."
      ]
    },
    {
      "cell_type": "markdown",
      "metadata": {
        "id": "6m37VIsyclyW"
      },
      "source": [
        "## Exercise 6\n",
        "\n",
        "Create the data loaders for train and test with a batch size of 16."
      ]
    },
    {
      "cell_type": "code",
      "metadata": {
        "id": "T3d-f0rzcibk"
      },
      "source": [
        "### BEGIN SOLUTION\n",
        "training_data = torchvision.datasets.MNIST(\n",
        "    root=\"data/mnist\",\n",
        "    train=True,\n",
        "    download=True,\n",
        "    transform = transforms.Compose(\n",
        "    [transforms.ToTensor(),\n",
        "     transforms.Normalize((0.5,), (0.5, ))])\n",
        "    \n",
        ")\n",
        "\n",
        "train_dataloader = torch.utils.data.DataLoader(training_data, batch_size=16, shuffle=True)\n",
        "\n",
        "test_data = torchvision.datasets.MNIST(\n",
        "    root=\"data/mnist\",\n",
        "    train=True,\n",
        "    download=True,\n",
        "    transform = transforms.Compose(\n",
        "    [transforms.ToTensor(),\n",
        "     transforms.Normalize((0.5, ), (0.5, ))])\n",
        "    )\n",
        "\n",
        "test_dataloader = torch.utils.data.DataLoader(test_data, batch_size=16, shuffle=True)\n",
        "\n",
        "### END SOLUTION"
      ],
      "execution_count": null,
      "outputs": []
    },
    {
      "cell_type": "markdown",
      "metadata": {
        "id": "N83wmjOPdUj_"
      },
      "source": [
        "## Exercise 7\n",
        "\n",
        "Create a cross-entropy loss criterion and an SGD optimizer."
      ]
    },
    {
      "cell_type": "code",
      "source": [
        "h = mymlp.parameters()\n",
        "\n",
        "for x in h:\n",
        "    print(x.shape)"
      ],
      "metadata": {
        "colab": {
          "base_uri": "https://localhost:8080/"
        },
        "id": "fTD3slxZdJIQ",
        "outputId": "50ecbada-0ea2-47c7-b5f9-6d1b9ebc8f23"
      },
      "execution_count": null,
      "outputs": [
        {
          "output_type": "stream",
          "name": "stdout",
          "text": [
            "torch.Size([100, 784])\n",
            "torch.Size([100])\n",
            "torch.Size([10, 100])\n",
            "torch.Size([10])\n"
          ]
        }
      ]
    },
    {
      "cell_type": "code",
      "metadata": {
        "id": "XksWGmcfTvZW",
        "colab": {
          "base_uri": "https://localhost:8080/"
        },
        "outputId": "de865d23-d650-4dd1-d83e-a61fae8ae727"
      },
      "source": [
        "import torch.optim as optim\n",
        "\n",
        "### BEGIN SOLUTION\n",
        "loss = torch.nn.CrossEntropyLoss()\n",
        "optimizer = optim.SGD(mymlp.parameters(), lr=0.001, momentum=0.9)\n",
        "### END SOLUTION\n",
        "print(optimizer)"
      ],
      "execution_count": null,
      "outputs": [
        {
          "output_type": "stream",
          "name": "stdout",
          "text": [
            "SGD (\n",
            "Parameter Group 0\n",
            "    dampening: 0\n",
            "    differentiable: False\n",
            "    foreach: None\n",
            "    lr: 0.001\n",
            "    maximize: False\n",
            "    momentum: 0.9\n",
            "    nesterov: False\n",
            "    weight_decay: 0\n",
            ")\n"
          ]
        }
      ]
    },
    {
      "cell_type": "markdown",
      "metadata": {
        "id": "mhrnxhOLTvZW"
      },
      "source": [
        "Now we will train the model by building the training loop in which we will iterate over the data from the data loader.\n",
        "\n",
        "For each mini-batch in the data loader:\n",
        "1. zero the gradient\n",
        "2. run a forward pass of the model on the mini-batch\n",
        "3. compute the loss between model's output and targets using the criterion\n",
        "4. perform a backward pass (compute the gradients)\n",
        "5. run a step of the optimizer\n",
        "6. print every 1000 iterations the average loss over those past iterations\n",
        "\n",
        "## Exercise 8\n",
        "Train your model."
      ]
    },
    {
      "cell_type": "code",
      "source": [
        "for data, labels in train_dataloader:\n",
        "    print(labels[0])\n",
        "    print(data[0].shape)\n",
        "    plt.imshow(data[0].squeeze(), cmap ='gray_r')\n",
        "    break\n"
      ],
      "metadata": {
        "colab": {
          "base_uri": "https://localhost:8080/",
          "height": 300
        },
        "id": "BD2qdVm99qtg",
        "outputId": "5481bb5f-644c-4598-a949-dbe33b73e26f"
      },
      "execution_count": null,
      "outputs": [
        {
          "output_type": "stream",
          "name": "stdout",
          "text": [
            "tensor(8)\n",
            "torch.Size([1, 28, 28])\n"
          ]
        },
        {
          "output_type": "display_data",
          "data": {
            "text/plain": [
              "<Figure size 432x288 with 1 Axes>"
            ],
            "image/png": "[encoded data removed]"
          },
          "metadata": {
            "needs_background": "light"
          }
        }
      ]
    },
    {
      "cell_type": "code",
      "metadata": {
        "id": "u8tF_gJ7TvZX",
        "colab": {
          "base_uri": "https://localhost:8080/"
        },
        "outputId": "ac4d1a53-cdc3-40d6-9c60-c73e66cf7b9b"
      },
      "source": [
        "def train_model(model, dataloader, optimizer, criterion, n_epochs=1, log_every=200, device='cpu'):\n",
        "    ## BEGIN SOLUTION\n",
        "    \n",
        "    model.to(device)\n",
        "\n",
        "    model.train()\n",
        "\n",
        "    for epoch in range(n_epochs):\n",
        "        \n",
        "        running_loss = 0.\n",
        "        running_examples = 0\n",
        "        for i, batch in enumerate(dataloader):\n",
        "            \n",
        "            with torch.no_grad():           \n",
        "                optimizer.zero_grad()\n",
        "            \n",
        "            batch[0], batch[1] = batch[0].to(device), batch[1].to(device)\n",
        "            yhat = model(batch[0])\n",
        "            myloss = criterion(yhat, batch[1])\n",
        "            myloss.backward()\n",
        "            \n",
        "            with torch.no_grad():\n",
        "                optimizer.step()\n",
        "            \n",
        "            running_loss += myloss\n",
        "            \n",
        "            if (i%log_every == 0) and (i!=0):\n",
        "                print('ep: ', epoch, 'it: ', i, 'loss:',  (running_loss/i).item())\n",
        "            \n",
        "\n",
        "\n",
        "\n",
        "# torch.manual_seed(16735017819403827083)\n",
        "# print(torch.seed())  \n",
        "\n",
        "train_model(mymlp, train_dataloader, optimizer, criterion=loss, n_epochs=3)\n"
      ],
      "execution_count": null,
      "outputs": [
        {
          "output_type": "stream",
          "name": "stdout",
          "text": [
            "ep:  0 it:  200 loss: 2.2345829010009766\n",
            "ep:  0 it:  400 loss: 2.1255569458007812\n",
            "ep:  0 it:  600 loss: 1.9986472129821777\n",
            "ep:  0 it:  800 loss: 1.871260166168213\n",
            "ep:  0 it:  1000 loss: 1.751071810722351\n",
            "ep:  0 it:  1200 loss: 1.640696406364441\n",
            "ep:  0 it:  1400 loss: 1.5428345203399658\n",
            "ep:  0 it:  1600 loss: 1.457593560218811\n",
            "ep:  0 it:  1800 loss: 1.3837077617645264\n",
            "ep:  0 it:  2000 loss: 1.3176686763763428\n",
            "ep:  0 it:  2200 loss: 1.2592697143554688\n",
            "ep:  0 it:  2400 loss: 1.2065415382385254\n",
            "ep:  0 it:  2600 loss: 1.1614876985549927\n",
            "ep:  0 it:  2800 loss: 1.119156002998352\n",
            "ep:  0 it:  3000 loss: 1.081912875175476\n",
            "ep:  0 it:  3200 loss: 1.0490360260009766\n",
            "ep:  0 it:  3400 loss: 1.0170491933822632\n",
            "ep:  0 it:  3600 loss: 0.9883832335472107\n",
            "ep:  1 it:  200 loss: 0.47822028398513794\n",
            "ep:  1 it:  400 loss: 0.47551029920578003\n",
            "ep:  1 it:  600 loss: 0.4730820655822754\n",
            "ep:  1 it:  800 loss: 0.4626246690750122\n",
            "ep:  1 it:  1000 loss: 0.45398882031440735\n",
            "ep:  1 it:  1200 loss: 0.4501592516899109\n",
            "ep:  1 it:  1400 loss: 0.44916918873786926\n",
            "ep:  1 it:  1600 loss: 0.44491854310035706\n",
            "ep:  1 it:  1800 loss: 0.4397267699241638\n",
            "ep:  1 it:  2000 loss: 0.43518367409706116\n",
            "ep:  1 it:  2200 loss: 0.4325508773326874\n",
            "ep:  1 it:  2400 loss: 0.4274287521839142\n",
            "ep:  1 it:  2600 loss: 0.4221765697002411\n",
            "ep:  1 it:  2800 loss: 0.4193725883960724\n",
            "ep:  1 it:  3000 loss: 0.4159787595272064\n",
            "ep:  1 it:  3200 loss: 0.4122188985347748\n",
            "ep:  1 it:  3400 loss: 0.4090569317340851\n",
            "ep:  1 it:  3600 loss: 0.4071551561355591\n",
            "ep:  2 it:  200 loss: 0.3567355275154114\n",
            "ep:  2 it:  400 loss: 0.35184410214424133\n",
            "ep:  2 it:  600 loss: 0.3582450747489929\n",
            "ep:  2 it:  800 loss: 0.353352427482605\n",
            "ep:  2 it:  1000 loss: 0.35323694348335266\n",
            "ep:  2 it:  1200 loss: 0.3526512682437897\n",
            "ep:  2 it:  1400 loss: 0.35329321026802063\n",
            "ep:  2 it:  1600 loss: 0.3512958586215973\n",
            "ep:  2 it:  1800 loss: 0.34816473722457886\n",
            "ep:  2 it:  2000 loss: 0.34666523337364197\n",
            "ep:  2 it:  2200 loss: 0.34749606251716614\n",
            "ep:  2 it:  2400 loss: 0.3453250527381897\n",
            "ep:  2 it:  2600 loss: 0.34308841824531555\n",
            "ep:  2 it:  2800 loss: 0.3409481644630432\n",
            "ep:  2 it:  3000 loss: 0.33976736664772034\n",
            "ep:  2 it:  3200 loss: 0.3384365439414978\n",
            "ep:  2 it:  3400 loss: 0.3372863531112671\n",
            "ep:  2 it:  3600 loss: 0.3368045687675476\n"
          ]
        }
      ]
    },
    {
      "cell_type": "code",
      "source": [
        "mymlp = MyMLP()\n",
        "loss = torch.nn.CrossEntropyLoss()\n",
        "optimizer = optim.SGD(mymlp.parameters(), lr=0.001, momentum=0.9)\n",
        "train_model(mymlp, train_dataloader, optimizer, criterion=loss, n_epochs=3)\n"
      ],
      "metadata": {
        "colab": {
          "base_uri": "https://localhost:8080/"
        },
        "id": "5vx9EsV754cI",
        "outputId": "c5d3105a-f146-438f-b3c2-50667d624509"
      },
      "execution_count": null,
      "outputs": [
        {
          "output_type": "stream",
          "name": "stdout",
          "text": [
            "ep:  0 it:  200 loss: 2.250584602355957\n",
            "ep:  0 it:  400 loss: 2.1476035118103027\n",
            "ep:  0 it:  600 loss: 2.0314271450042725\n",
            "ep:  0 it:  800 loss: 1.9059350490570068\n",
            "ep:  0 it:  1000 loss: 1.7843571901321411\n",
            "ep:  0 it:  1200 loss: 1.6692299842834473\n",
            "ep:  0 it:  1400 loss: 1.5700746774673462\n",
            "ep:  0 it:  1600 loss: 1.4826791286468506\n",
            "ep:  0 it:  1800 loss: 1.4040855169296265\n",
            "ep:  0 it:  2000 loss: 1.3363885879516602\n",
            "ep:  0 it:  2200 loss: 1.2775685787200928\n",
            "ep:  0 it:  2400 loss: 1.2227447032928467\n",
            "ep:  0 it:  2600 loss: 1.1743316650390625\n",
            "ep:  0 it:  2800 loss: 1.1323035955429077\n",
            "ep:  0 it:  3000 loss: 1.094451665878296\n",
            "ep:  0 it:  3200 loss: 1.0590782165527344\n",
            "ep:  0 it:  3400 loss: 1.0282529592514038\n",
            "ep:  0 it:  3600 loss: 0.9980968832969666\n",
            "ep:  1 it:  200 loss: 0.48474884033203125\n",
            "ep:  1 it:  400 loss: 0.4725971221923828\n",
            "ep:  1 it:  600 loss: 0.46054041385650635\n",
            "ep:  1 it:  800 loss: 0.456804096698761\n",
            "ep:  1 it:  1000 loss: 0.4500132203102112\n",
            "ep:  1 it:  1200 loss: 0.4493284523487091\n",
            "ep:  1 it:  1400 loss: 0.4427764117717743\n",
            "ep:  1 it:  1600 loss: 0.4371695816516876\n",
            "ep:  1 it:  1800 loss: 0.431253045797348\n",
            "ep:  1 it:  2000 loss: 0.4289129674434662\n",
            "ep:  1 it:  2200 loss: 0.4267178475856781\n",
            "ep:  1 it:  2400 loss: 0.4254817068576813\n",
            "ep:  1 it:  2600 loss: 0.42345842719078064\n",
            "ep:  1 it:  2800 loss: 0.420471727848053\n",
            "ep:  1 it:  3000 loss: 0.4174451231956482\n",
            "ep:  1 it:  3200 loss: 0.4152650535106659\n",
            "ep:  1 it:  3400 loss: 0.4132676124572754\n",
            "ep:  1 it:  3600 loss: 0.41020479798316956\n",
            "ep:  2 it:  200 loss: 0.37041422724723816\n",
            "ep:  2 it:  400 loss: 0.3619546890258789\n",
            "ep:  2 it:  600 loss: 0.3607146441936493\n",
            "ep:  2 it:  800 loss: 0.35584309697151184\n",
            "ep:  2 it:  1000 loss: 0.35808947682380676\n",
            "ep:  2 it:  1200 loss: 0.35563093423843384\n",
            "ep:  2 it:  1400 loss: 0.3545757830142975\n",
            "ep:  2 it:  1600 loss: 0.3532046973705292\n",
            "ep:  2 it:  1800 loss: 0.34919944405555725\n",
            "ep:  2 it:  2000 loss: 0.35082748532295227\n",
            "ep:  2 it:  2200 loss: 0.3495562970638275\n",
            "ep:  2 it:  2400 loss: 0.3490147292613983\n",
            "ep:  2 it:  2600 loss: 0.34650182723999023\n",
            "ep:  2 it:  2800 loss: 0.3442210853099823\n",
            "ep:  2 it:  3000 loss: 0.34250012040138245\n",
            "ep:  2 it:  3200 loss: 0.34047508239746094\n",
            "ep:  2 it:  3400 loss: 0.33855369687080383\n",
            "ep:  2 it:  3600 loss: 0.33738741278648376\n"
          ]
        }
      ]
    },
    {
      "cell_type": "markdown",
      "metadata": {
        "id": "X6PLIPnGTvZX"
      },
      "source": [
        "We will now quickly save the trained model parameters `model.state_dict()` by using `torch.save()`:\n",
        "\n",
        "\n",
        "## Exercise 9\n",
        "\n",
        "Save the model into a file names `mnist_model.pt`. Save as well any other information required to continue training from where we left off."
      ]
    },
    {
      "cell_type": "code",
      "metadata": {
        "id": "AQpjbXKlTvZX"
      },
      "source": [
        "### BEGIN SOLUTION\n",
        "torch.save(mymlp.state_dict(), 'mnist_model.pt')\n",
        "\n",
        "### END SOLUTION"
      ],
      "execution_count": null,
      "outputs": []
    },
    {
      "cell_type": "code",
      "source": [
        "model = MyMLP()\n",
        "model.load_state_dict(torch.load('mnist_model.pt'))\n",
        "model.eval()"
      ],
      "metadata": {
        "id": "C0yu3B8Ahr_k",
        "colab": {
          "base_uri": "https://localhost:8080/"
        },
        "outputId": "023f5f5a-70dc-484c-d8fe-04020d770d9e"
      },
      "execution_count": null,
      "outputs": [
        {
          "output_type": "execute_result",
          "data": {
            "text/plain": [
              "MyMLP(\n",
              "  (fc1): Linear(in_features=784, out_features=100, bias=True)\n",
              "  (fc2): Linear(in_features=100, out_features=10, bias=True)\n",
              ")"
            ]
          },
          "metadata": {},
          "execution_count": 14
        }
      ]
    },
    {
      "cell_type": "code",
      "source": [
        "train_model(mymlp, train_dataloader, optimizer, criterion=loss, n_epochs=1)\n"
      ],
      "metadata": {
        "colab": {
          "base_uri": "https://localhost:8080/"
        },
        "id": "0hHfeuKHmaWo",
        "outputId": "a0947207-6d3d-429e-9f12-ae3ebdbbc3b4"
      },
      "execution_count": null,
      "outputs": [
        {
          "output_type": "stream",
          "name": "stdout",
          "text": [
            "ep:  0 it:  200 loss: 0.3167106509208679\n",
            "ep:  0 it:  400 loss: 0.31490030884742737\n",
            "ep:  0 it:  600 loss: 0.3070599138736725\n",
            "ep:  0 it:  800 loss: 0.3023275136947632\n",
            "ep:  0 it:  1000 loss: 0.30113551020622253\n",
            "ep:  0 it:  1200 loss: 0.3019973337650299\n",
            "ep:  0 it:  1400 loss: 0.3030286133289337\n",
            "ep:  0 it:  1600 loss: 0.3050793707370758\n",
            "ep:  0 it:  1800 loss: 0.30636847019195557\n",
            "ep:  0 it:  2000 loss: 0.30313804745674133\n",
            "ep:  0 it:  2200 loss: 0.30083003640174866\n",
            "ep:  0 it:  2400 loss: 0.3013856112957001\n",
            "ep:  0 it:  2600 loss: 0.3024855852127075\n",
            "ep:  0 it:  2800 loss: 0.3036428987979889\n",
            "ep:  0 it:  3000 loss: 0.30320116877555847\n",
            "ep:  0 it:  3200 loss: 0.3009776473045349\n",
            "ep:  0 it:  3400 loss: 0.3014736473560333\n",
            "ep:  0 it:  3600 loss: 0.3011268675327301\n"
          ]
        }
      ]
    },
    {
      "cell_type": "markdown",
      "metadata": {
        "id": "d2emDItoTvZY"
      },
      "source": [
        "With a trained model, we may now check out the predictions of the model.\n",
        "\n",
        "## Exercise 10\n",
        "\n",
        "Visualize the first 25 images of the test set and set each image's title to the predicted digit and in parenthesis the label."
      ]
    },
    {
      "cell_type": "code",
      "source": [
        "fig = plt.figure(figsize=(5,5))\n",
        "total = 0\n",
        "for data, labels in test_dataloader:\n",
        "    \n",
        "    for i, image in enumerate(data):\n",
        "        if total==25:\n",
        "            break\n",
        "        ax = fig.add_subplot(5,5,total+1)\n",
        "        total+=1\n",
        "        ax.imshow(image.squeeze(), cmap = 'gray')\n",
        "        \n",
        "        ax.set_xticks([])\n",
        "        ax.set_yticks([])\n",
        "        ax.title.set_text(f'{torch.argmax(model(image)).item()} ({labels[i].item()})')\n",
        "        \n",
        "\n",
        "    if total == 25:\n",
        "        break\n",
        "\n",
        "plt.tight_layout()\n"
      ],
      "metadata": {
        "colab": {
          "base_uri": "https://localhost:8080/",
          "height": 369
        },
        "id": "0lw6og9Zxp_X",
        "outputId": "e0b8df7d-1496-4175-fb09-6755261ea843"
      },
      "execution_count": null,
      "outputs": [
        {
          "output_type": "display_data",
          "data": {
            "text/plain": [
              "<Figure size 360x360 with 25 Axes>"
            ],
            "image/png": "[encoded data removed]"
          },
          "metadata": {}
        }
      ]
    },
    {
      "cell_type": "markdown",
      "metadata": {
        "id": "cN1974siTvZZ"
      },
      "source": [
        "## Exercise 11\n",
        "Do the same as in the previous exercise, with the same images. But this time, before predicting the label shift all the images 3 pixels to the right. You may use `torch.roll` to perform the shift.\n"
      ]
    },
    {
      "cell_type": "code",
      "source": [
        "fig = plt.figure(figsize=(5,5))\n",
        "total = 0\n",
        "for data, labels in test_dataloader:\n",
        "    \n",
        "    for i, image in enumerate(data):\n",
        "        if total==25:\n",
        "            break\n",
        "        ax = fig.add_subplot(5,5,total+1)\n",
        "        total+=1\n",
        "        rolled_image = torch.roll(image, 3, 2)\n",
        "        ax.imshow(rolled_image.squeeze(), cmap = 'gray')\n",
        "        \n",
        "        ax.set_xticks([])\n",
        "        ax.set_yticks([])\n",
        "        ax.title.set_text(f'{torch.argmax(model(rolled_image)).item()} ({labels[i].item()})')\n",
        "        \n",
        "\n",
        "    if total == 25:\n",
        "        break\n",
        "\n",
        "plt.tight_layout()\n"
      ],
      "metadata": {
        "colab": {
          "base_uri": "https://localhost:8080/",
          "height": 369
        },
        "id": "ml9BNM7OAEWv",
        "outputId": "1e61008d-b800-4791-9d88-090321d66027"
      },
      "execution_count": null,
      "outputs": [
        {
          "output_type": "display_data",
          "data": {
            "text/plain": [
              "<Figure size 360x360 with 25 Axes>"
            ],
            "image/png": "[encoded data removed]"
          },
          "metadata": {}
        }
      ]
    },
    {
      "cell_type": "code",
      "source": [
        "rolled_image = torch.roll(image, 10, 2)\n",
        "plt.imshow(image.squeeze(), cmap = 'gray')"
      ],
      "metadata": {
        "colab": {
          "base_uri": "https://localhost:8080/",
          "height": 282
        },
        "id": "tugyKNnsAUBg",
        "outputId": "3d19fb6e-b583-4819-def1-02d67c9b2935"
      },
      "execution_count": null,
      "outputs": [
        {
          "output_type": "execute_result",
          "data": {
            "text/plain": [
              "<matplotlib.image.AxesImage at 0x7f15e9bc0d90>"
            ]
          },
          "metadata": {},
          "execution_count": 18
        },
        {
          "output_type": "display_data",
          "data": {
            "text/plain": [
              "<Figure size 432x288 with 1 Axes>"
            ],
            "image/png": "[encoded data removed]"
          },
          "metadata": {
            "needs_background": "light"
          }
        }
      ]
    },
    {
      "cell_type": "code",
      "source": [
        "plt.imshow(rolled_image.squeeze(), cmap = 'gray')"
      ],
      "metadata": {
        "colab": {
          "base_uri": "https://localhost:8080/",
          "height": 282
        },
        "id": "QFYOyN4VAvzw",
        "outputId": "8823000b-001a-40f7-bb24-edb51f232aec"
      },
      "execution_count": null,
      "outputs": [
        {
          "output_type": "execute_result",
          "data": {
            "text/plain": [
              "<matplotlib.image.AxesImage at 0x7f15e9a60280>"
            ]
          },
          "metadata": {},
          "execution_count": 19
        },
        {
          "output_type": "display_data",
          "data": {
            "text/plain": [
              "<Figure size 432x288 with 1 Axes>"
            ],
            "image/png": "[encoded data removed]"
          },
          "metadata": {
            "needs_background": "light"
          }
        }
      ]
    },
    {
      "cell_type": "code",
      "metadata": {
        "id": "jNsJSkn8TvZZ",
        "colab": {
          "base_uri": "https://localhost:8080/",
          "height": 34
        },
        "outputId": "8f136627-7842-4253-f3eb-866182118526"
      },
      "source": [
        "### BEGIN SOLUTION\n",
        "### END SOLUTION\n",
        "    \n",
        "plt.tight_layout()"
      ],
      "execution_count": null,
      "outputs": [
        {
          "output_type": "display_data",
          "data": {
            "text/plain": [
              "<Figure size 432x288 with 0 Axes>"
            ]
          },
          "metadata": {}
        }
      ]
    },
    {
      "cell_type": "markdown",
      "metadata": {
        "id": "vB0s2NbOTvZa"
      },
      "source": [
        "## Exercise 12\n",
        "Compare the predicted labels, and explain the difference you observe.\n"
      ]
    },
    {
      "cell_type": "code",
      "source": [],
      "metadata": {
        "id": "9_N2WW5krc2t"
      },
      "execution_count": null,
      "outputs": []
    },
    {
      "cell_type": "markdown",
      "metadata": {
        "id": "lNp6bzxJTvZa"
      },
      "source": [
        "Your explanation here."
      ]
    },
    {
      "cell_type": "markdown",
      "metadata": {
        "id": "lYiChLbRTvZa"
      },
      "source": [
        " are now going to compute the accuracy on the whole test set. Here we could iterate over the `test_set` one image at a time. But to leverage parallelisation and reduce computational cost we will iterate over the test set in batches using the `test_loader`.\n",
        "\n",
        "## Exercise 13\n",
        "What's the accuracy of the model on the full test set?\n"
      ]
    },
    {
      "cell_type": "code",
      "metadata": {
        "id": "TjVJp2jaTvZa",
        "colab": {
          "base_uri": "https://localhost:8080/"
        },
        "outputId": "26a1e584-7e2c-416a-bf69-38c67aaacd44"
      },
      "source": [
        "correct = 0\n",
        "total = 0\n",
        "\n",
        "# since we're not training, we don't need to calculate the gradients for our outputs\n",
        "### BEGIN SOLUTION\n",
        "\n",
        "for data, labels in test_dataloader:\n",
        "    \n",
        "    yhat = model(data) \n",
        "    correct += sum(torch.argmax(yhat, dim =1) == labels).item()\n",
        "    total+= data.shape[0]\n",
        "    \n",
        "    \n",
        "\n",
        "### END SOLUTION\n",
        "print(total)\n",
        "print(correct)\n",
        "print('Accuracy of the network on the 10000 test images: %d %%' % (100 * correct / total))"
      ],
      "execution_count": null,
      "outputs": [
        {
          "output_type": "stream",
          "name": "stdout",
          "text": [
            "60000\n",
            "54669\n",
            "Accuracy of the network on the 10000 test images: 91 %\n"
          ]
        }
      ]
    },
    {
      "cell_type": "markdown",
      "metadata": {
        "id": "ar_mEoCRWBXa"
      },
      "source": [
        "## Exercise 14\n",
        "What's the accuracy of the model on the full test set if we apply the image shift of 3 pixels to the right? (Verify by plotting the last batch that the images have been shifted correctly)"
      ]
    },
    {
      "cell_type": "code",
      "metadata": {
        "colab": {
          "base_uri": "https://localhost:8080/"
        },
        "id": "N6L90HxsWJLz",
        "outputId": "1d1b80dd-8c57-4d69-ce78-1d5d3087c85f"
      },
      "source": [
        "correct = 0\n",
        "total = 0\n",
        "\n",
        "# since we're not training, we don't need to calculate the gradients for our outputs\n",
        "### BEGIN SOLUTION\n",
        "\n",
        "\n",
        "for data, labels in test_dataloader:\n",
        "    \n",
        "    rolled_image = torch.roll(data, 3, 2)\n",
        "        \n",
        "    yhat = model(rolled_image)\n",
        "     \n",
        "    correct += sum(torch.argmax(yhat, dim =1) == labels).item()\n",
        "    total+= data.shape[0]\n",
        "\n",
        "### END SOLUTION\n",
        "\n",
        "\n",
        "print('Accuracy of the network on the 10000 test shifted images: %d %%' % (100 * correct / total))"
      ],
      "execution_count": null,
      "outputs": [
        {
          "output_type": "stream",
          "name": "stdout",
          "text": [
            "Accuracy of the network on the 10000 test shifted images: 26 %\n"
          ]
        }
      ]
    },
    {
      "cell_type": "markdown",
      "metadata": {
        "id": "2QtGEWDSh6TP"
      },
      "source": [
        "We will now explore further the performance on the original (non-shifted) version of the test set.\n",
        "\n",
        "To start with we will look a the confusion matrix. For this we may use the [`sklearn.metrics.ConfusionMatrixDisplay.from_predictions`](https://scikit-learn.org/stable/modules/generated/sklearn.metrics.ConfusionMatrixDisplay.html#sklearn.metrics.ConfusionMatrixDisplay.from_predictions)\n",
        "\n",
        "## Exercise 15\n",
        "\n",
        "Plot the confusion matrix over the test set."
      ]
    },
    {
      "cell_type": "code",
      "metadata": {
        "colab": {
          "base_uri": "https://localhost:8080/",
          "height": 279
        },
        "id": "IiRKOpURlmKv",
        "outputId": "82736d36-b59f-467b-8e66-ff52b674e26f"
      },
      "source": [
        "from sklearn.metrics import ConfusionMatrixDisplay\n",
        "\n",
        "### BEGIN SOLUTION\n",
        "y_test = torch.tensor([], requires_grad=False)\n",
        "y_pred = torch.tensor([], requires_grad=False)\n",
        "\n",
        "for data, labels in test_dataloader:\n",
        "        \n",
        "    yhat = model(data)\n",
        "    yhat = torch.argmax(yhat, dim =1)\n",
        "    with torch.no_grad():\n",
        "        y_pred = torch.cat((y_pred, yhat))\n",
        "        y_test = torch.cat((y_test, labels))\n",
        "     \n",
        "    \n",
        "y_pred.requires_grad = False\n",
        "y_test.requires_grad = False\n",
        "\n",
        "ConfusionMatrixDisplay.from_predictions(y_test, y_pred)\n",
        "### END SOLUTION\n",
        "\n",
        "plt.show()"
      ],
      "execution_count": null,
      "outputs": [
        {
          "output_type": "display_data",
          "data": {
            "text/plain": [
              "<Figure size 432x288 with 2 Axes>"
            ],
            "image/png": "[encoded data removed]"
          },
          "metadata": {
            "needs_background": "light"
          }
        }
      ]
    },
    {
      "cell_type": "markdown",
      "metadata": {
        "id": "NyjjO2sPm9WR"
      },
      "source": [
        "## Exercise 16\n",
        "\n",
        "Do the same on the 3-pixel right-shifted images."
      ]
    },
    {
      "cell_type": "code",
      "metadata": {
        "colab": {
          "base_uri": "https://localhost:8080/",
          "height": 279
        },
        "id": "xJBzgZ7nm8s5",
        "outputId": "326f5633-0a55-4545-954b-efe6fc30a9ab"
      },
      "source": [
        "from sklearn.metrics import ConfusionMatrixDisplay\n",
        "\n",
        "### BEGIN SOLUTION\n",
        "\n",
        "y_test = torch.tensor([], requires_grad=False)\n",
        "y_pred = torch.tensor([], requires_grad=False)\n",
        "\n",
        "for data, labels in test_dataloader:\n",
        "\n",
        "    rolled_image = torch.roll(data, 3, 2)\n",
        "        \n",
        "    yhat = model(rolled_image)\n",
        "    yhat = torch.argmax(yhat, dim =1)\n",
        "\n",
        "    with torch.no_grad():\n",
        "        y_pred = torch.cat((y_pred, yhat))\n",
        "        y_test = torch.cat((y_test, labels))\n",
        "     \n",
        "    \n",
        "#y_pred.requires_grad = False\n",
        "#y_test.requires_grad = False\n",
        "\n",
        "ConfusionMatrixDisplay.from_predictions(y_test, y_pred)\n",
        "\n",
        "\n",
        "### END SOLUTION\n",
        "\n",
        "plt.show()"
      ],
      "execution_count": null,
      "outputs": [
        {
          "output_type": "display_data",
          "data": {
            "text/plain": [
              "<Figure size 432x288 with 2 Axes>"
            ],
            "image/png": "[encoded data removed]"
          },
          "metadata": {
            "needs_background": "light"
          }
        }
      ]
    },
    {
      "cell_type": "markdown",
      "metadata": {
        "id": "qPHIvb8qo3UJ"
      },
      "source": [
        "## Exercise 17\n",
        "\n",
        "Discuss the differences in the confusion matrix. "
      ]
    },
    {
      "cell_type": "markdown",
      "metadata": {
        "id": "gtF-Je_OMegC"
      },
      "source": [
        "**Your discussion here**"
      ]
    },
    {
      "cell_type": "markdown",
      "metadata": {
        "id": "cN61Aa8LnWel"
      },
      "source": [
        "# Miss-predictions\n",
        "\n",
        "One last aspect that we are going to explore is the actual mistakes that the model does. A way to interpret the output of the model is as a probability distribution over possible classes. \n",
        "\n",
        "\n",
        "With respect to this predicted probability distribution we may order the model's mistakes on a scale between two extremes:\n",
        "- examples for which the model is equally confused among all alternative classes\n",
        "- examples for which the model is 100% certain about it belonging to an incorrect class\n",
        "\n",
        "This quality can be measured by the entropy of the distribution among incorrect classes.\n",
        "\n",
        "The entropy can be measured using the [`torch.distributions.Categorical`](https://pytorch.org/docs/stable/distributions.html#categorical).\n",
        "\n",
        "**Hint:** The model outputs the logits. To obtain an actual probability distribution we must first apply the `torch.softmax` operation on the logits.\n",
        "\n",
        "**Hint:** That if we want to check the entropy among **alternative** classes we must first set the probability to 0 for the correct class.\n",
        "\n",
        "**Hint:** In order to find the k-highest (or k-lowest) values of a tensor we may use [`torch.topk`](https://pytorch.org/docs/stable/generated/torch.topk.html)\n",
        "\n",
        "## [Optional] Exercise 18\n",
        "\n",
        "Show the 16 test mispredicted images with **highest** prediction entropy among wrong classes.\n",
        "\n",
        "Show the 16 test mispredicted images with **lowest** prediction entropy among wrong classes."
      ]
    },
    {
      "cell_type": "code",
      "metadata": {
        "id": "Rn-WWCEGJmL-"
      },
      "source": [
        "from torch.distributions import Categorical\n",
        "\n",
        "all_labels = []\n",
        "all_logits = []\n",
        "all_images = [] \n",
        "\n",
        "### BEGIN SOLUTION\n",
        "### END SOLUTION"
      ],
      "execution_count": null,
      "outputs": []
    },
    {
      "cell_type": "code",
      "metadata": {
        "id": "pl2U7k7_P6jb"
      },
      "source": [],
      "execution_count": null,
      "outputs": []
    }
  ]
}