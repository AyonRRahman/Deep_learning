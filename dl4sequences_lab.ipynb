{
  "nbformat": 4,
  "nbformat_minor": 0,
  "metadata": {
    "colab": {
      "provenance": []
    },
    "kernelspec": {
      "name": "python3",
      "display_name": "Python 3"
    },
    "gpuClass": "standard",
    "accelerator": "GPU"
  },
  "cells": [
    {
      "cell_type": "markdown",
      "source": [
        "# Deep learning for sequential data - Lab\n",
        "\n",
        "**Submission deadlines:**\n",
        "\n",
        "* Get at least 5 points by Tuesday 31.01.2023\n",
        "* Remaining points: before 07.02.2023\n",
        "\n",
        "*Points:* aim to get 12 out 15+ possible points.\n",
        "\n",
        "## Submission instructions:\n",
        "\n",
        "You have two options for submission:\n",
        "\n",
        "1. Present in person your solutions during the session in Tuesday 31.01.2023, or at any point during the week from 30.01.2023 to 03.02.2023 (contact me by email in order to agree on the time. It could be by videocall depending on convenience). **You get extra 0.25 points** for every task presented this way, and no comments are required in the code.\n",
        "2. Submit your solutions by email by 07.02.2023 at the latest. Detailed written explanations are required in the comments for every task.\n",
        "\n",
        "We provide starter code, however, you are not required to use it as long as you properly solve the tasks.\n",
        "\n",
        "Make sure you know all the quetions and answers, and that the notebook contains results (before presentation do `Runtime -> Restart and run all`).\n",
        "\n",
        "**Reach out to me at santiago.cuervo@lis-lab.fr for any question or issue you might encounter.**"
      ],
      "metadata": {
        "id": "rcGH4cI2GmEt"
      }
    },
    {
      "cell_type": "markdown",
      "source": [
        "# Problem 1. RNNs on to the parity task\n",
        "\n",
        "We will work on a toy problem: the parity task.\n",
        "\n",
        "*Inputs:* a variable sized sequence of bits.\n",
        "\n",
        "*Outputs:* a binary indicator that is `0` if the sequence contains an even number of ones and `1` otherwise.\n",
        "\n",
        "Eg.\n",
        "\n",
        "$x_1$: `0,0,0,1,0,1` , $y_1$: `0`\n",
        "\n",
        "$x_2$: `0,0,0,1,0,1,1` , $y_2$: `1`\n",
        "\n",
        "Note that this is equivalent to the RNN learning to apply a XOR function at each time step.\n",
        "\n",
        "**Tasks**:\n",
        "\n",
        "1. **(1 pt)** Implement the vanilla RNN in PyTorch. A vanilla RNN is described by the following recurrence:\n",
        "\n",
        "    $H_t = \\tanh(W_{xh}X_t + W_{hh} H_{t-1} + b_h)$\n",
        "\n",
        "    Where $X_t$ are the inputs, $H_t$ are the states, $W_{xh}$ and $W_{hh}$ are weight matrices connecting the state to the inputs and the previous state, respectively, and $b_{h}$ is the bias term.\n",
        "\n",
        "2. **(4 pt max.)** Use your RNN implementation to solve the parity task. For this:\n",
        "    \n",
        "    * (1 pt) Implement the call to the forward pass of the RNN in order to compute the sequence of hidden states.\n",
        "    * (1 pt) Apply a simple MSE loss to train the network. Implement two training modes in which: 1) The loss is applied at each time-step and 2) The loss is applied only at the last timestep. There is a boolean flag in the code called `full_supervision` that controls this behavior.\n",
        "    * (2 pt) Here you don't have to implement any extra code. Play with the values of `full_supervision`, `max_grad_norm` and `seq_len` and analyze how it affects the training dynamics.\n",
        "\n",
        "3. **(2 pt)** Implement the LSTM cell according to the equations from the slides and apply it to the parity task. Do you notice any change in the training dynamics?\n",
        "\n",
        "3. **(2 pt)** In the setup without full supervision, try to train both the vanilla RNN and the LSTM in long sequences. Is there any advantage in using the LSTM?"
      ],
      "metadata": {
        "id": "OgKtz93lLxNe"
      }
    },
    {
      "cell_type": "code",
      "metadata": {
        "id": "aFYadmCNixcm"
      },
      "source": [
        "%matplotlib inline"
      ],
      "execution_count": 4,
      "outputs": []
    },
    {
      "cell_type": "code",
      "source": [
        "import os\n",
        "import pandas as pd\n",
        "import math\n",
        "import numpy as np\n",
        "import matplotlib.pyplot as plt"
      ],
      "metadata": {
        "id": "vETFWkhHVb6v"
      },
      "execution_count": 5,
      "outputs": []
    },
    {
      "cell_type": "code",
      "metadata": {
        "id": "XNLAfi86ixcy"
      },
      "source": [
        "# We'll be using very small networks, so things might go slower on a GPU. Change it to True if you want to try with GPU or things go slow\n",
        "CUDA = False"
      ],
      "execution_count": 7,
      "outputs": []
    },
    {
      "cell_type": "code",
      "metadata": {
        "id": "C3ewWasAixc9"
      },
      "source": [
        "import torch\n",
        "import torch.nn as nn\n",
        "from torch.nn import functional as F\n",
        "\n",
        "def np_to_tensor(np_var):\n",
        "    t = torch.from_numpy(np_var)\n",
        "    if CUDA:\n",
        "        t = t.cuda()\n",
        "    return t"
      ],
      "execution_count": 6,
      "outputs": []
    },
    {
      "cell_type": "markdown",
      "metadata": {
        "id": "F85iPOdcixdD"
      },
      "source": [
        "## RNN implementation in PyTorch\n",
        "\n",
        "Please note that PyTorch has RNN implementations (http://pytorch.org/docs/master/nn.html#recurrent-layers). For future projects please use the built-in mudules. They have more features, and are faster (they use the CuDNN library supplied by Nvidia).\n",
        "\n",
        "**Attention**: in this code we will assume that the 0-th axis refers to time and that the 1-st axis refers to individual examples inside a minibatch. (This way in a C-major memory layout individual time steps occupy contiguous regions in memory)"
      ]
    },
    {
      "cell_type": "code",
      "metadata": {
        "id": "TCXTiCIeixdF"
      },
      "source": [
        "class SimpleRNNCell(nn.Module):\n",
        "    def __init__(self, in_dim, hidden_dim, activation=torch.nn.Tanh(), **kwargs):\n",
        "        super(SimpleRNNCell, self).__init__(**kwargs)\n",
        "        self.activation = activation\n",
        "        # Input to hidden\n",
        "        self.Wxh = nn.Parameter(torch.Tensor(in_dim, hidden_dim))\n",
        "        # Hidden to hidden\n",
        "        self.Whh = nn.Parameter(torch.Tensor(hidden_dim, hidden_dim))\n",
        "        # Hidden bias\n",
        "        self.bh = nn.Parameter(torch.Tensor(hidden_dim))\n",
        "        self.reset_parameters()\n",
        "\n",
        "    def reset_parameters(self):\n",
        "        # print(self.Whh.size())\n",
        "        stdv = 1. / math.sqrt(self.Whh.size(1))\n",
        "        # print(stdv)\n",
        "        # print(self.Wxh.data)\n",
        "        self.Wxh.data.uniform_(-stdv, stdv)\n",
        "        # print(self.Wxh.data)\n",
        "        # print(self.Whh.data)\n",
        "        self.Whh.data.uniform_(-stdv, stdv)\n",
        "        # print(self.Whh.data)\n",
        "        # print(self.bh.data)\n",
        "        self.bh.data.zero_()\n",
        "        # print(self.bh.data)\n",
        "\n",
        "    def forward(self, input, h):\n",
        "        #\n",
        "        # TODO TASK 1\n",
        "        #\n",
        "        # Compute the activation of the RNN cell (ie. the right hand side of the vanila RNN equation)\n",
        "        #\n",
        "        pre_act = torch.matmul(input,self.Wxh) + torch.matmul(h, self.Whh) +self.bh #?calculating the pre activation\n",
        "        return self.activation(pre_act) #applying tanh activation\n",
        "            \n",
        "\n",
        "class RNN(nn.Module):\n",
        "    def __init__(self, cell, **kwargs):\n",
        "        super(RNN, self).__init__(**kwargs)\n",
        "        self.cell = cell\n",
        "        \n",
        "    def forward(self, input, hidden):\n",
        "        cell = self.cell\n",
        "        output = []\n",
        "        #\n",
        "        # TODO TASK 1\n",
        "        #\n",
        "        # Here we unroll in time and compute the recurrence\n",
        "        #\n",
        "        seq_len = input.size(0) #?\n",
        "        # print(input.size())\n",
        "        for i in range(seq_len):\n",
        "            hidden =  cell(input[i], hidden)#?\n",
        "            # Hack to handle LSTM\n",
        "            output.append(hidden[0] if isinstance(hidden, tuple) else hidden)\n",
        "\n",
        "        # print(output)\n",
        "        output = torch.cat(output, 0).view(seq_len, *output[0].size())\n",
        "        # print(output)\n",
        "\n",
        "        return hidden, output"
      ],
      "execution_count": 8,
      "outputs": []
    },
    {
      "cell_type": "markdown",
      "metadata": {
        "id": "J4YP8aEcixdJ"
      },
      "source": [
        "## The parity task\n",
        "\n",
        "Here we solve the bit parity problem. Note that we will need at least two hidden neurons, because the network has to solve a XOR problem at each step."
      ]
    },
    {
      "cell_type": "code",
      "metadata": {
        "id": "uewegpl7ixdM",
        "colab": {
          "base_uri": "https://localhost:8080/"
        },
        "outputId": "175ae2e4-696d-4169-8543-212f654cd3ac"
      },
      "source": [
        "def gen_parity_examples(time_steps, batch_size):\n",
        "    X = (np.random.rand(time_steps, batch_size, 1) > 0.5).astype('float32')\n",
        "    Y = X.cumsum(0) % 2\n",
        "    return X, Y\n",
        "\n",
        "\n",
        "Xp, Yp = gen_parity_examples(18, 1)\n",
        "# print(Xp)\n",
        "print('X.T:', Xp.reshape(Xp.shape[:-1]).T, '\\nY.T:', Yp.reshape(Yp.shape[:-1]).T)\n"
      ],
      "execution_count": 9,
      "outputs": [
        {
          "output_type": "stream",
          "name": "stdout",
          "text": [
            "X.T: [[0. 0. 1. 1. 0. 1. 1. 1. 1. 1. 0. 1. 0. 0. 1. 0. 1. 1.]] \n",
            "Y.T: [[0. 0. 1. 0. 0. 1. 0. 1. 0. 1. 1. 0. 0. 0. 1. 1. 0. 1.]]\n"
          ]
        }
      ]
    },
    {
      "cell_type": "code",
      "metadata": {
        "id": "fCeFd-c_ixdk"
      },
      "source": [
        "# The input variable - a 3D tensor with axes:\n",
        "# time x batch_size x num_features\n",
        "\n",
        "hidden_dim = 2\n",
        "test_net = RNN(SimpleRNNCell(in_dim=1, hidden_dim=hidden_dim))\n",
        "\n",
        "if CUDA:\n",
        "    test_net.cuda()\n",
        "\n",
        "h0 = np.zeros((1, hidden_dim), dtype='float32')  # 1 sequence in batch, 1 hidden dim\n",
        "hn, out = test_net(np_to_tensor(Xp), np_to_tensor(h0)) # The network outputs a tuple of tensors: (last hidden state, hidden state at each time step)"
      ],
      "execution_count": 10,
      "outputs": []
    },
    {
      "cell_type": "code",
      "metadata": {
        "id": "U3ktZavGixdq"
      },
      "source": [
        "class ParityNet(nn.Module):\n",
        "    def __init__(self, hidden_dim, use_lstm=False, **kwargs):\n",
        "        super(ParityNet, self).__init__(**kwargs)\n",
        "        self.hidden_dim = hidden_dim\n",
        "        self.use_lstm = use_lstm\n",
        "        if use_lstm:\n",
        "            cell = LSTMCell(in_dim=1, hidden_dim=hidden_dim)\n",
        "        else:\n",
        "            cell = SimpleRNNCell(in_dim=1, hidden_dim=hidden_dim, activation=nn.Sigmoid())\n",
        "        self.rnn = RNN(cell)\n",
        "        self.linear = nn.Linear(in_features=1 + hidden_dim,\n",
        "                                      out_features=1)\n",
        "        \n",
        "    def forward(self, inputs):\n",
        "        if self.use_lstm:\n",
        "            h0 = [torch.zeros((inputs.size(1), self.hidden_dim)).to(inputs.device) for _ in range(2)]\n",
        "        else:\n",
        "            h0 = torch.zeros((inputs.size(1), self.hidden_dim)).to(inputs.device)\n",
        "        #\n",
        "        # TODO TASK 2\n",
        "        #\n",
        "        # Compute the sequence of hidden states\n",
        "        #\n",
        "        # print(inputs.size())\n",
        "        # print(type(inputs))\n",
        "        # print(h0.size())\n",
        "        # print(type(h0))\n",
        "        H = self.rnn(inputs, h0)[1] #?\n",
        "        # print(H.size())\n",
        "        # print(ou.size())\n",
        "\n",
        "        # Concatenate inputs and hidden states\n",
        "        inputs_and_H = torch.cat((inputs, H), dim=2)\n",
        "        return torch.sigmoid(self.linear(inputs_and_H))"
      ],
      "execution_count": 11,
      "outputs": []
    },
    {
      "cell_type": "markdown",
      "source": [
        "Just to prove that the task is easily solvable, we will manually define the weights of our RNN to implement the XOR function:"
      ],
      "metadata": {
        "id": "5xXK5JHEcnSD"
      }
    },
    {
      "cell_type": "code",
      "metadata": {
        "id": "byGUrbTXixdu",
        "colab": {
          "base_uri": "https://localhost:8080/"
        },
        "outputId": "61e2d8a1-e223-4b74-8973-abd994745871"
      },
      "source": [
        "parity_net = ParityNet(hidden_dim=2)\n",
        "\n",
        "if CUDA:\n",
        "    parity_net.cuda()\n",
        "\n",
        "#\n",
        "# Design the net to solve parity\n",
        "#\n",
        "parity_net.rnn.cell.Wxh.data[...\n",
        "    ] = torch.FloatTensor([[2000, 1000]])\n",
        "parity_net.rnn.cell.Whh.data[...\n",
        "    ] = torch.FloatTensor([[ 1000,  1000],\n",
        "                           [-1000, -1000]])\n",
        "parity_net.rnn.cell.bh.data[...\n",
        "    ] = torch.FloatTensor([-500, -1500])\n",
        "\n",
        "parity_net.linear.weight.data[...\n",
        "    ] = torch.FloatTensor([[ 0],\n",
        "                           [ 1000],\n",
        "                           [-1000]]).transpose(0, 1)\n",
        "parity_net.linear.bias.data[...\n",
        "    ] = torch.FloatTensor([-500])\n",
        "    \n",
        "predictions = parity_net(np_to_tensor(Xp)).detach().cpu().numpy().squeeze()\n",
        "print('        X: ', Xp.squeeze())\n",
        "print('predicted: ', np.round(predictions))\n",
        "print('        Y: ', Yp.squeeze())"
      ],
      "execution_count": 9,
      "outputs": [
        {
          "output_type": "stream",
          "name": "stdout",
          "text": [
            "        X:  [0. 1. 1. 1. 0. 1. 0. 1. 1. 1. 0. 0. 1. 0. 1. 0. 1. 0.]\n",
            "predicted:  [0. 1. 0. 1. 1. 0. 0. 1. 0. 1. 1. 1. 0. 0. 1. 1. 0. 0.]\n",
            "        Y:  [0. 1. 0. 1. 1. 0. 0. 1. 0. 1. 1. 1. 0. 0. 1. 1. 0. 0.]\n"
          ]
        }
      ]
    },
    {
      "cell_type": "markdown",
      "source": [
        "Now we'll try to get to the solution by learning:"
      ],
      "metadata": {
        "id": "QkNAiHuvcx9V"
      }
    },
    {
      "cell_type": "code",
      "source": [
        "parity_net(np_to_tensor(Xp))[:,:,0]"
      ],
      "metadata": {
        "id": "j-IQfR6_rWD2",
        "outputId": "4db32b7d-f888-4fae-f197-34c1c16fab76",
        "colab": {
          "base_uri": "https://localhost:8080/"
        }
      },
      "execution_count": 10,
      "outputs": [
        {
          "output_type": "execute_result",
          "data": {
            "text/plain": [
              "tensor([[0.],\n",
              "        [1.],\n",
              "        [0.],\n",
              "        [1.],\n",
              "        [1.],\n",
              "        [0.],\n",
              "        [0.],\n",
              "        [1.],\n",
              "        [0.],\n",
              "        [1.],\n",
              "        [1.],\n",
              "        [1.],\n",
              "        [0.],\n",
              "        [0.],\n",
              "        [1.],\n",
              "        [1.],\n",
              "        [0.],\n",
              "        [0.]], grad_fn=<SelectBackward0>)"
            ]
          },
          "metadata": {},
          "execution_count": 10
        }
      ]
    },
    {
      "cell_type": "code",
      "metadata": {
        "id": "oE9pGKrHixd3"
      },
      "source": [
        "class Trainer(object):\n",
        "    def __init__(self, network):\n",
        "        # If full_supervision == True, supervice net outputs at all steps\n",
        "        # if full_supervision == False, supervise net outputs at the last\n",
        "        # step only\n",
        "        self.full_supervision = True\n",
        "        \n",
        "        # When the total gradient is above this value, scale it down\n",
        "        self.max_grad_norm = 1.0\n",
        "        \n",
        "        self.network = network\n",
        "        \n",
        "        # RMSprop optimization stuff\n",
        "        self.lrate = 1e-2\n",
        "        self.RMSProp_dec_rate = 0.9\n",
        "        self.RMSProp_epsilon = 1e-5\n",
        "        device = 'cuda' if CUDA else 'cpu'\n",
        "        self.gnorms = [torch.zeros(*p.size(), device=device)\n",
        "                       for p in self.network.parameters()]\n",
        "    \n",
        "    def train_step(self, X, Y):\n",
        "        Loss = nn.MSELoss()\n",
        "        X = np_to_tensor(X)\n",
        "        Y = np_to_tensor(Y)\n",
        "        net = self.network\n",
        "        net.zero_grad()\n",
        "        # predictions\n",
        "        P = net(X)\n",
        "        # print(Y)\n",
        "        # print(Y[-1,:,:])\n",
        "        #\n",
        "        # TODO TASK 2\n",
        "        #\n",
        "        # Implement the loss with and without full supervision. \n",
        "        # With full supervision we compute the loss at each step. \n",
        "        # Without, just at the last step\n",
        "        #\n",
        "        if self.full_supervision:\n",
        "            loss = Loss(Y,P) #?\n",
        "        else:\n",
        "            loss = Loss(Y[-1,:,:] , P[-1,:,:]) #?\n",
        "\n",
        "        loss.backward()\n",
        "        \n",
        "        tot_gnorm = torch.FloatTensor((0.0,))\n",
        "        if CUDA:\n",
        "            tot_gnorm = tot_gnorm.cuda()\n",
        "        # We apply gradient normalization to avoid exploding gradients and do the training step\n",
        "        for p in net.parameters():\n",
        "            tot_gnorm += torch.sum(p.grad.data**2)\n",
        "        tot_gnorm = torch.sqrt(tot_gnorm)\n",
        "        g_div = torch.max(torch.FloatTensor((self.max_grad_norm,)\n",
        "                                           ).to(tot_gnorm.device), tot_gnorm)\n",
        "        for i, p in enumerate(net.parameters()):\n",
        "            g = p.grad.data / g_div\n",
        "            self.gnorms[i] *= self.RMSProp_dec_rate\n",
        "            self.gnorms[i] += (1.0 - self.RMSProp_dec_rate) * g**2\n",
        "            p.data -= self.lrate * g / torch.sqrt(self.gnorms[i] + self.RMSProp_epsilon)\n",
        "        return dict(loss=loss.item(), grad_norm=tot_gnorm.item())"
      ],
      "execution_count": 12,
      "outputs": []
    },
    {
      "cell_type": "markdown",
      "metadata": {
        "id": "vtHbUwOEixd7"
      },
      "source": [
        "## Exploration of various problems with RNN training\n",
        "\n",
        "In the following cell you can experiment with various ways of providing supervision to the network (which one is easier to train - when the net recieves feedback after each step or when it recieves feedback only at the end of training?), changing the gradient clipping and playing with a curriculum.\n",
        "\n",
        "Notice the dynamics of training - at the beginning the network does very little. The, suddenly it notices the input-output relationship from which point training starts to progress very quickly."
      ]
    },
    {
      "cell_type": "code",
      "source": [
        "def train_and_eval_parity(parity_trainer, patience_max=3, max_iters=100000, learning_curriculum=True, stop_loss=1e-4,max_seq_len = 100):\n",
        "    max_seq_len = max_seq_len\n",
        "    seq_len = max_seq_len\n",
        "    if learning_curriculum:\n",
        "        seq_len = 10\n",
        "    patience = patience_max\n",
        "    for i in range(max_iters):\n",
        "        Xp, Yp = gen_parity_examples(np.random.randint(1, seq_len), 10)\n",
        "        ret = parity_trainer.train_step(Xp, Yp)\n",
        "        losses.append(dict(iter=i, **ret))\n",
        "        if ret['loss'] < stop_loss:\n",
        "            patience -= 1\n",
        "            if patience == 0:\n",
        "                seq_len += 10\n",
        "                if seq_len > max_seq_len:\n",
        "                    break\n",
        "                else:\n",
        "                    patience = patience_max\n",
        "                print(i, \"Increasing seq length to: \", seq_len)\n",
        "        else:\n",
        "            patience = patience_max\n",
        "        if i % 500 == 0:\n",
        "            print(i, ret)\n",
        "    losses_df = pd.DataFrame(losses)\n",
        "    plt.semilogy(losses_df['iter'], losses_df['loss'], label='loss')\n",
        "    plt.semilogy(losses_df['iter'], losses_df['grad_norm'], label='grad norm', alpha=0.5)\n",
        "    plt.legend(loc='lower left')\n",
        "    plt.title('Training loss')\n",
        "    plt.xlabel('iteration')\n",
        "\n",
        "    Xp,Yp = gen_parity_examples(10, 1)\n",
        "    model = parity_trainer.network.eval()\n",
        "    predictions = model(np_to_tensor(Xp)).detach().cpu().numpy().squeeze()\n",
        "    print('        X: ', Xp.squeeze())\n",
        "    print('predicted: ', np.round(predictions))\n",
        "    print('   target: ', Yp.squeeze())"
      ],
      "metadata": {
        "id": "jqmAFDY_i3Ux"
      },
      "execution_count": 22,
      "outputs": []
    },
    {
      "cell_type": "code",
      "source": [
        "parity_net = ParityNet(hidden_dim=3)\n",
        "if CUDA:\n",
        "    parity_net.cuda()\n",
        "parity_trainer = Trainer(parity_net)\n",
        "parity_trainer.lrate = 1e-2\n",
        "losses = []\n",
        "# When set to True the net recieves an error signal after each step\n",
        "# When set to False the net recieves an error signal only once at the end\n",
        "parity_trainer.full_supervision = True\n",
        "# Gradient clipping\n",
        "parity_trainer.max_grad_norm = 1.0\n",
        "# This enables \"curriculum learning\" - we gradually train on \n",
        "# longer and longer sequences\n",
        "#\n",
        "learning_curriculum = True\n",
        "train_and_eval_parity(parity_trainer, learning_curriculum=learning_curriculum)"
      ],
      "metadata": {
        "id": "JpfgPwwzrxz7",
        "outputId": "be400893-f8a7-4a19-bd07-c924eb9a33fa",
        "colab": {
          "base_uri": "https://localhost:8080/",
          "height": 885
        }
      },
      "execution_count": 30,
      "outputs": [
        {
          "output_type": "stream",
          "name": "stdout",
          "text": [
            "0 {'loss': 0.24992282688617706, 'grad_norm': 0.018917571753263474}\n",
            "500 {'loss': 0.2571902275085449, 'grad_norm': 0.022088786587119102}\n",
            "1000 {'loss': 0.22293473780155182, 'grad_norm': 0.042445141822099686}\n",
            "1500 {'loss': 0.19723714888095856, 'grad_norm': 0.01595856435596943}\n",
            "2000 {'loss': 0.03698945790529251, 'grad_norm': 0.03806972876191139}\n",
            "2500 {'loss': 0.02661117911338806, 'grad_norm': 0.017992772161960602}\n",
            "3000 {'loss': 0.0009889359353110194, 'grad_norm': 0.0012533559929579496}\n",
            "3500 {'loss': 0.00043436000123620033, 'grad_norm': 0.0010554150212556124}\n",
            "4000 {'loss': 0.0005384562537074089, 'grad_norm': 0.0003973857674282044}\n",
            "4500 {'loss': 0.00019497232278808951, 'grad_norm': 0.0005016276845708489}\n",
            "5000 {'loss': 0.0003108161618001759, 'grad_norm': 0.0002821812522597611}\n",
            "5500 {'loss': 0.00032873963937163353, 'grad_norm': 0.0004660994163714349}\n",
            "6000 {'loss': 0.0002565397589933127, 'grad_norm': 0.00022509469999931753}\n",
            "6287 Increasing seq length to:  20\n",
            "6500 {'loss': 0.00026088542654179037, 'grad_norm': 0.00021347703295759857}\n",
            "7000 {'loss': 0.00022016867296770215, 'grad_norm': 0.0001806550135370344}\n",
            "7500 {'loss': 7.444916263921186e-05, 'grad_norm': 9.695236076368019e-05}\n",
            "8000 {'loss': 9.629442502046004e-05, 'grad_norm': 0.00013872887939214706}\n",
            "8404 Increasing seq length to:  30\n",
            "8500 {'loss': 0.00010647164162946865, 'grad_norm': 9.112558473134413e-05}\n",
            "8745 Increasing seq length to:  40\n",
            "9000 {'loss': 0.0001148107330664061, 'grad_norm': 0.00013194246275816113}\n",
            "9176 Increasing seq length to:  50\n",
            "9500 {'loss': 9.900401346385479e-05, 'grad_norm': 0.00012946288916282356}\n",
            "9562 Increasing seq length to:  60\n",
            "10000 {'loss': 0.00011323848593747243, 'grad_norm': 0.0001073911480489187}\n",
            "10009 Increasing seq length to:  70\n",
            "10500 {'loss': 0.0001106108829844743, 'grad_norm': 8.580630674259737e-05}\n",
            "10546 Increasing seq length to:  80\n",
            "10639 Increasing seq length to:  90\n",
            "10644 Increasing seq length to:  100\n",
            "        X:  [1. 1. 1. 0. 0. 0. 0. 0. 1. 0.]\n",
            "predicted:  [1. 0. 1. 1. 1. 1. 1. 1. 0. 0.]\n",
            "   target:  [1. 0. 1. 1. 1. 1. 1. 1. 0. 0.]\n"
          ]
        },
        {
          "output_type": "display_data",
          "data": {
            "text/plain": [
              "<Figure size 432x288 with 1 Axes>"
            ],
            "image/png": "[encoded data removed]"
          },
          "metadata": {
            "needs_background": "light"
          }
        }
      ]
    },
    {
      "cell_type": "code",
      "source": [
        "parity_net = ParityNet(hidden_dim=3)\n",
        "if CUDA:\n",
        "    parity_net.cuda()\n",
        "parity_trainer = Trainer(parity_net)\n",
        "parity_trainer.lrate = 1e-2\n",
        "losses = []\n",
        "# When set to True the net recieves an error signal after each step\n",
        "# When set to False the net recieves an error signal only once at the end\n",
        "parity_trainer.full_supervision = False\n",
        "# Gradient clipping\n",
        "parity_trainer.max_grad_norm = 1.0\n",
        "# This enables \"curriculum learning\" - we gradually train on \n",
        "# longer and longer sequences\n",
        "#\n",
        "learning_curriculum = True\n",
        "train_and_eval_parity(parity_trainer, learning_curriculum=learning_curriculum)"
      ],
      "metadata": {
        "id": "bra3ghJPz22O",
        "outputId": "5b94d8be-62d8-4e6e-a2e0-aa675babb5bb",
        "colab": {
          "base_uri": "https://localhost:8080/",
          "height": 1000
        }
      },
      "execution_count": 38,
      "outputs": [
        {
          "output_type": "stream",
          "name": "stdout",
          "text": [
            "0 {'loss': 0.24174852669239044, 'grad_norm': 0.021797319874167442}\n",
            "500 {'loss': 0.22737827897071838, 'grad_norm': 0.09413307905197144}\n",
            "1000 {'loss': 0.21749921143054962, 'grad_norm': 0.19190627336502075}\n",
            "1500 {'loss': 0.23315970599651337, 'grad_norm': 0.07311153411865234}\n",
            "2000 {'loss': 0.1560879945755005, 'grad_norm': 0.15055115520954132}\n",
            "2500 {'loss': 0.2418978065252304, 'grad_norm': 0.023147109895944595}\n",
            "3000 {'loss': 0.26685649156570435, 'grad_norm': 0.1334918737411499}\n",
            "3500 {'loss': 0.23412279784679413, 'grad_norm': 0.02519620582461357}\n",
            "4000 {'loss': 0.2170441597700119, 'grad_norm': 0.05511269345879555}\n",
            "4500 {'loss': 0.11655491590499878, 'grad_norm': 0.07860817760229111}\n",
            "5000 {'loss': 0.2523500919342041, 'grad_norm': 0.1383858025074005}\n",
            "5500 {'loss': 0.030969971790909767, 'grad_norm': 0.021078145131468773}\n",
            "6000 {'loss': 0.22722271084785461, 'grad_norm': 0.05223233625292778}\n",
            "6500 {'loss': 0.2198442965745926, 'grad_norm': 0.22416725754737854}\n",
            "7000 {'loss': 0.22691822052001953, 'grad_norm': 0.08720281720161438}\n",
            "7500 {'loss': 0.2612980902194977, 'grad_norm': 0.28206175565719604}\n",
            "8000 {'loss': 0.2805469036102295, 'grad_norm': 0.04168187081813812}\n",
            "8500 {'loss': 0.25738856196403503, 'grad_norm': 0.0684901773929596}\n",
            "9000 {'loss': 0.27786388993263245, 'grad_norm': 0.15603916347026825}\n",
            "9500 {'loss': 0.00010744405881268904, 'grad_norm': 0.00031978997867554426}\n",
            "9705 Increasing seq length to:  20\n",
            "10000 {'loss': 0.26517120003700256, 'grad_norm': 0.08341143280267715}\n",
            "10500 {'loss': 0.26356178522109985, 'grad_norm': 0.29023900628089905}\n",
            "11000 {'loss': 0.27284541726112366, 'grad_norm': 0.14896495640277863}\n",
            "11500 {'loss': 0.2283739596605301, 'grad_norm': 0.22585834562778473}\n",
            "12000 {'loss': 0.2490960657596588, 'grad_norm': 0.08106575906276703}\n",
            "12500 {'loss': 0.18996186554431915, 'grad_norm': 0.0642356351017952}\n",
            "13000 {'loss': 0.18494367599487305, 'grad_norm': 0.281665563583374}\n",
            "13500 {'loss': 0.25532570481300354, 'grad_norm': 0.20889978110790253}\n",
            "14000 {'loss': 6.979383761063218e-05, 'grad_norm': 0.0002678030577953905}\n",
            "14500 {'loss': 0.23396490514278412, 'grad_norm': 0.058939479291439056}\n",
            "15000 {'loss': 0.19020238518714905, 'grad_norm': 0.2793008089065552}\n",
            "15500 {'loss': 0.24226097762584686, 'grad_norm': 0.17157280445098877}\n",
            "16000 {'loss': 0.08013197034597397, 'grad_norm': 0.1714497059583664}\n",
            "16500 {'loss': 0.26051029562950134, 'grad_norm': 0.09112535417079926}\n",
            "17000 {'loss': 0.2619587481021881, 'grad_norm': 0.08051493018865585}\n",
            "17482 Increasing seq length to:  30\n",
            "17500 {'loss': 0.23131290078163147, 'grad_norm': 0.18524709343910217}\n",
            "18000 {'loss': 0.25369691848754883, 'grad_norm': 0.12767215073108673}\n",
            "18500 {'loss': 0.24134574830532074, 'grad_norm': 0.05410899221897125}\n",
            "19000 {'loss': 0.2569727897644043, 'grad_norm': 0.13183622062206268}\n",
            "19500 {'loss': 0.2431713193655014, 'grad_norm': 0.10804687440395355}\n",
            "20000 {'loss': 0.2407999485731125, 'grad_norm': 0.12076877802610397}\n",
            "20500 {'loss': 0.24544639885425568, 'grad_norm': 0.0647733137011528}\n",
            "21000 {'loss': 0.14432621002197266, 'grad_norm': 0.185293510556221}\n",
            "21500 {'loss': 0.26393982768058777, 'grad_norm': 0.18508239090442657}\n",
            "22000 {'loss': 0.25383028388023376, 'grad_norm': 0.11110080033540726}\n",
            "22500 {'loss': 0.26138684153556824, 'grad_norm': 0.10679592192173004}\n",
            "23000 {'loss': 0.27067995071411133, 'grad_norm': 0.3361309766769409}\n",
            "23500 {'loss': 0.22897110879421234, 'grad_norm': 0.0901278406381607}\n",
            "24000 {'loss': 0.2538074851036072, 'grad_norm': 0.15221548080444336}\n",
            "24500 {'loss': 0.16273415088653564, 'grad_norm': 0.060844436287879944}\n",
            "25000 {'loss': 0.09132204204797745, 'grad_norm': 0.06728020310401917}\n",
            "25500 {'loss': 0.25299251079559326, 'grad_norm': 0.19463877379894257}\n",
            "26000 {'loss': 0.24026672542095184, 'grad_norm': 0.23846665024757385}\n",
            "26500 {'loss': 0.263637512922287, 'grad_norm': 0.2955525815486908}\n",
            "27000 {'loss': 0.23205876350402832, 'grad_norm': 0.11041168868541718}\n",
            "27500 {'loss': 0.01927901804447174, 'grad_norm': 0.034858718514442444}\n",
            "28000 {'loss': 0.2579602301120758, 'grad_norm': 0.08699619024991989}\n",
            "28500 {'loss': 0.20843437314033508, 'grad_norm': 0.17862440645694733}\n",
            "29000 {'loss': 0.25544247031211853, 'grad_norm': 0.12407426536083221}\n",
            "29500 {'loss': 0.2730036973953247, 'grad_norm': 0.5326703190803528}\n",
            "30000 {'loss': 0.22043155133724213, 'grad_norm': 0.24964483082294464}\n",
            "30500 {'loss': 0.2495861053466797, 'grad_norm': 0.0697035863995552}\n",
            "31000 {'loss': 0.25838080048561096, 'grad_norm': 0.308531254529953}\n",
            "31500 {'loss': 0.246051624417305, 'grad_norm': 0.11128369718790054}\n",
            "32000 {'loss': 0.2553727924823761, 'grad_norm': 0.15472882986068726}\n",
            "32500 {'loss': 0.23708949983119965, 'grad_norm': 0.2843100130558014}\n",
            "33000 {'loss': 0.21556523442268372, 'grad_norm': 0.4109545350074768}\n",
            "33500 {'loss': 0.25974950194358826, 'grad_norm': 0.37035658955574036}\n",
            "34000 {'loss': 0.2509114742279053, 'grad_norm': 0.30207788944244385}\n",
            "34500 {'loss': 0.23754571378231049, 'grad_norm': 0.1262800544500351}\n",
            "35000 {'loss': 0.24733105301856995, 'grad_norm': 0.07129088789224625}\n",
            "35500 {'loss': 0.25202906131744385, 'grad_norm': 0.3591407239437103}\n",
            "36000 {'loss': 0.25409838557243347, 'grad_norm': 0.038409192115068436}\n",
            "36500 {'loss': 0.22354340553283691, 'grad_norm': 0.3268767297267914}\n",
            "37000 {'loss': 0.2549598217010498, 'grad_norm': 0.15591204166412354}\n",
            "37500 {'loss': 0.01702851429581642, 'grad_norm': 0.04675363376736641}\n",
            "38000 {'loss': 0.2392253428697586, 'grad_norm': 0.1905602067708969}\n",
            "38500 {'loss': 0.24089542031288147, 'grad_norm': 0.15502780675888062}\n",
            "39000 {'loss': 0.24247916042804718, 'grad_norm': 0.07871156930923462}\n",
            "39500 {'loss': 0.10929965227842331, 'grad_norm': 0.09909020364284515}\n",
            "40000 {'loss': 0.22389085590839386, 'grad_norm': 0.2790233790874481}\n",
            "40500 {'loss': 0.2590211033821106, 'grad_norm': 0.22883957624435425}\n",
            "41000 {'loss': 0.2630555331707001, 'grad_norm': 0.16922907531261444}\n",
            "41500 {'loss': 0.27795490622520447, 'grad_norm': 0.5436647534370422}\n",
            "42000 {'loss': 0.24456126987934113, 'grad_norm': 0.33398765325546265}\n",
            "42500 {'loss': 0.020433196797966957, 'grad_norm': 0.05431465432047844}\n",
            "43000 {'loss': 0.0011483642738312483, 'grad_norm': 0.002555734710767865}\n",
            "43500 {'loss': 0.0013447317760437727, 'grad_norm': 0.0029040039516985416}\n",
            "44000 {'loss': 0.0007901171338744462, 'grad_norm': 0.0007588675944134593}\n",
            "44500 {'loss': 0.0005870540044270456, 'grad_norm': 0.0006195492460392416}\n",
            "45000 {'loss': 0.0005703018396161497, 'grad_norm': 0.001117864390835166}\n",
            "45500 {'loss': 0.0005734809674322605, 'grad_norm': 0.0005231294198893011}\n",
            "46000 {'loss': 0.0002727113605942577, 'grad_norm': 0.00021338801889214665}\n",
            "46500 {'loss': 0.00029480349621735513, 'grad_norm': 0.00048602165770716965}\n",
            "47000 {'loss': 0.0002416053757769987, 'grad_norm': 0.00019397024880163372}\n",
            "47500 {'loss': 0.0002615970734041184, 'grad_norm': 0.0002681358309928328}\n",
            "48000 {'loss': 0.00037247591535560787, 'grad_norm': 0.0014958130195736885}\n",
            "48500 {'loss': 0.00019361547310836613, 'grad_norm': 0.00013703056902159005}\n",
            "49000 {'loss': 0.00032362082856707275, 'grad_norm': 0.0013246199814602733}\n",
            "49500 {'loss': 0.00014696340076625347, 'grad_norm': 0.0002391738526057452}\n",
            "50000 {'loss': 0.0002049431495834142, 'grad_norm': 0.0008216546848416328}\n",
            "50500 {'loss': 0.00012886333570349962, 'grad_norm': 0.0002400370576651767}\n",
            "51000 {'loss': 0.000135166643303819, 'grad_norm': 0.00011960649862885475}\n",
            "51500 {'loss': 0.00014406254922505468, 'grad_norm': 0.00026330797118134797}\n",
            "52000 {'loss': 0.00015497987624257803, 'grad_norm': 0.00032891210867092013}\n",
            "52107 Increasing seq length to:  40\n",
            "52197 Increasing seq length to:  50\n",
            "52263 Increasing seq length to:  60\n",
            "52332 Increasing seq length to:  70\n",
            "52375 Increasing seq length to:  80\n",
            "52500 {'loss': 8.511073247063905e-05, 'grad_norm': 0.00016025465447455645}\n",
            "52609 Increasing seq length to:  90\n",
            "52619 Increasing seq length to:  100\n",
            "        X:  [1. 1. 0. 0. 0. 1. 0. 1. 1. 0.]\n",
            "predicted:  [1. 0. 0. 0. 0. 1. 1. 0. 1. 1.]\n",
            "   target:  [1. 0. 0. 0. 0. 1. 1. 0. 1. 1.]\n"
          ]
        },
        {
          "output_type": "display_data",
          "data": {
            "text/plain": [
              "<Figure size 432x288 with 1 Axes>"
            ],
            "image/png": "[encoded data removed]"
          },
          "metadata": {
            "needs_background": "light"
          }
        }
      ]
    },
    {
      "cell_type": "code",
      "source": [
        "parity_net = ParityNet(hidden_dim=3)\n",
        "if CUDA:\n",
        "    parity_net.cuda()\n",
        "parity_trainer = Trainer(parity_net)\n",
        "parity_trainer.lrate = 1e-2\n",
        "losses = []\n",
        "# When set to True the net recieves an error signal after each step\n",
        "# When set to False the net recieves an error signal only once at the end\n",
        "parity_trainer.full_supervision = True\n",
        "# Gradient clipping\n",
        "parity_trainer.max_grad_norm = 2.0\n",
        "# This enables \"curriculum learning\" - we gradually train on \n",
        "# longer and longer sequences\n",
        "#\n",
        "learning_curriculum = True\n",
        "train_and_eval_parity(parity_trainer, learning_curriculum=learning_curriculum)"
      ],
      "metadata": {
        "id": "w8TDlWNfz5pY",
        "outputId": "f3f62f6b-9178-4958-ac87-45c643a4f554",
        "colab": {
          "base_uri": "https://localhost:8080/",
          "height": 1000
        }
      },
      "execution_count": 39,
      "outputs": [
        {
          "output_type": "stream",
          "name": "stdout",
          "text": [
            "0 {'loss': 0.25304484367370605, 'grad_norm': 0.04090438038110733}\n",
            "500 {'loss': 0.23047366738319397, 'grad_norm': 0.13189701735973358}\n",
            "1000 {'loss': 0.2550809681415558, 'grad_norm': 0.05549229681491852}\n",
            "1500 {'loss': 0.23205289244651794, 'grad_norm': 0.08813035488128662}\n",
            "2000 {'loss': 0.16596131026744843, 'grad_norm': 0.03623942658305168}\n",
            "2500 {'loss': 0.07992708683013916, 'grad_norm': 0.03722347691655159}\n",
            "3000 {'loss': 0.1905040442943573, 'grad_norm': 0.04017680883407593}\n",
            "3500 {'loss': 0.1684417575597763, 'grad_norm': 0.06352167576551437}\n",
            "4000 {'loss': 0.1573629379272461, 'grad_norm': 0.02413545362651348}\n",
            "4500 {'loss': 0.154841348528862, 'grad_norm': 0.035371605306863785}\n",
            "5000 {'loss': 0.0012729598674923182, 'grad_norm': 0.0036902944557368755}\n",
            "5500 {'loss': 0.10313483327627182, 'grad_norm': 0.015968015417456627}\n",
            "6000 {'loss': 0.11892568320035934, 'grad_norm': 0.01557336188852787}\n",
            "6500 {'loss': 0.19104473292827606, 'grad_norm': 0.07295163720846176}\n",
            "7000 {'loss': 0.17076757550239563, 'grad_norm': 0.04266831651329994}\n",
            "7500 {'loss': 0.07001220434904099, 'grad_norm': 0.04574985429644585}\n",
            "8000 {'loss': 0.17846694588661194, 'grad_norm': 0.038191333413124084}\n",
            "8500 {'loss': 0.10824587196111679, 'grad_norm': 0.009532809257507324}\n",
            "9000 {'loss': 0.06416265666484833, 'grad_norm': 0.012746628373861313}\n",
            "9500 {'loss': 0.0870804637670517, 'grad_norm': 0.016095172613859177}\n",
            "10000 {'loss': 0.028091970831155777, 'grad_norm': 0.06803004443645477}\n",
            "10500 {'loss': 0.00033338996581733227, 'grad_norm': 0.0009012320078909397}\n",
            "11000 {'loss': 0.00029971901676617563, 'grad_norm': 0.0007955087348818779}\n",
            "11500 {'loss': 0.06985358148813248, 'grad_norm': 0.05052410811185837}\n",
            "12000 {'loss': 0.005292306654155254, 'grad_norm': 0.013374876230955124}\n",
            "12500 {'loss': 0.017739424481987953, 'grad_norm': 0.045038919895887375}\n",
            "13000 {'loss': 0.06655210256576538, 'grad_norm': 0.0059102545492351055}\n",
            "13500 {'loss': 0.0886632576584816, 'grad_norm': 0.012296807020902634}\n",
            "14000 {'loss': 0.1696215718984604, 'grad_norm': 0.030116092413663864}\n",
            "14500 {'loss': 0.16271880269050598, 'grad_norm': 0.013328619301319122}\n",
            "15000 {'loss': 0.0420495942234993, 'grad_norm': 0.04999952390789986}\n",
            "15500 {'loss': 0.005611856933683157, 'grad_norm': 0.013688784092664719}\n",
            "16000 {'loss': 0.037002574652433395, 'grad_norm': 0.03716915473341942}\n",
            "16500 {'loss': 0.15698827803134918, 'grad_norm': 0.020070446655154228}\n",
            "17000 {'loss': 0.09912043064832687, 'grad_norm': 0.015424804762005806}\n",
            "17500 {'loss': 0.09420730173587799, 'grad_norm': 0.02747112140059471}\n",
            "18000 {'loss': 0.09630462527275085, 'grad_norm': 0.012060648761689663}\n",
            "18500 {'loss': 0.10453327000141144, 'grad_norm': 0.012570229358971119}\n",
            "19000 {'loss': 0.025885088369250298, 'grad_norm': 0.06550925970077515}\n",
            "19500 {'loss': 0.019423967227339745, 'grad_norm': 0.049118515104055405}\n",
            "20000 {'loss': 0.17489822208881378, 'grad_norm': 0.04309516027569771}\n",
            "20500 {'loss': 0.21846528351306915, 'grad_norm': 0.10642854124307632}\n",
            "21000 {'loss': 0.02038303017616272, 'grad_norm': 0.054943330585956573}\n",
            "21500 {'loss': 0.03535432368516922, 'grad_norm': 0.030608970671892166}\n",
            "22000 {'loss': 0.14737674593925476, 'grad_norm': 0.04561138153076172}\n",
            "22500 {'loss': 0.14047756791114807, 'grad_norm': 0.01934739388525486}\n",
            "23000 {'loss': 0.1068674698472023, 'grad_norm': 0.020141972228884697}\n",
            "23500 {'loss': 0.13715505599975586, 'grad_norm': 0.027024343609809875}\n",
            "24000 {'loss': 0.16707487404346466, 'grad_norm': 0.03450039029121399}\n",
            "24500 {'loss': 0.055906958878040314, 'grad_norm': 0.08185720443725586}\n",
            "25000 {'loss': 0.00018724582332652062, 'grad_norm': 0.0007732334197498858}\n",
            "25500 {'loss': 0.00010511767322896048, 'grad_norm': 0.0003052612592000514}\n",
            "26000 {'loss': 0.01439494825899601, 'grad_norm': 0.03525624796748161}\n",
            "26500 {'loss': 0.10906461626291275, 'grad_norm': 0.0404011607170105}\n",
            "27000 {'loss': 0.12612123787403107, 'grad_norm': 0.031545959413051605}\n",
            "27500 {'loss': 0.16786718368530273, 'grad_norm': 0.045261774212121964}\n",
            "28000 {'loss': 0.00016921896894928068, 'grad_norm': 0.000717452319804579}\n",
            "28500 {'loss': 0.030651753768324852, 'grad_norm': 0.0789756029844284}\n",
            "29000 {'loss': 0.0437476746737957, 'grad_norm': 0.053262144327163696}\n",
            "29500 {'loss': 0.1060822457075119, 'grad_norm': 0.009239870123565197}\n",
            "30000 {'loss': 0.17019806802272797, 'grad_norm': 0.05705725774168968}\n",
            "30500 {'loss': 0.13237786293029785, 'grad_norm': 0.009236594662070274}\n",
            "31000 {'loss': 0.1500464379787445, 'grad_norm': 0.04613390192389488}\n",
            "31500 {'loss': 0.11729161441326141, 'grad_norm': 0.03047415427863598}\n",
            "32000 {'loss': 0.14556634426116943, 'grad_norm': 0.043383680284023285}\n",
            "32500 {'loss': 0.039517659693956375, 'grad_norm': 0.01596330665051937}\n",
            "33000 {'loss': 0.1458274871110916, 'grad_norm': 0.014558658003807068}\n",
            "33500 {'loss': 0.0874498039484024, 'grad_norm': 0.021771742030978203}\n",
            "34000 {'loss': 0.1287531852722168, 'grad_norm': 0.02621079795062542}\n",
            "34500 {'loss': 0.12526334822177887, 'grad_norm': 0.03725612908601761}\n",
            "35000 {'loss': 0.052353549748659134, 'grad_norm': 0.01635235920548439}\n",
            "35500 {'loss': 0.003723129630088806, 'grad_norm': 0.005573935341089964}\n",
            "36000 {'loss': 0.01956070028245449, 'grad_norm': 0.01609097607433796}\n",
            "36500 {'loss': 0.0638524517416954, 'grad_norm': 0.011492151767015457}\n",
            "37000 {'loss': 0.002880402375012636, 'grad_norm': 0.0043068742379546165}\n",
            "37500 {'loss': 0.0014469632878899574, 'grad_norm': 0.005914345383644104}\n",
            "38000 {'loss': 0.06878381967544556, 'grad_norm': 0.06646569818258286}\n",
            "38500 {'loss': 0.15477262437343597, 'grad_norm': 0.025642773136496544}\n",
            "39000 {'loss': 0.06093001738190651, 'grad_norm': 0.01071176864206791}\n",
            "39500 {'loss': 0.1286286860704422, 'grad_norm': 0.014183162711560726}\n",
            "40000 {'loss': 0.02053189091384411, 'grad_norm': 0.017033519223332405}\n",
            "40500 {'loss': 0.08346432447433472, 'grad_norm': 0.0645778551697731}\n",
            "41000 {'loss': 0.11283321678638458, 'grad_norm': 0.022373734042048454}\n",
            "41500 {'loss': 0.07235006988048553, 'grad_norm': 0.042742155492305756}\n",
            "42000 {'loss': 0.07476522028446198, 'grad_norm': 0.03365030512213707}\n",
            "42500 {'loss': 0.051657043397426605, 'grad_norm': 0.036391958594322205}\n",
            "43000 {'loss': 0.0059467763639986515, 'grad_norm': 0.02861762046813965}\n",
            "43500 {'loss': 0.03601478040218353, 'grad_norm': 0.0205285232514143}\n",
            "44000 {'loss': 0.09945007413625717, 'grad_norm': 0.013580074533820152}\n",
            "44500 {'loss': 0.0006285698036663234, 'grad_norm': 0.0024091864470392466}\n",
            "45000 {'loss': 0.05579095706343651, 'grad_norm': 0.016385093331336975}\n",
            "45500 {'loss': 0.049718644469976425, 'grad_norm': 0.0260933805257082}\n",
            "46000 {'loss': 0.019500941038131714, 'grad_norm': 0.012814321555197239}\n",
            "46500 {'loss': 0.0003293198242317885, 'grad_norm': 0.0011546728201210499}\n",
            "47000 {'loss': 0.10113426297903061, 'grad_norm': 0.016561325639486313}\n",
            "47500 {'loss': 0.019805939868092537, 'grad_norm': 0.005868727341294289}\n",
            "48000 {'loss': 0.05530979111790657, 'grad_norm': 0.009726820513606071}\n",
            "48500 {'loss': 0.03244379907846451, 'grad_norm': 0.039129603654146194}\n",
            "49000 {'loss': 0.07784707844257355, 'grad_norm': 0.02793487347662449}\n",
            "49500 {'loss': 0.1039632186293602, 'grad_norm': 0.022373540326952934}\n",
            "50000 {'loss': 0.12143999338150024, 'grad_norm': 0.03575722873210907}\n",
            "50500 {'loss': 0.014811213128268719, 'grad_norm': 0.010874258354306221}\n",
            "51000 {'loss': 0.029236778616905212, 'grad_norm': 0.0077597820200026035}\n",
            "51500 {'loss': 0.12531083822250366, 'grad_norm': 0.05462873727083206}\n",
            "52000 {'loss': 0.00019312840595375746, 'grad_norm': 0.0004107692220713943}\n",
            "52500 {'loss': 0.0003516020951792598, 'grad_norm': 0.003127286909148097}\n",
            "53000 {'loss': 0.001021602307446301, 'grad_norm': 0.0037209612783044577}\n",
            "53500 {'loss': 0.05539342015981674, 'grad_norm': 0.18663093447685242}\n",
            "54000 {'loss': 0.006656953599303961, 'grad_norm': 0.03755480796098709}\n",
            "54500 {'loss': 0.00172698893584311, 'grad_norm': 0.00893385149538517}\n",
            "55000 {'loss': 0.0061277239583432674, 'grad_norm': 0.1249256283044815}\n",
            "55500 {'loss': 0.0010097682243213058, 'grad_norm': 0.006001654546707869}\n",
            "56000 {'loss': 0.0008100001141428947, 'grad_norm': 0.00663791736587882}\n",
            "56500 {'loss': 0.000478308298625052, 'grad_norm': 0.002059187972918153}\n",
            "57000 {'loss': 0.0004517145571298897, 'grad_norm': 0.00224168598651886}\n",
            "57500 {'loss': 0.0009855639655143023, 'grad_norm': 0.0016818274743855}\n",
            "58000 {'loss': 0.00020866518025286496, 'grad_norm': 0.001235464122146368}\n",
            "58500 {'loss': 0.0003072403487749398, 'grad_norm': 0.0012565945507958531}\n",
            "59000 {'loss': 0.00018238845223095268, 'grad_norm': 0.000719760952051729}\n",
            "59500 {'loss': 0.0001970215525943786, 'grad_norm': 0.0009652575827203691}\n",
            "60000 {'loss': 0.0001954281615326181, 'grad_norm': 0.0007087917765602469}\n",
            "60500 {'loss': 9.746111027197912e-05, 'grad_norm': 0.0003473365504760295}\n",
            "61000 {'loss': 0.00016472498828079551, 'grad_norm': 0.0006484087207354605}\n",
            "61500 {'loss': 0.0002520806447137147, 'grad_norm': 0.0013596091885119677}\n",
            "62000 {'loss': 8.940815314417705e-05, 'grad_norm': 0.0002686520747374743}\n",
            "62500 {'loss': 0.0001294204848818481, 'grad_norm': 0.0007896912284195423}\n",
            "63000 {'loss': 0.00011489864118630067, 'grad_norm': 0.0003795559168793261}\n",
            "63258 Increasing seq length to:  20\n",
            "63500 {'loss': 0.0004629222094081342, 'grad_norm': 0.0008577635744586587}\n",
            "64000 {'loss': 0.0001326942874584347, 'grad_norm': 0.000550533295609057}\n",
            "64500 {'loss': 0.00029303255723789334, 'grad_norm': 0.00026635557878762484}\n",
            "65000 {'loss': 0.0003002905286848545, 'grad_norm': 0.0003718346997629851}\n",
            "65500 {'loss': 0.0002277154999319464, 'grad_norm': 0.0004102579550817609}\n",
            "66000 {'loss': 0.00022942158102523535, 'grad_norm': 0.0005246017826721072}\n",
            "66500 {'loss': 0.00014137860853224993, 'grad_norm': 0.0004957852652296424}\n",
            "67000 {'loss': 0.00016865937504917383, 'grad_norm': 0.00025599636137485504}\n",
            "67500 {'loss': 0.0001790845562936738, 'grad_norm': 0.0002818619832396507}\n",
            "68000 {'loss': 0.00014792846923228353, 'grad_norm': 0.00020936915825586766}\n",
            "68365 Increasing seq length to:  30\n",
            "68492 Increasing seq length to:  40\n",
            "68500 {'loss': 0.00020871494780294597, 'grad_norm': 0.0004625034343916923}\n",
            "69000 {'loss': 0.00016397501167375594, 'grad_norm': 0.0002666947548277676}\n",
            "69500 {'loss': 0.0001490223512519151, 'grad_norm': 0.00014323020877782255}\n",
            "70000 {'loss': 0.00014149733760859817, 'grad_norm': 0.00023788263206370175}\n",
            "70500 {'loss': 0.00011562593863345683, 'grad_norm': 0.00012194167356938124}\n",
            "71000 {'loss': 9.576645243214443e-05, 'grad_norm': 0.0001056962282746099}\n",
            "71274 Increasing seq length to:  50\n",
            "71500 {'loss': 0.00010179722448810935, 'grad_norm': 0.000499195943120867}\n",
            "71564 Increasing seq length to:  60\n",
            "71624 Increasing seq length to:  70\n",
            "71685 Increasing seq length to:  80\n",
            "71860 Increasing seq length to:  90\n",
            "71891 Increasing seq length to:  100\n",
            "        X:  [0. 1. 1. 1. 1. 1. 1. 1. 0. 1.]\n",
            "predicted:  [0. 1. 0. 1. 0. 1. 0. 1. 1. 0.]\n",
            "   target:  [0. 1. 0. 1. 0. 1. 0. 1. 1. 0.]\n"
          ]
        },
        {
          "output_type": "display_data",
          "data": {
            "text/plain": [
              "<Figure size 432x288 with 1 Axes>"
            ],
            "image/png": "[encoded data removed]"
          },
          "metadata": {
            "needs_background": "light"
          }
        }
      ]
    },
    {
      "cell_type": "code",
      "source": [
        "parity_net = ParityNet(hidden_dim=3)\n",
        "if CUDA:\n",
        "    parity_net.cuda()\n",
        "parity_trainer = Trainer(parity_net)\n",
        "parity_trainer.lrate = 1e-2\n",
        "losses = []\n",
        "# When set to True the net recieves an error signal after each step\n",
        "# When set to False the net recieves an error signal only once at the end\n",
        "parity_trainer.full_supervision = True\n",
        "# Gradient clipping\n",
        "parity_trainer.max_grad_norm = 0.5\n",
        "# This enables \"curriculum learning\" - we gradually train on \n",
        "# longer and longer sequences\n",
        "#\n",
        "learning_curriculum = True\n",
        "train_and_eval_parity(parity_trainer, learning_curriculum=learning_curriculum)"
      ],
      "metadata": {
        "id": "ggipbHBo1vlL",
        "outputId": "0ebd130e-1b40-4a1b-fc53-81d48c8c722f",
        "colab": {
          "base_uri": "https://localhost:8080/",
          "height": 729
        }
      },
      "execution_count": 33,
      "outputs": [
        {
          "output_type": "stream",
          "name": "stdout",
          "text": [
            "0 {'loss': 0.28102245926856995, 'grad_norm': 0.09707033634185791}\n",
            "500 {'loss': 0.2492741346359253, 'grad_norm': 0.05952465161681175}\n",
            "1000 {'loss': 0.06472056359052658, 'grad_norm': 0.03204667195677757}\n",
            "1500 {'loss': 0.08398950099945068, 'grad_norm': 0.06039011478424072}\n",
            "2000 {'loss': 0.0008925648289732635, 'grad_norm': 0.0020748202223330736}\n",
            "2500 {'loss': 0.000653084076475352, 'grad_norm': 0.0005844057304784656}\n",
            "3000 {'loss': 0.00027202608180232346, 'grad_norm': 0.00023954943753778934}\n",
            "3500 {'loss': 9.997425513574854e-05, 'grad_norm': 0.00026750206598080695}\n",
            "3772 Increasing seq length to:  20\n",
            "4000 {'loss': 0.0002542645379435271, 'grad_norm': 0.00024091804516501725}\n",
            "4341 Increasing seq length to:  30\n",
            "4500 {'loss': 0.0001759543811203912, 'grad_norm': 0.00016607888392172754}\n",
            "5000 {'loss': 0.0001533464528620243, 'grad_norm': 0.00015137640002649277}\n",
            "5157 Increasing seq length to:  40\n",
            "5500 {'loss': 0.0001211223061545752, 'grad_norm': 9.537213190924376e-05}\n",
            "5716 Increasing seq length to:  50\n",
            "5763 Increasing seq length to:  60\n",
            "5770 Increasing seq length to:  70\n",
            "6000 {'loss': 0.0001036348330671899, 'grad_norm': 8.724606595933437e-05}\n",
            "6064 Increasing seq length to:  80\n",
            "6197 Increasing seq length to:  90\n",
            "6210 Increasing seq length to:  100\n",
            "        X:  [0. 0. 1. 0. 0. 1. 0. 0. 0. 0.]\n",
            "predicted:  [0. 0. 1. 1. 1. 0. 0. 0. 0. 0.]\n",
            "   target:  [0. 0. 1. 1. 1. 0. 0. 0. 0. 0.]\n"
          ]
        },
        {
          "output_type": "display_data",
          "data": {
            "text/plain": [
              "<Figure size 432x288 with 1 Axes>"
            ],
            "image/png": "[encoded data removed]"
          },
          "metadata": {
            "needs_background": "light"
          }
        }
      ]
    },
    {
      "cell_type": "code",
      "source": [
        "parity_net = ParityNet(hidden_dim=3)\n",
        "if CUDA:\n",
        "    parity_net.cuda()\n",
        "parity_trainer = Trainer(parity_net)\n",
        "parity_trainer.lrate = 1e-2\n",
        "losses = []\n",
        "# When set to True the net recieves an error signal after each step\n",
        "# When set to False the net recieves an error signal only once at the end\n",
        "parity_trainer.full_supervision = True\n",
        "# Gradient clipping\n",
        "parity_trainer.max_grad_norm = 1.0\n",
        "# This enables \"curriculum learning\" - we gradually train on \n",
        "# longer and longer sequences\n",
        "#\n",
        "learning_curriculum = False\n",
        "train_and_eval_parity(parity_trainer, learning_curriculum=learning_curriculum)"
      ],
      "metadata": {
        "id": "EFAmxo9q0EXZ",
        "outputId": "2d4329bb-6e27-4e49-ff93-df28482d8e31",
        "colab": {
          "base_uri": "https://localhost:8080/",
          "height": 1000
        }
      },
      "execution_count": 17,
      "outputs": [
        {
          "output_type": "stream",
          "name": "stdout",
          "text": [
            "0 {'loss': 0.25963911414146423, 'grad_norm': 0.06793273240327835}\n",
            "500 {'loss': 0.24996568262577057, 'grad_norm': 0.02513108216226101}\n",
            "1000 {'loss': 0.24936193227767944, 'grad_norm': 0.007450229022651911}\n",
            "1500 {'loss': 0.2499551624059677, 'grad_norm': 0.0037280116230249405}\n",
            "2000 {'loss': 0.24332919716835022, 'grad_norm': 0.03894118592143059}\n",
            "2500 {'loss': 0.25051602721214294, 'grad_norm': 0.03541099280118942}\n",
            "3000 {'loss': 0.24836617708206177, 'grad_norm': 0.019031913951039314}\n",
            "3500 {'loss': 0.24774442613124847, 'grad_norm': 0.01539691910147667}\n",
            "4000 {'loss': 0.2506543695926666, 'grad_norm': 0.012827836908400059}\n",
            "4500 {'loss': 0.2390509843826294, 'grad_norm': 0.028724761679768562}\n",
            "5000 {'loss': 0.24623419344425201, 'grad_norm': 0.001229186076670885}\n",
            "5500 {'loss': 0.2397831827402115, 'grad_norm': 0.010113513097167015}\n",
            "6000 {'loss': 0.2468617558479309, 'grad_norm': 0.005341714713722467}\n",
            "6500 {'loss': 0.23323941230773926, 'grad_norm': 0.0040582227520644665}\n",
            "7000 {'loss': 0.2314014732837677, 'grad_norm': 0.015805358067154884}\n",
            "7500 {'loss': 0.24765869975090027, 'grad_norm': 0.031082672998309135}\n",
            "8000 {'loss': 0.23894593119621277, 'grad_norm': 0.01328481175005436}\n",
            "8500 {'loss': 0.24134334921836853, 'grad_norm': 0.008358475752174854}\n",
            "9000 {'loss': 0.24308395385742188, 'grad_norm': 0.016405142843723297}\n",
            "9500 {'loss': 0.2389865666627884, 'grad_norm': 0.004113183822482824}\n",
            "10000 {'loss': 0.2324276566505432, 'grad_norm': 0.04393487423658371}\n",
            "10500 {'loss': 0.24250443279743195, 'grad_norm': 0.03252207115292549}\n",
            "11000 {'loss': 0.23299916088581085, 'grad_norm': 0.03614925593137741}\n",
            "11500 {'loss': 0.219488263130188, 'grad_norm': 0.019134292379021645}\n",
            "12000 {'loss': 0.23946402966976166, 'grad_norm': 0.014062706381082535}\n",
            "12500 {'loss': 0.24355199933052063, 'grad_norm': 0.015465881675481796}\n",
            "13000 {'loss': 0.20393812656402588, 'grad_norm': 0.008938539773225784}\n",
            "13500 {'loss': 0.2386191338300705, 'grad_norm': 0.09068825840950012}\n",
            "14000 {'loss': 0.24369831383228302, 'grad_norm': 0.010337663814425468}\n",
            "14500 {'loss': 0.21309661865234375, 'grad_norm': 0.03996939957141876}\n",
            "15000 {'loss': 0.2434258908033371, 'grad_norm': 0.0037815594114363194}\n",
            "15500 {'loss': 0.2422563135623932, 'grad_norm': 0.04352467507123947}\n",
            "16000 {'loss': 0.24754200875759125, 'grad_norm': 0.022272435948252678}\n",
            "16500 {'loss': 0.24190478026866913, 'grad_norm': 0.003831219859421253}\n",
            "17000 {'loss': 0.24295255541801453, 'grad_norm': 0.006812591105699539}\n",
            "17500 {'loss': 0.2298920750617981, 'grad_norm': 0.02065451256930828}\n",
            "18000 {'loss': 0.21032682061195374, 'grad_norm': 0.027048425748944283}\n",
            "18500 {'loss': 0.2208273708820343, 'grad_norm': 0.010055089369416237}\n",
            "19000 {'loss': 0.24038270115852356, 'grad_norm': 0.017560772597789764}\n",
            "19500 {'loss': 0.24093705415725708, 'grad_norm': 0.017455192282795906}\n",
            "20000 {'loss': 0.2429378628730774, 'grad_norm': 0.026268035173416138}\n",
            "20500 {'loss': 0.23389777541160583, 'grad_norm': 0.02725975774228573}\n",
            "21000 {'loss': 0.22773383557796478, 'grad_norm': 0.06440924108028412}\n",
            "21500 {'loss': 0.23764760792255402, 'grad_norm': 0.02517760545015335}\n",
            "22000 {'loss': 0.2391810566186905, 'grad_norm': 0.0019195524509996176}\n",
            "22500 {'loss': 0.08134828507900238, 'grad_norm': 0.035000670701265335}\n",
            "23000 {'loss': 0.23748677968978882, 'grad_norm': 0.029132556170225143}\n",
            "23500 {'loss': 0.24191635847091675, 'grad_norm': 0.003292912384495139}\n",
            "24000 {'loss': 0.24186266958713531, 'grad_norm': 0.034954339265823364}\n",
            "24500 {'loss': 0.24368685483932495, 'grad_norm': 0.05873678997159004}\n",
            "25000 {'loss': 0.20350386202335358, 'grad_norm': 0.031209591776132584}\n",
            "25500 {'loss': 0.23331253230571747, 'grad_norm': 0.014232899993658066}\n",
            "26000 {'loss': 0.2428661435842514, 'grad_norm': 0.012788865715265274}\n",
            "26500 {'loss': 0.23191894590854645, 'grad_norm': 0.04715322330594063}\n",
            "27000 {'loss': 0.24205008149147034, 'grad_norm': 0.026689330115914345}\n",
            "27500 {'loss': 0.22944507002830505, 'grad_norm': 0.013895760290324688}\n",
            "28000 {'loss': 0.23319795727729797, 'grad_norm': 0.0199169609695673}\n",
            "28500 {'loss': 0.24371953308582306, 'grad_norm': 0.02330528013408184}\n",
            "29000 {'loss': 0.23316262662410736, 'grad_norm': 0.016866449266672134}\n",
            "29500 {'loss': 0.2398315966129303, 'grad_norm': 0.0140385115519166}\n",
            "30000 {'loss': 0.21962539851665497, 'grad_norm': 0.017060957849025726}\n",
            "30500 {'loss': 0.23930412530899048, 'grad_norm': 0.010050886310636997}\n",
            "31000 {'loss': 0.18361186981201172, 'grad_norm': 0.021887218579649925}\n",
            "31500 {'loss': 0.24118344485759735, 'grad_norm': 0.023446984589099884}\n",
            "32000 {'loss': 0.2282223403453827, 'grad_norm': 0.10595110803842545}\n",
            "32500 {'loss': 0.22958539426326752, 'grad_norm': 0.022846214473247528}\n",
            "33000 {'loss': 0.239312082529068, 'grad_norm': 0.009789727628231049}\n",
            "33500 {'loss': 0.05567748099565506, 'grad_norm': 0.07819365710020065}\n",
            "34000 {'loss': 0.002461562165990472, 'grad_norm': 0.0015530023956671357}\n",
            "34500 {'loss': 0.0011186033952981234, 'grad_norm': 0.0006957356818020344}\n",
            "35000 {'loss': 0.000713937624823302, 'grad_norm': 0.00044557201908901334}\n",
            "35500 {'loss': 0.0005289430846460164, 'grad_norm': 0.0003229915746487677}\n",
            "36000 {'loss': 0.00044112434261478484, 'grad_norm': 0.0002755700552370399}\n",
            "36500 {'loss': 0.0003536089207045734, 'grad_norm': 0.0002246334624942392}\n",
            "37000 {'loss': 0.000302124215522781, 'grad_norm': 0.00020283684716559947}\n",
            "37500 {'loss': 0.0002702544443309307, 'grad_norm': 0.000188175356015563}\n",
            "38000 {'loss': 0.00023208149650599808, 'grad_norm': 0.00017044083506334573}\n",
            "38500 {'loss': 0.0002017864608205855, 'grad_norm': 0.00018243698286823928}\n",
            "39000 {'loss': 0.0001818198652472347, 'grad_norm': 0.00011063041165471077}\n",
            "39500 {'loss': 0.00016844127094373107, 'grad_norm': 0.00012249303108546883}\n",
            "40000 {'loss': 0.00016026401135604829, 'grad_norm': 0.00010331958037568256}\n",
            "40500 {'loss': 0.0001626542507437989, 'grad_norm': 0.00016567797865718603}\n",
            "41000 {'loss': 0.00012816159869544208, 'grad_norm': 0.00013391696847975254}\n",
            "41500 {'loss': 0.00013751472579315305, 'grad_norm': 0.0001376184809487313}\n",
            "42000 {'loss': 0.00012945846538059413, 'grad_norm': 0.00023148492618929595}\n",
            "42500 {'loss': 0.0001173608034150675, 'grad_norm': 8.012522448552772e-05}\n",
            "43000 {'loss': 0.0001157102597062476, 'grad_norm': 7.51219704397954e-05}\n",
            "43500 {'loss': 9.844084706855938e-05, 'grad_norm': 7.857917080400512e-05}\n",
            "        X:  [0. 0. 0. 1. 0. 1. 1. 0. 1. 1.]\n",
            "predicted:  [0. 0. 0. 1. 1. 0. 1. 1. 0. 1.]\n",
            "   target:  [0. 0. 0. 1. 1. 0. 1. 1. 0. 1.]\n"
          ]
        },
        {
          "output_type": "display_data",
          "data": {
            "text/plain": [
              "<Figure size 432x288 with 1 Axes>"
            ],
            "image/png": "[encoded data removed]"
          },
          "metadata": {
            "needs_background": "light"
          }
        }
      ]
    },
    {
      "cell_type": "markdown",
      "source": [
        "## LSTM"
      ],
      "metadata": {
        "id": "YSMOan7qqreQ"
      }
    },
    {
      "cell_type": "code",
      "source": [
        "class LSTMCell(nn.Module):\n",
        "    def __init__(self, in_dim, hidden_dim, **kwargs):\n",
        "        super(LSTMCell, self).__init__(**kwargs)\n",
        "        self.in_to_gates = nn.Linear(in_dim, hidden_dim * 4, bias=True)\n",
        "        self.hidden_to_gates = nn.Linear(hidden_dim, hidden_dim * 4, bias=False)\n",
        "    \n",
        "        \n",
        "    def forward(self, input, hidden):\n",
        "        hx, cx = hidden\n",
        "        gates = self.in_to_gates(input) + self.hidden_to_gates(hx)\n",
        "        sigmoid = torch.nn.Sigmoid()\n",
        "        tanh = torch.nn.Tanh()\n",
        "        ingate, forgetgate, cellgate, outgate = gates.chunk(4, 1)\n",
        "        #\n",
        "        # TODO TASK 3\n",
        "        #\n",
        "        # Implement the LSTM equations\n",
        "        #\n",
        "        ingate = sigmoid(ingate) #?\n",
        "        forgetgate = sigmoid(forgetgate) #?\n",
        "        cellgate = tanh(cellgate) #?\n",
        "        outgate = sigmoid(outgate) #?\n",
        "        cy =  ingate*cellgate + forgetgate*cx #?\n",
        "        hy = outgate*tanh(cy) #?\n",
        "\n",
        "        return hy, cy"
      ],
      "metadata": {
        "id": "DKefgIqAqvPz"
      },
      "execution_count": 13,
      "outputs": []
    },
    {
      "cell_type": "code",
      "source": [
        "parity_net = ParityNet(hidden_dim=3, use_lstm=True)\n",
        "if CUDA:\n",
        "    parity_net.cuda()\n",
        "parity_trainer = Trainer(parity_net)\n",
        "losses = []\n",
        "train_and_eval_parity(parity_trainer, learning_curriculum=True)"
      ],
      "metadata": {
        "colab": {
          "base_uri": "https://localhost:8080/",
          "height": 659
        },
        "id": "Ay3bGMHjntI4",
        "outputId": "c741ba61-c5f8-49e3-8c2f-87cff0f811b9"
      },
      "execution_count": 20,
      "outputs": [
        {
          "output_type": "stream",
          "name": "stdout",
          "text": [
            "0 {'loss': 0.2986047863960266, 'grad_norm': 0.23530912399291992}\n",
            "500 {'loss': 0.1180829107761383, 'grad_norm': 0.04808144271373749}\n",
            "1000 {'loss': 0.0014751150738447905, 'grad_norm': 0.0016438075108453631}\n",
            "1500 {'loss': 0.0002681194746401161, 'grad_norm': 0.00042364507680758834}\n",
            "2000 {'loss': 0.00015877981786616147, 'grad_norm': 0.0005319073679856956}\n",
            "2500 {'loss': 0.0001988787407753989, 'grad_norm': 0.000217241162317805}\n",
            "3000 {'loss': 0.00011290512338746339, 'grad_norm': 0.00039322266820818186}\n",
            "3318 Increasing seq length to:  20\n",
            "3362 Increasing seq length to:  30\n",
            "3500 {'loss': 6.213184678927064e-05, 'grad_norm': 0.0002055937220575288}\n",
            "3818 Increasing seq length to:  40\n",
            "3862 Increasing seq length to:  50\n",
            "3910 Increasing seq length to:  60\n",
            "3922 Increasing seq length to:  70\n",
            "3984 Increasing seq length to:  80\n",
            "4000 {'loss': 9.832478099269792e-05, 'grad_norm': 0.00011340485070832074}\n",
            "4031 Increasing seq length to:  90\n",
            "4055 Increasing seq length to:  100\n",
            "        X:  [1. 0. 0. 0. 1. 1. 0. 1. 1. 1.]\n",
            "predicted:  [1. 1. 1. 1. 0. 1. 1. 0. 1. 0.]\n",
            "   target:  [1. 1. 1. 1. 0. 1. 1. 0. 1. 0.]\n"
          ]
        },
        {
          "output_type": "display_data",
          "data": {
            "text/plain": [
              "<Figure size 432x288 with 1 Axes>"
            ],
            "image/png": "[encoded data removed]"
          },
          "metadata": {
            "needs_background": "light"
          }
        }
      ]
    },
    {
      "cell_type": "code",
      "source": [
        "#without full supervision comparing both\n",
        "#RNN\n",
        "print('RNN')\n",
        "parity_net = ParityNet(hidden_dim=3)\n",
        "if CUDA:\n",
        "    parity_net.cuda()\n",
        "parity_trainer = Trainer(parity_net)\n",
        "parity_trainer.lrate = 1e-2\n",
        "losses = []\n",
        "parity_trainer.full_supervision = False\n",
        "parity_trainer.max_grad_norm = 1.0\n",
        "learning_curriculum = True\n",
        "train_and_eval_parity(parity_trainer, learning_curriculum=learning_curriculum, max_seq_len = 200)\n",
        "\n",
        "#lstm\n",
        "print('LSTM')\n",
        "plt.figure()\n",
        "parity_net = ParityNet(hidden_dim=3, use_lstm=True)\n",
        "if CUDA:\n",
        "    parity_net.cuda()\n",
        "parity_trainer = Trainer(parity_net)\n",
        "losses = []\n",
        "parity_trainer.full_supervision = False\n",
        "parity_trainer.max_grad_norm = 1.0\n",
        "train_and_eval_parity(parity_trainer, learning_curriculum=True, max_seq_len = 200)"
      ],
      "metadata": {
        "id": "3XdKPWDNJocl",
        "outputId": "22337300-f040-46d6-852e-796edf0e7d7c",
        "colab": {
          "base_uri": "https://localhost:8080/",
          "height": 1000
        }
      },
      "execution_count": 21,
      "outputs": [
        {
          "output_type": "stream",
          "name": "stdout",
          "text": [
            "RNN\n",
            "0 {'loss': 0.36084792017936707, 'grad_norm': 0.3079206943511963}\n",
            "500 {'loss': 0.2680510878562927, 'grad_norm': 0.05846027284860611}\n",
            "1000 {'loss': 0.26604199409484863, 'grad_norm': 0.05463042110204697}\n",
            "1500 {'loss': 0.2703567445278168, 'grad_norm': 0.2348761111497879}\n",
            "2000 {'loss': 0.2610200047492981, 'grad_norm': 0.033731672912836075}\n",
            "2500 {'loss': 0.27917295694351196, 'grad_norm': 0.06670939177274704}\n",
            "3000 {'loss': 0.19572432339191437, 'grad_norm': 0.12471353262662888}\n",
            "3500 {'loss': 0.23622281849384308, 'grad_norm': 0.165076345205307}\n",
            "4000 {'loss': 0.23845191299915314, 'grad_norm': 0.01980658620595932}\n",
            "4500 {'loss': 0.25688865780830383, 'grad_norm': 0.07141576707363129}\n",
            "5000 {'loss': 0.2511677145957947, 'grad_norm': 0.1890748292207718}\n",
            "5500 {'loss': 0.2618306279182434, 'grad_norm': 0.04598870500922203}\n",
            "6000 {'loss': 0.22284984588623047, 'grad_norm': 0.059545569121837616}\n",
            "6500 {'loss': 0.24621501564979553, 'grad_norm': 0.05149742588400841}\n",
            "7000 {'loss': 0.23108868300914764, 'grad_norm': 0.04716873541474342}\n",
            "7500 {'loss': 0.10219119489192963, 'grad_norm': 0.1735108643770218}\n",
            "8000 {'loss': 0.2514643669128418, 'grad_norm': 0.10955021530389786}\n",
            "8500 {'loss': 0.22848817706108093, 'grad_norm': 0.06471336632966995}\n",
            "9000 {'loss': 0.18218913674354553, 'grad_norm': 0.05220580846071243}\n",
            "9500 {'loss': 0.09394638240337372, 'grad_norm': 0.07389633357524872}\n",
            "10000 {'loss': 0.21337899565696716, 'grad_norm': 0.03865284472703934}\n",
            "10500 {'loss': 0.2509174942970276, 'grad_norm': 0.22431479394435883}\n",
            "11000 {'loss': 0.23723821341991425, 'grad_norm': 0.07229989022016525}\n",
            "11500 {'loss': 0.22985601425170898, 'grad_norm': 0.24154478311538696}\n",
            "12000 {'loss': 0.2677704691886902, 'grad_norm': 0.21162423491477966}\n",
            "12500 {'loss': 0.0004637023084796965, 'grad_norm': 0.0009202594519592822}\n",
            "13000 {'loss': 0.3231767416000366, 'grad_norm': 0.13678938150405884}\n",
            "13500 {'loss': 0.22268518805503845, 'grad_norm': 0.12611819803714752}\n",
            "14000 {'loss': 0.00018677957996260375, 'grad_norm': 0.00043037263094447553}\n",
            "14500 {'loss': 0.20006413757801056, 'grad_norm': 0.1840892732143402}\n",
            "15000 {'loss': 0.2662350535392761, 'grad_norm': 0.29505160450935364}\n",
            "15500 {'loss': 0.0161956287920475, 'grad_norm': 0.03968626633286476}\n",
            "15973 Increasing seq length to:  20\n",
            "16000 {'loss': 0.250810831785202, 'grad_norm': 0.08891262114048004}\n",
            "16500 {'loss': 0.2134605348110199, 'grad_norm': 0.11257349699735641}\n",
            "17000 {'loss': 0.021311596035957336, 'grad_norm': 0.017611835151910782}\n",
            "17500 {'loss': 0.2542981207370758, 'grad_norm': 0.15000557899475098}\n",
            "18000 {'loss': 0.24475674331188202, 'grad_norm': 0.17949166893959045}\n",
            "18500 {'loss': 0.23885586857795715, 'grad_norm': 0.33736324310302734}\n",
            "19000 {'loss': 0.24780058860778809, 'grad_norm': 0.15692786872386932}\n",
            "19500 {'loss': 0.24620702862739563, 'grad_norm': 0.19228880107402802}\n",
            "20000 {'loss': 3.3847732993308455e-05, 'grad_norm': 0.00015963759506121278}\n",
            "20500 {'loss': 0.26709407567977905, 'grad_norm': 0.16097331047058105}\n",
            "21000 {'loss': 0.2275230884552002, 'grad_norm': 0.11607763171195984}\n",
            "21500 {'loss': 0.24769949913024902, 'grad_norm': 0.09532564878463745}\n",
            "22000 {'loss': 0.2570374608039856, 'grad_norm': 0.18345291912555695}\n",
            "22500 {'loss': 0.26088830828666687, 'grad_norm': 0.08559727668762207}\n",
            "23000 {'loss': 0.22881093621253967, 'grad_norm': 0.2564575672149658}\n",
            "23500 {'loss': 0.2489383965730667, 'grad_norm': 0.1250191330909729}\n",
            "24000 {'loss': 0.21591980755329132, 'grad_norm': 0.03643547371029854}\n",
            "24500 {'loss': 0.2573748826980591, 'grad_norm': 0.07675234228372574}\n",
            "25000 {'loss': 0.2600736916065216, 'grad_norm': 0.17229515314102173}\n",
            "25500 {'loss': 0.04079597815871239, 'grad_norm': 0.05816597491502762}\n",
            "26000 {'loss': 0.2617648243904114, 'grad_norm': 0.22690892219543457}\n",
            "26500 {'loss': 0.24193456768989563, 'grad_norm': 0.11868824809789658}\n",
            "27000 {'loss': 0.2641855478286743, 'grad_norm': 0.05005422607064247}\n",
            "27500 {'loss': 0.11726228147745132, 'grad_norm': 0.17223601043224335}\n",
            "28000 {'loss': 0.2695745825767517, 'grad_norm': 0.5537489652633667}\n",
            "28500 {'loss': 0.2531425356864929, 'grad_norm': 0.07690458744764328}\n",
            "29000 {'loss': 0.2541612982749939, 'grad_norm': 0.20894651114940643}\n",
            "29500 {'loss': 0.28902438282966614, 'grad_norm': 0.23489238321781158}\n",
            "30000 {'loss': 0.24680876731872559, 'grad_norm': 0.12979459762573242}\n",
            "30500 {'loss': 0.2465820610523224, 'grad_norm': 0.09512714296579361}\n",
            "31000 {'loss': 0.24215245246887207, 'grad_norm': 0.37472447752952576}\n",
            "31500 {'loss': 0.1890445053577423, 'grad_norm': 0.092379130423069}\n",
            "32000 {'loss': 0.010644559748470783, 'grad_norm': 0.013646993786096573}\n",
            "32500 {'loss': 0.24831831455230713, 'grad_norm': 0.21776123344898224}\n",
            "33000 {'loss': 0.2498486340045929, 'grad_norm': 0.021416572853922844}\n",
            "33500 {'loss': 0.1626724749803543, 'grad_norm': 0.13514962792396545}\n",
            "34000 {'loss': 0.20910730957984924, 'grad_norm': 0.18774211406707764}\n",
            "34500 {'loss': 0.2731167674064636, 'grad_norm': 0.4050080478191376}\n",
            "35000 {'loss': 0.2653809189796448, 'grad_norm': 0.18406760692596436}\n",
            "35500 {'loss': 0.2318209856748581, 'grad_norm': 0.1928604245185852}\n",
            "36000 {'loss': 0.0006338120438158512, 'grad_norm': 0.0038745724596083164}\n",
            "36500 {'loss': 0.2511196732521057, 'grad_norm': 0.10907772183418274}\n",
            "37000 {'loss': 0.2486170083284378, 'grad_norm': 0.1739891618490219}\n",
            "37500 {'loss': 0.007008930202573538, 'grad_norm': 0.009464078582823277}\n",
            "38000 {'loss': 0.215902179479599, 'grad_norm': 0.26170530915260315}\n",
            "38500 {'loss': 0.28943464159965515, 'grad_norm': 0.41161173582077026}\n",
            "39000 {'loss': 0.016012247651815414, 'grad_norm': 0.026244090870022774}\n",
            "39500 {'loss': 0.24597854912281036, 'grad_norm': 0.23648536205291748}\n",
            "40000 {'loss': 0.2418421059846878, 'grad_norm': 0.16293850541114807}\n",
            "40500 {'loss': 0.2504633367061615, 'grad_norm': 0.07285600900650024}\n",
            "41000 {'loss': 0.2518886923789978, 'grad_norm': 0.11348402500152588}\n",
            "41500 {'loss': 0.20439203083515167, 'grad_norm': 0.10849296301603317}\n",
            "42000 {'loss': 0.2533870339393616, 'grad_norm': 0.24381645023822784}\n",
            "42500 {'loss': 0.2187366932630539, 'grad_norm': 0.5476990938186646}\n",
            "43000 {'loss': 0.2500614523887634, 'grad_norm': 0.16529905796051025}\n",
            "43500 {'loss': 0.2512602210044861, 'grad_norm': 0.18453621864318848}\n",
            "44000 {'loss': 0.2583579421043396, 'grad_norm': 0.12404759973287582}\n",
            "44500 {'loss': 0.24868333339691162, 'grad_norm': 0.1277996003627777}\n",
            "45000 {'loss': 0.24840307235717773, 'grad_norm': 0.20531238615512848}\n",
            "45500 {'loss': 0.00035043401294387877, 'grad_norm': 0.0021432340145111084}\n",
            "46000 {'loss': 0.24480274319648743, 'grad_norm': 0.36330583691596985}\n",
            "46500 {'loss': 0.0008747402462176979, 'grad_norm': 0.0053076595067977905}\n",
            "47000 {'loss': 0.2504008412361145, 'grad_norm': 0.18627624213695526}\n",
            "47500 {'loss': 0.01569090411067009, 'grad_norm': 0.05838167667388916}\n",
            "48000 {'loss': 0.23551428318023682, 'grad_norm': 0.09275078773498535}\n",
            "48500 {'loss': 0.26177677512168884, 'grad_norm': 0.20566560328006744}\n",
            "49000 {'loss': 0.2340599000453949, 'grad_norm': 0.20599253475666046}\n",
            "49500 {'loss': 0.2714402377605438, 'grad_norm': 0.4476599097251892}\n",
            "50000 {'loss': 0.08564294874668121, 'grad_norm': 0.08354668319225311}\n",
            "50500 {'loss': 0.2496686726808548, 'grad_norm': 0.11625347286462784}\n",
            "51000 {'loss': 0.22776742279529572, 'grad_norm': 0.1867745816707611}\n",
            "51500 {'loss': 0.011806496419012547, 'grad_norm': 0.03713664785027504}\n",
            "52000 {'loss': 0.2509710192680359, 'grad_norm': 0.2554601728916168}\n",
            "52500 {'loss': 0.22887210547924042, 'grad_norm': 0.10734135657548904}\n",
            "53000 {'loss': 0.015388308092951775, 'grad_norm': 0.03384211286902428}\n",
            "53500 {'loss': 0.0017260471358895302, 'grad_norm': 0.00490254582837224}\n",
            "54000 {'loss': 0.0009815105004236102, 'grad_norm': 0.0034685845021158457}\n",
            "54500 {'loss': 0.0007703562150709331, 'grad_norm': 0.0007541597587987781}\n",
            "55000 {'loss': 0.0006006615003570914, 'grad_norm': 0.0006436477415263653}\n",
            "55500 {'loss': 0.0004801346512977034, 'grad_norm': 0.0005329069099389017}\n",
            "56000 {'loss': 0.0003785790759138763, 'grad_norm': 0.0004299818829167634}\n",
            "56500 {'loss': 0.0003182459622621536, 'grad_norm': 0.000532331585418433}\n",
            "57000 {'loss': 0.00021742128592450172, 'grad_norm': 0.00029733197879977524}\n",
            "57500 {'loss': 0.00034357659751549363, 'grad_norm': 0.0004351299430709332}\n",
            "58000 {'loss': 0.0002182487369282171, 'grad_norm': 0.0003138832107651979}\n",
            "58500 {'loss': 0.00016324827447533607, 'grad_norm': 0.00033612953848205507}\n",
            "59000 {'loss': 0.00020289277017582208, 'grad_norm': 0.000658365897834301}\n",
            "59500 {'loss': 0.0001705009926808998, 'grad_norm': 0.00020539922115858644}\n",
            "60000 {'loss': 0.00013220218534115702, 'grad_norm': 0.00022394767438527197}\n",
            "60500 {'loss': 8.774243178777397e-05, 'grad_norm': 0.00021172383276280016}\n",
            "61000 {'loss': 0.0001195463482872583, 'grad_norm': 0.0003254265757277608}\n",
            "61500 {'loss': 0.00013713998487219214, 'grad_norm': 0.00030567377689294517}\n",
            "62000 {'loss': 0.0001516830816399306, 'grad_norm': 0.00014161341823637486}\n",
            "62340 Increasing seq length to:  30\n",
            "62392 Increasing seq length to:  40\n",
            "62500 {'loss': 7.64358410378918e-05, 'grad_norm': 0.00023270190285984427}\n",
            "62506 Increasing seq length to:  50\n",
            "62509 Increasing seq length to:  60\n",
            "62533 Increasing seq length to:  70\n",
            "62541 Increasing seq length to:  80\n",
            "62549 Increasing seq length to:  90\n",
            "62755 Increasing seq length to:  100\n",
            "62775 Increasing seq length to:  110\n",
            "62788 Increasing seq length to:  120\n",
            "62860 Increasing seq length to:  130\n",
            "62903 Increasing seq length to:  140\n",
            "62925 Increasing seq length to:  150\n",
            "62996 Increasing seq length to:  160\n",
            "63000 {'loss': 6.903461326146498e-05, 'grad_norm': 0.00010262076102662832}\n",
            "63001 Increasing seq length to:  170\n",
            "63044 Increasing seq length to:  180\n",
            "63077 Increasing seq length to:  190\n",
            "63109 Increasing seq length to:  200\n",
            "        X:  [1. 0. 1. 0. 1. 0. 0. 1. 1. 1.]\n",
            "predicted:  [1. 1. 0. 0. 1. 1. 1. 0. 1. 0.]\n",
            "   target:  [1. 1. 0. 0. 1. 1. 1. 0. 1. 0.]\n",
            "LSTM\n",
            "0 {'loss': 0.26421844959259033, 'grad_norm': 0.05086793750524521}\n",
            "500 {'loss': 0.25056546926498413, 'grad_norm': 0.02946026623249054}\n",
            "1000 {'loss': 0.03266483545303345, 'grad_norm': 0.058906979858875275}\n",
            "1500 {'loss': 0.000274926918791607, 'grad_norm': 0.00045009443419985473}\n",
            "2000 {'loss': 0.0002146363549400121, 'grad_norm': 0.0003822306462097913}\n",
            "2418 Increasing seq length to:  20\n",
            "2425 Increasing seq length to:  30\n",
            "2440 Increasing seq length to:  40\n",
            "2500 {'loss': 0.00012753978080581874, 'grad_norm': 0.0002260036999359727}\n",
            "2544 Increasing seq length to:  50\n",
            "2548 Increasing seq length to:  60\n",
            "2563 Increasing seq length to:  70\n",
            "2639 Increasing seq length to:  80\n",
            "2667 Increasing seq length to:  90\n",
            "2673 Increasing seq length to:  100\n",
            "2745 Increasing seq length to:  110\n",
            "2755 Increasing seq length to:  120\n",
            "2759 Increasing seq length to:  130\n",
            "2762 Increasing seq length to:  140\n",
            "2786 Increasing seq length to:  150\n",
            "2799 Increasing seq length to:  160\n",
            "2802 Increasing seq length to:  170\n",
            "2805 Increasing seq length to:  180\n",
            "2821 Increasing seq length to:  190\n",
            "2836 Increasing seq length to:  200\n",
            "        X:  [0. 1. 1. 0. 1. 1. 1. 1. 1. 1.]\n",
            "predicted:  [0. 1. 0. 0. 1. 0. 1. 0. 1. 0.]\n",
            "   target:  [0. 1. 0. 0. 1. 0. 1. 0. 1. 0.]\n"
          ]
        },
        {
          "output_type": "display_data",
          "data": {
            "text/plain": [
              "<Figure size 432x288 with 1 Axes>"
            ],
            "image/png": "[encoded data removed]"
          },
          "metadata": {
            "needs_background": "light"
          }
        },
        {
          "output_type": "display_data",
          "data": {
            "text/plain": [
              "<Figure size 432x288 with 1 Axes>"
            ],
            "image/png": "[encoded data removed]"
          },
          "metadata": {
            "needs_background": "light"
          }
        }
      ]
    },
    {
      "cell_type": "markdown",
      "source": [
        "# Problem 2. The Transformer\n",
        "\n",
        "Now we will implement the transformer and apply it for the same task:\n",
        "\n",
        "**Tasks**:\n",
        "\n",
        "1. **(2 pt)** Implement the computation of the attention vectors in the function `scaled_dot_product`.\n",
        "\n",
        "2. **(2 pt)** Implement the forward pass of the transformer encoder block in the `EncoderBlock` class.\n",
        "\n",
        "3. **(2 pt)** The parity problem is causal, ie. we only care about previous and current values to compute the current output, but the transformer processes the whole sequence as a whole. Implement a mask in the forward pass of `TransformerParityNet` so that the predictions are causal."
      ],
      "metadata": {
        "id": "pMPnwZJMxhav"
      }
    },
    {
      "cell_type": "code",
      "source": [
        "def scaled_dot_product(q, k, v, mask=None):\n",
        "    #\n",
        "    # TODO TASK 1\n",
        "    #\n",
        "    # Implement the scaled dot product score computation\n",
        "    #\n",
        "    d_k = q.size(-1)\n",
        "    \n",
        "    attn_logits = torch.matmul(q, k.transpose(-2, -1))/ math.sqrt(d_k) # calculating the attention logits\n",
        "    if mask is not None:\n",
        "        attn_logits = attn_logits.masked_fill(mask == 0, -9e15)\n",
        "    attention = F.softmax(attn_logits, dim = -1) # attension is the softmax of the attention logits\n",
        "    values = torch.matmul(attention, v) # values are the matrix multiplication of attention and the v\n",
        "    return values, attention\n",
        "\n",
        "class MultiheadAttention(nn.Module):\n",
        "\n",
        "    def __init__(self, input_dim, embed_dim, num_heads):\n",
        "        super().__init__()\n",
        "        assert embed_dim % num_heads == 0, \"Embedding dimension must be 0 modulo number of heads.\"\n",
        "\n",
        "        self.embed_dim = embed_dim\n",
        "        self.num_heads = num_heads\n",
        "        self.head_dim = embed_dim // num_heads\n",
        "\n",
        "        # Stack all weight matrices 1...h together for efficiency\n",
        "        self.qkv_proj = nn.Linear(input_dim, 3 * embed_dim)\n",
        "        self.o_proj = nn.Linear(embed_dim, embed_dim)\n",
        "\n",
        "        self._reset_parameters()\n",
        "\n",
        "    def _reset_parameters(self):\n",
        "        # Original Transformer initialization\n",
        "        nn.init.xavier_uniform_(self.qkv_proj.weight)\n",
        "        self.qkv_proj.bias.data.fill_(0)\n",
        "        nn.init.xavier_uniform_(self.o_proj.weight)\n",
        "        self.o_proj.bias.data.fill_(0)\n",
        "\n",
        "    def forward(self, x, mask=None, return_attention=False):\n",
        "        batch_size, seq_length, _ = x.size()\n",
        "        qkv = self.qkv_proj(x)\n",
        "\n",
        "        # Separate Q, K, V from linear output\n",
        "        qkv = qkv.reshape(batch_size, seq_length, self.num_heads, 3 * self.head_dim)\n",
        "        qkv = qkv.permute(0, 2, 1, 3) # [Batch, Head, SeqLen, Dims]\n",
        "        q, k, v = qkv.chunk(3, dim=-1)\n",
        "\n",
        "        # Determine value outputs\n",
        "        values, attention = scaled_dot_product(q, k, v, mask=mask)\n",
        "        values = values.permute(0, 2, 1, 3) # [Batch, SeqLen, Head, Dims]\n",
        "        values = values.reshape(batch_size, seq_length, self.embed_dim)\n",
        "        o = self.o_proj(values)\n",
        "\n",
        "        if return_attention:\n",
        "            return o, attention\n",
        "        else:\n",
        "            return o"
      ],
      "metadata": {
        "id": "-J-QEN3qA3vL"
      },
      "execution_count": 14,
      "outputs": []
    },
    {
      "cell_type": "code",
      "source": [
        "class EncoderBlock(nn.Module):\n",
        "\n",
        "    def __init__(self, input_dim, num_heads, dim_feedforward):\n",
        "        \"\"\"\n",
        "        Inputs:\n",
        "            input_dim - Dimensionality of the input\n",
        "            num_heads - Number of heads to use in the attention block\n",
        "            dim_feedforward - Dimensionality of the hidden layer in the MLP\n",
        "            dropout - Dropout probability to use in the dropout layers\n",
        "        \"\"\"\n",
        "        super().__init__()\n",
        "\n",
        "        # Attention layer\n",
        "        self.self_attn = MultiheadAttention(input_dim, input_dim, num_heads)\n",
        "\n",
        "        # Two-layer MLP\n",
        "        self.linear_net = nn.Sequential(\n",
        "            nn.Linear(input_dim, dim_feedforward),\n",
        "            nn.ReLU(inplace=True),\n",
        "            nn.Linear(dim_feedforward, input_dim)\n",
        "        )\n",
        "\n",
        "        # Layers to apply in between the main layers\n",
        "        self.norm1 = nn.LayerNorm(input_dim)\n",
        "        self.norm2 = nn.LayerNorm(input_dim)\n",
        "\n",
        "    def forward(self, x, mask=None):\n",
        "        #\n",
        "        # TODO TASK 2\n",
        "        #\n",
        "        # Implement the forward pass of the encoder block\n",
        "        #\n",
        "        # Attention part\n",
        "        x_attn = self.self_attn(x)\n",
        "        x_p = x_attn+x\n",
        "\n",
        "        # x_p = self.self_attn(x_y)\n",
        "        x = self.norm1(x_p) # normalize first before the MLP\n",
        "        # MLP part\n",
        "        x_mlp = self.linear_net(x) #pass through MLP\n",
        "        x_m = x_mlp + x #adding the residue\n",
        "        x = self.norm2(x_m) # second batch normalization\n",
        "        return x"
      ],
      "metadata": {
        "id": "Nr0wXRf1BQs7"
      },
      "execution_count": 15,
      "outputs": []
    },
    {
      "cell_type": "code",
      "source": [
        "class TransformerEncoder(nn.Module):\n",
        "\n",
        "    def __init__(self, num_layers, **block_args):\n",
        "        super().__init__()\n",
        "        self.layers = nn.ModuleList([EncoderBlock(**block_args) for _ in range(num_layers)])\n",
        "\n",
        "    def forward(self, x, mask=None):\n",
        "        for l in self.layers:\n",
        "            x = l(x, mask=mask)\n",
        "        return x\n",
        "\n",
        "    def get_attention_maps(self, x, mask=None):\n",
        "        attention_maps = []\n",
        "        for l in self.layers:\n",
        "            _, attn_map = l.self_attn(x, mask=mask, return_attention=True)\n",
        "            attention_maps.append(attn_map)\n",
        "            x = l(x)\n",
        "        return attention_maps"
      ],
      "metadata": {
        "id": "d9wlhp2TBWxC"
      },
      "execution_count": 16,
      "outputs": []
    },
    {
      "cell_type": "code",
      "source": [
        "class PositionalEncoding(nn.Module):\n",
        "\n",
        "    def __init__(self, d_model, max_len=5000):\n",
        "        \"\"\"\n",
        "        Inputs\n",
        "            d_model - Hidden dimensionality of the input.\n",
        "            max_len - Maximum length of a sequence to expect.\n",
        "        \"\"\"\n",
        "        super().__init__()\n",
        "\n",
        "        # Create matrix of [SeqLen, HiddenDim] representing the positional encoding for max_len inputs\n",
        "        pe = torch.zeros(max_len, d_model)\n",
        "        position = torch.arange(0, max_len, dtype=torch.float).unsqueeze(1)\n",
        "        div_term = torch.exp(torch.arange(0, d_model, 2).float() * (-math.log(10000.0) / d_model))\n",
        "        pe[:, 0::2] = torch.sin(position * div_term)\n",
        "        pe[:, 1::2] = torch.cos(position * div_term)\n",
        "        pe = pe.unsqueeze(0)\n",
        "\n",
        "        # register_buffer => Tensor which is not a parameter, but should be part of the modules state.\n",
        "        # Used for tensors that need to be on the same device as the module.\n",
        "        # persistent=False tells PyTorch to not add the buffer to the state dict (e.g. when we save the model)\n",
        "        self.register_buffer('pe', pe, persistent=False)\n",
        "\n",
        "    def forward(self, x):\n",
        "        x = x + self.pe[:, :x.size(1)]\n",
        "        return x"
      ],
      "metadata": {
        "id": "eykD-wLzBYJd"
      },
      "execution_count": 17,
      "outputs": []
    },
    {
      "cell_type": "code",
      "source": [
        "class TransformerParityNet(nn.Module):\n",
        "    def __init__(self, hidden_dim=512, num_layers=1, num_heads=8, **kwargs):\n",
        "        super(TransformerParityNet, self).__init__(**kwargs)\n",
        "        self.input_net = nn.Linear(1, hidden_dim)\n",
        "        # Positional encoding for sequences\n",
        "        self.positional_encoding = PositionalEncoding(d_model=hidden_dim)\n",
        "        # Transformer\n",
        "        self.transformer = TransformerEncoder(num_layers=num_layers,\n",
        "                                              input_dim=hidden_dim,\n",
        "                                              dim_feedforward=2 * hidden_dim,\n",
        "                                              num_heads=num_heads)\n",
        "        # Output classifier per sequence lement\n",
        "        self.output_net = nn.Sequential(\n",
        "            nn.Linear(hidden_dim, 1), \n",
        "            nn.Sigmoid()\n",
        "        )\n",
        "\n",
        "    def forward(self, x, mask=None, add_positional_encoding=True):\n",
        "        x = self.input_net(x)\n",
        "        if add_positional_encoding:\n",
        "            x = self.positional_encoding(x)\n",
        "        #\n",
        "        # TODO TASK 3\n",
        "        #\n",
        "        # Compute a mask that will make the transformer auto-regressive\n",
        "        #\n",
        "        mask = torch.tril(torch.ones(1, x.size(1))) # Get the lower triangular matrix of 1 as mask\n",
        "        x = self.transformer(x, mask=mask)\n",
        "        x = self.output_net(x)\n",
        "        return x\n",
        "\n",
        "    @torch.no_grad()\n",
        "    def get_attention_maps(self, x, mask=None, add_positional_encoding=True):\n",
        "        \"\"\"\n",
        "        Function for extracting the attention matrices of the whole Transformer for a single batch.\n",
        "        Input arguments same as the forward pass.\n",
        "        \"\"\"\n",
        "        x = self.input_net(x)\n",
        "        if add_positional_encoding:\n",
        "            x = self.positional_encoding(x)\n",
        "        attention_maps = self.transformer.get_attention_maps(x, mask=mask)\n",
        "        return attention_maps"
      ],
      "metadata": {
        "id": "8iWFY9NjCpHq"
      },
      "execution_count": 18,
      "outputs": []
    },
    {
      "cell_type": "code",
      "source": [
        "from torch.nn.utils.clip_grad import clip_grad_norm\n",
        "\n",
        "class TransformerTrainer(object):\n",
        "    def __init__(self, network, lr, clip_norm):\n",
        "        self.network = network\n",
        "        self.optimizer = torch.optim.Adam(self.network.parameters(), lr=lr)\n",
        "        self.criterion = nn.MSELoss()\n",
        "        self.clip_norm = clip_norm\n",
        "\n",
        "    def train_step(self, X, Y):\n",
        "        X = np_to_tensor(X).transpose(0, 1)\n",
        "        Y = np_to_tensor(Y).transpose(0, 1)\n",
        "        net = self.network\n",
        "        net.zero_grad()\n",
        "        P = net(X)\n",
        "        loss = self.criterion(P, Y)\n",
        "        loss.backward()\n",
        "        torch.nn.utils.clip_grad_norm_(net.parameters(), self.clip_norm)\n",
        "        self.optimizer.step()\n",
        "        tot_gnorm = torch.FloatTensor((0.0,))\n",
        "        if CUDA:\n",
        "            tot_gnorm = tot_gnorm.cuda()\n",
        "        for p in net.parameters():\n",
        "            tot_gnorm += torch.sum(p.grad.data**2)\n",
        "        tot_gnorm = torch.sqrt(tot_gnorm)\n",
        "        return dict(loss=loss.item(), grad_norm=tot_gnorm.item())"
      ],
      "metadata": {
        "id": "zhS0tn5vE06P"
      },
      "execution_count": 19,
      "outputs": []
    },
    {
      "cell_type": "code",
      "source": [
        "CUDA = True"
      ],
      "metadata": {
        "id": "yRpIyEsP1ELg"
      },
      "execution_count": 20,
      "outputs": []
    },
    {
      "cell_type": "code",
      "source": [
        "parity_net = TransformerParityNet(32, 3, 8)\n",
        "if CUDA:\n",
        "    parity_net.cuda()\n",
        "\n",
        "parity_trainer = TransformerTrainer(parity_net, lr=1e-3, clip_norm=1)\n",
        "\n",
        "losses = []\n",
        "train_and_eval_parity(parity_trainer, learning_curriculum=True)"
      ],
      "metadata": {
        "colab": {
          "base_uri": "https://localhost:8080/",
          "height": 816
        },
        "id": "RQFzigeHYolq",
        "outputId": "2dd4a48d-a20f-41f5-9a88-e5d6e001bfc9"
      },
      "execution_count": 56,
      "outputs": [
        {
          "output_type": "stream",
          "name": "stdout",
          "text": [
            "0 {'loss': 0.26041173934936523, 'grad_norm': 0.17670108377933502}\n",
            "500 {'loss': 0.04460505023598671, 'grad_norm': 0.16159041225910187}\n",
            "1000 {'loss': 9.015751857077703e-05, 'grad_norm': 0.0011832257732748985}\n",
            "1017 Increasing seq length to:  20\n",
            "1346 Increasing seq length to:  30\n",
            "1500 {'loss': 0.18618427217006683, 'grad_norm': 0.5762253999710083}\n",
            "1897 Increasing seq length to:  40\n",
            "2000 {'loss': 0.15011006593704224, 'grad_norm': 0.18446189165115356}\n",
            "2456 Increasing seq length to:  50\n",
            "2500 {'loss': 0.00026839927886612713, 'grad_norm': 0.025601089000701904}\n",
            "3000 {'loss': 0.020622020587325096, 'grad_norm': 0.6078693866729736}\n",
            "3500 {'loss': 0.1005520150065422, 'grad_norm': 0.9386786818504333}\n",
            "4000 Increasing seq length to:  60\n",
            "4000 {'loss': 1.1771508980018552e-05, 'grad_norm': 0.00020370655693113804}\n",
            "4500 {'loss': 0.05253048986196518, 'grad_norm': 0.32018765807151794}\n",
            "5000 {'loss': 6.521683826576918e-05, 'grad_norm': 0.00409231660887599}\n",
            "5085 Increasing seq length to:  70\n",
            "5370 Increasing seq length to:  80\n",
            "5500 {'loss': 0.1884215772151947, 'grad_norm': 0.36615830659866333}\n",
            "6000 {'loss': 0.13879096508026123, 'grad_norm': 0.14014433324337006}\n",
            "6500 {'loss': 0.19219942390918732, 'grad_norm': 0.38456687331199646}\n",
            "6733 Increasing seq length to:  90\n",
            "7000 {'loss': 0.13883592188358307, 'grad_norm': 0.9999993443489075}\n",
            "7500 {'loss': 0.14828500151634216, 'grad_norm': 0.9337466955184937}\n",
            "7850 Increasing seq length to:  100\n",
            "8000 {'loss': 1.3928589396527968e-05, 'grad_norm': 0.00021904305322095752}\n",
            "8500 {'loss': 0.000753577973227948, 'grad_norm': 0.37098193168640137}\n",
            "        X:  [1. 1. 1. 1. 0. 1. 0. 1. 0. 0.]\n",
            "predicted:  [1. 1. 1. 1. 0. 1. 0. 1. 0. 0.]\n",
            "   target:  [1. 0. 1. 0. 0. 1. 1. 0. 0. 0.]\n"
          ]
        },
        {
          "output_type": "display_data",
          "data": {
            "text/plain": [
              "<Figure size 432x288 with 1 Axes>"
            ],
            "image/png": "[encoded data removed]"
          },
          "metadata": {
            "needs_background": "light"
          }
        }
      ]
    },
    {
      "cell_type": "code",
      "source": [
        "def plot_attention_maps(input_data, attn_maps, idx=0):\n",
        "    if input_data is not None:\n",
        "        input_data = input_data[idx].detach().cpu().numpy()\n",
        "    else:\n",
        "        input_data = np.arange(attn_maps[0][idx].shape[-1])\n",
        "    attn_maps = [m[idx].detach().cpu().numpy() for m in attn_maps]\n",
        "\n",
        "    num_heads = attn_maps[0].shape[0]\n",
        "    num_layers = len(attn_maps)\n",
        "    seq_len = input_data.shape[0]\n",
        "    fig_size = 4 if num_heads == 1 else 3\n",
        "    fig, ax = plt.subplots(num_layers, num_heads, figsize=(num_heads*fig_size, num_layers*fig_size))\n",
        "    if num_layers == 1:\n",
        "        ax = [ax]\n",
        "    if num_heads == 1:\n",
        "        ax = [[a] for a in ax]\n",
        "    for row in range(num_layers):\n",
        "        for column in range(num_heads):\n",
        "            ax[row][column].imshow(attn_maps[row][column], origin='lower', vmin=0)\n",
        "            ax[row][column].set_xticks(list(range(seq_len)))\n",
        "            ax[row][column].set_xticklabels(input_data.tolist())\n",
        "            ax[row][column].set_yticks(list(range(seq_len)))\n",
        "            ax[row][column].set_yticklabels(input_data.tolist())\n",
        "            ax[row][column].set_title(f\"Layer {row+1}, Head {column+1}\")\n",
        "    fig.subplots_adjust(hspace=0.5)\n",
        "    plt.tight_layout()\n",
        "    plt.show()"
      ],
      "metadata": {
        "id": "bZrgvDUUWkPe"
      },
      "execution_count": 52,
      "outputs": []
    },
    {
      "cell_type": "code",
      "source": [
        "Xp, _ = gen_parity_examples(10, 1)\n",
        "attention_maps = parity_net.get_attention_maps(np_to_tensor(Xp).transpose(0, 1))\n",
        "plot_attention_maps(np_to_tensor(Xp).transpose(0, 1), attention_maps)"
      ],
      "metadata": {
        "colab": {
          "base_uri": "https://localhost:8080/",
          "height": 264
        },
        "id": "tyZRXqZlaA43",
        "outputId": "ee3dcfca-899a-4144-811a-ecdd915a6db1"
      },
      "execution_count": 57,
      "outputs": [
        {
          "output_type": "display_data",
          "data": {
            "text/plain": [
              "<Figure size 1728x648 with 24 Axes>"
            ],
            "image/png": "[encoded data removed]"
          },
          "metadata": {
            "needs_background": "light"
          }
        }
      ]
    },
    {
      "cell_type": "markdown",
      "source": [
        "# Some extra problems:\n",
        "\n",
        "1. **(2 pt)** We saw that training RNNs can be quite problematic due to gradient pathologies, and we studied some methods to fix these problems, such as gradient clipping and gated RNNs (like the LSTM). But there is another simple fix, what if we did not have to train the recurrent connections at all? This approach is taken in the *echo state networks* (ESNs) which perform the following computation:\n",
        "\n",
        "$$\n",
        "    \\begin{align}\n",
        "        H_t &= \\tanh(W_{xh}X_t + W_{hh} H_{t-1} + b_h) \\\\\n",
        "        O_t &= W_{xo}X_t + W_{ho}H_T + b_o\n",
        "    \\end{align}\n",
        "$$\n",
        "\n",
        "The training procedure is as follows:\n",
        "\n",
        "1. Randomly sample $W_{hh}$ and $W_{xh}$.\n",
        "2. Rescale $W_{hh}$ to have the largest eigenvalue close to 1\n",
        "3. Fit the $W_{xo}$ and $W{ho}$ using the closed-form formula for least squares (ie. the same as in linear regression).\n",
        "4. Since steps 1.-3. are super-fast, repeat them multiple times with different scaling of $W_{hh}$ and $W_{xh}$.\n",
        "\n",
        "Because $W_{hh}$ has the largest eigenvalue sligtly less than 1, the hidden states oscillate and decay slowly. This creates \"echoes\" of previous inputs that reverberate in the network. Implement the ESN algorithm and apply it to some time-series.\n",
        "\n",
        "\n",
        "2. **(1 pt)** [ChatGPT](https://chat.openai.com/chat) is an amazing deep learning model for text generation that has taken the world by storm, being the first app ever to reach 1 million users in just 5 days. \n",
        "\n",
        "    It has outstanding capabilities: from \"understanding\" and generating complex text in almost any topic and style, to debugging and writing complex code.\n",
        "\n",
        "    The working principle of the model is not that complex. It is a very large (likely ~96 layers, not disclosed AFAIK) auto-regressive transformer (as the one you'll implement in task 2.3) trained to predict upcoming text based on the previously seen text. It is something very similar to the problem of text generation we analyzed in class for RNNs, just at a massive scale. In addition to it, it was fine-tuned through human supervision and reinforcement learning to learn to better follow human queries.\n",
        "\n",
        "    In this task I invite you to have some fun with ChatGPT. Just play with it, and bring some interesting examples. Particularly interesting are failure cases, try to break the model! (not the obvious ones, like lack of up to date data, or refusing to answer queries that violate the use policy)."
      ],
      "metadata": {
        "id": "XDCjBpkJiVOP"
      }
    }
  ]
}